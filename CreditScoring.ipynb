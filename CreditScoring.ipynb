{
  "nbformat": 4,
  "nbformat_minor": 0,
  "metadata": {
    "colab": {
      "name": "CreditScoring.ipynb",
      "provenance": [],
      "authorship_tag": "ABX9TyPs62+0/z+mOlgn6kSsnjmJ",
      "include_colab_link": true
    },
    "kernelspec": {
      "name": "python3",
      "display_name": "Python 3"
    },
    "language_info": {
      "name": "python"
    }
  },
  "cells": [
    {
      "cell_type": "markdown",
      "metadata": {
        "id": "view-in-github",
        "colab_type": "text"
      },
      "source": [
        "<a href=\"https://colab.research.google.com/github/turanmehdiyeva/classification-model/blob/main/CreditScoring.ipynb\" target=\"_parent\"><img src=\"https://colab.research.google.com/assets/colab-badge.svg\" alt=\"Open In Colab\"/></a>"
      ]
    },
    {
      "cell_type": "code",
      "metadata": {
        "id": "1zOJyx644SV-"
      },
      "source": [
        "import pandas as pd\n",
        "import numpy as np\n",
        "import seaborn as sns\n",
        "import matplotlib.pyplot as plt\n",
        "\n",
        "%matplotlib inline"
      ],
      "execution_count": null,
      "outputs": []
    },
    {
      "cell_type": "code",
      "metadata": {
        "id": "PV80jENQ3qhw"
      },
      "source": [
        "import xgboost as xgb"
      ],
      "execution_count": null,
      "outputs": []
    },
    {
      "cell_type": "code",
      "metadata": {
        "id": "Mak97DOC4nQH"
      },
      "source": [
        "import warnings\n",
        "warnings.filterwarnings('ignore')"
      ],
      "execution_count": null,
      "outputs": []
    },
    {
      "cell_type": "code",
      "metadata": {
        "colab": {
          "base_uri": "https://localhost:8080/",
          "height": 204
        },
        "id": "QU7H_pe74stw",
        "outputId": "d38ce8de-9c78-41ae-d01d-00b439971977"
      },
      "source": [
        "df = pd.read_csv('/content/CreditScoring.csv')\n",
        "df.head()"
      ],
      "execution_count": null,
      "outputs": [
        {
          "output_type": "execute_result",
          "data": {
            "text/html": [
              "<div>\n",
              "<style scoped>\n",
              "    .dataframe tbody tr th:only-of-type {\n",
              "        vertical-align: middle;\n",
              "    }\n",
              "\n",
              "    .dataframe tbody tr th {\n",
              "        vertical-align: top;\n",
              "    }\n",
              "\n",
              "    .dataframe thead th {\n",
              "        text-align: right;\n",
              "    }\n",
              "</style>\n",
              "<table border=\"1\" class=\"dataframe\">\n",
              "  <thead>\n",
              "    <tr style=\"text-align: right;\">\n",
              "      <th></th>\n",
              "      <th>Status</th>\n",
              "      <th>Seniority</th>\n",
              "      <th>Home</th>\n",
              "      <th>Time</th>\n",
              "      <th>Age</th>\n",
              "      <th>Marital</th>\n",
              "      <th>Records</th>\n",
              "      <th>Job</th>\n",
              "      <th>Expenses</th>\n",
              "      <th>Income</th>\n",
              "      <th>Assets</th>\n",
              "      <th>Debt</th>\n",
              "      <th>Amount</th>\n",
              "      <th>Price</th>\n",
              "    </tr>\n",
              "  </thead>\n",
              "  <tbody>\n",
              "    <tr>\n",
              "      <th>0</th>\n",
              "      <td>1</td>\n",
              "      <td>9</td>\n",
              "      <td>1</td>\n",
              "      <td>60</td>\n",
              "      <td>30</td>\n",
              "      <td>2</td>\n",
              "      <td>1</td>\n",
              "      <td>3</td>\n",
              "      <td>73</td>\n",
              "      <td>129</td>\n",
              "      <td>0</td>\n",
              "      <td>0</td>\n",
              "      <td>800</td>\n",
              "      <td>846</td>\n",
              "    </tr>\n",
              "    <tr>\n",
              "      <th>1</th>\n",
              "      <td>1</td>\n",
              "      <td>17</td>\n",
              "      <td>1</td>\n",
              "      <td>60</td>\n",
              "      <td>58</td>\n",
              "      <td>3</td>\n",
              "      <td>1</td>\n",
              "      <td>1</td>\n",
              "      <td>48</td>\n",
              "      <td>131</td>\n",
              "      <td>0</td>\n",
              "      <td>0</td>\n",
              "      <td>1000</td>\n",
              "      <td>1658</td>\n",
              "    </tr>\n",
              "    <tr>\n",
              "      <th>2</th>\n",
              "      <td>2</td>\n",
              "      <td>10</td>\n",
              "      <td>2</td>\n",
              "      <td>36</td>\n",
              "      <td>46</td>\n",
              "      <td>2</td>\n",
              "      <td>2</td>\n",
              "      <td>3</td>\n",
              "      <td>90</td>\n",
              "      <td>200</td>\n",
              "      <td>3000</td>\n",
              "      <td>0</td>\n",
              "      <td>2000</td>\n",
              "      <td>2985</td>\n",
              "    </tr>\n",
              "    <tr>\n",
              "      <th>3</th>\n",
              "      <td>1</td>\n",
              "      <td>0</td>\n",
              "      <td>1</td>\n",
              "      <td>60</td>\n",
              "      <td>24</td>\n",
              "      <td>1</td>\n",
              "      <td>1</td>\n",
              "      <td>1</td>\n",
              "      <td>63</td>\n",
              "      <td>182</td>\n",
              "      <td>2500</td>\n",
              "      <td>0</td>\n",
              "      <td>900</td>\n",
              "      <td>1325</td>\n",
              "    </tr>\n",
              "    <tr>\n",
              "      <th>4</th>\n",
              "      <td>1</td>\n",
              "      <td>0</td>\n",
              "      <td>1</td>\n",
              "      <td>36</td>\n",
              "      <td>26</td>\n",
              "      <td>1</td>\n",
              "      <td>1</td>\n",
              "      <td>1</td>\n",
              "      <td>46</td>\n",
              "      <td>107</td>\n",
              "      <td>0</td>\n",
              "      <td>0</td>\n",
              "      <td>310</td>\n",
              "      <td>910</td>\n",
              "    </tr>\n",
              "  </tbody>\n",
              "</table>\n",
              "</div>"
            ],
            "text/plain": [
              "   Status  Seniority  Home  Time  Age  ...  Income  Assets  Debt  Amount  Price\n",
              "0       1          9     1    60   30  ...     129       0     0     800    846\n",
              "1       1         17     1    60   58  ...     131       0     0    1000   1658\n",
              "2       2         10     2    36   46  ...     200    3000     0    2000   2985\n",
              "3       1          0     1    60   24  ...     182    2500     0     900   1325\n",
              "4       1          0     1    36   26  ...     107       0     0     310    910\n",
              "\n",
              "[5 rows x 14 columns]"
            ]
          },
          "metadata": {},
          "execution_count": 4
        }
      ]
    },
    {
      "cell_type": "code",
      "metadata": {
        "colab": {
          "base_uri": "https://localhost:8080/",
          "height": 204
        },
        "id": "dclvmK0O40yO",
        "outputId": "79d5df62-6534-4869-8902-e7a01afa3ea8"
      },
      "source": [
        "df.columns = df.columns.str.lower()\n",
        "df.head()"
      ],
      "execution_count": null,
      "outputs": [
        {
          "output_type": "execute_result",
          "data": {
            "text/html": [
              "<div>\n",
              "<style scoped>\n",
              "    .dataframe tbody tr th:only-of-type {\n",
              "        vertical-align: middle;\n",
              "    }\n",
              "\n",
              "    .dataframe tbody tr th {\n",
              "        vertical-align: top;\n",
              "    }\n",
              "\n",
              "    .dataframe thead th {\n",
              "        text-align: right;\n",
              "    }\n",
              "</style>\n",
              "<table border=\"1\" class=\"dataframe\">\n",
              "  <thead>\n",
              "    <tr style=\"text-align: right;\">\n",
              "      <th></th>\n",
              "      <th>status</th>\n",
              "      <th>seniority</th>\n",
              "      <th>home</th>\n",
              "      <th>time</th>\n",
              "      <th>age</th>\n",
              "      <th>marital</th>\n",
              "      <th>records</th>\n",
              "      <th>job</th>\n",
              "      <th>expenses</th>\n",
              "      <th>income</th>\n",
              "      <th>assets</th>\n",
              "      <th>debt</th>\n",
              "      <th>amount</th>\n",
              "      <th>price</th>\n",
              "    </tr>\n",
              "  </thead>\n",
              "  <tbody>\n",
              "    <tr>\n",
              "      <th>0</th>\n",
              "      <td>1</td>\n",
              "      <td>9</td>\n",
              "      <td>1</td>\n",
              "      <td>60</td>\n",
              "      <td>30</td>\n",
              "      <td>2</td>\n",
              "      <td>1</td>\n",
              "      <td>3</td>\n",
              "      <td>73</td>\n",
              "      <td>129</td>\n",
              "      <td>0</td>\n",
              "      <td>0</td>\n",
              "      <td>800</td>\n",
              "      <td>846</td>\n",
              "    </tr>\n",
              "    <tr>\n",
              "      <th>1</th>\n",
              "      <td>1</td>\n",
              "      <td>17</td>\n",
              "      <td>1</td>\n",
              "      <td>60</td>\n",
              "      <td>58</td>\n",
              "      <td>3</td>\n",
              "      <td>1</td>\n",
              "      <td>1</td>\n",
              "      <td>48</td>\n",
              "      <td>131</td>\n",
              "      <td>0</td>\n",
              "      <td>0</td>\n",
              "      <td>1000</td>\n",
              "      <td>1658</td>\n",
              "    </tr>\n",
              "    <tr>\n",
              "      <th>2</th>\n",
              "      <td>2</td>\n",
              "      <td>10</td>\n",
              "      <td>2</td>\n",
              "      <td>36</td>\n",
              "      <td>46</td>\n",
              "      <td>2</td>\n",
              "      <td>2</td>\n",
              "      <td>3</td>\n",
              "      <td>90</td>\n",
              "      <td>200</td>\n",
              "      <td>3000</td>\n",
              "      <td>0</td>\n",
              "      <td>2000</td>\n",
              "      <td>2985</td>\n",
              "    </tr>\n",
              "    <tr>\n",
              "      <th>3</th>\n",
              "      <td>1</td>\n",
              "      <td>0</td>\n",
              "      <td>1</td>\n",
              "      <td>60</td>\n",
              "      <td>24</td>\n",
              "      <td>1</td>\n",
              "      <td>1</td>\n",
              "      <td>1</td>\n",
              "      <td>63</td>\n",
              "      <td>182</td>\n",
              "      <td>2500</td>\n",
              "      <td>0</td>\n",
              "      <td>900</td>\n",
              "      <td>1325</td>\n",
              "    </tr>\n",
              "    <tr>\n",
              "      <th>4</th>\n",
              "      <td>1</td>\n",
              "      <td>0</td>\n",
              "      <td>1</td>\n",
              "      <td>36</td>\n",
              "      <td>26</td>\n",
              "      <td>1</td>\n",
              "      <td>1</td>\n",
              "      <td>1</td>\n",
              "      <td>46</td>\n",
              "      <td>107</td>\n",
              "      <td>0</td>\n",
              "      <td>0</td>\n",
              "      <td>310</td>\n",
              "      <td>910</td>\n",
              "    </tr>\n",
              "  </tbody>\n",
              "</table>\n",
              "</div>"
            ],
            "text/plain": [
              "   status  seniority  home  time  age  ...  income  assets  debt  amount  price\n",
              "0       1          9     1    60   30  ...     129       0     0     800    846\n",
              "1       1         17     1    60   58  ...     131       0     0    1000   1658\n",
              "2       2         10     2    36   46  ...     200    3000     0    2000   2985\n",
              "3       1          0     1    60   24  ...     182    2500     0     900   1325\n",
              "4       1          0     1    36   26  ...     107       0     0     310    910\n",
              "\n",
              "[5 rows x 14 columns]"
            ]
          },
          "metadata": {},
          "execution_count": 5
        }
      ]
    },
    {
      "cell_type": "code",
      "metadata": {
        "id": "549icaNm44mC"
      },
      "source": [
        "status_values = {\n",
        "    1:'ok',\n",
        "    2:'default',\n",
        "    0:'unk'\n",
        "}\n",
        "\n",
        "df.status = df.status.map(status_values)\n",
        "\n",
        "home_values = {\n",
        "    1:'rent',\n",
        "    2:'owner',\n",
        "    3:'private',\n",
        "    4:'ignore',\n",
        "    5:'parents',\n",
        "    6:'other',\n",
        "    0:'unk'\n",
        "}\n",
        "\n",
        "df.home = df.home.map(home_values)\n",
        "\n",
        "martial_values = {\n",
        "    1:'single',\n",
        "    2:'married',\n",
        "    3:'widow',\n",
        "    4:'separated',\n",
        "    5:'divorced',\n",
        "    0:'unk'\n",
        "}\n",
        "\n",
        "df.marital = df.marital.map(martial_values)\n",
        "\n",
        "record_values = {\n",
        "    1:'no',\n",
        "    2:'yes',\n",
        "    0:'unk'\n",
        "}\n",
        "\n",
        "df.records = df.records.map(record_values)\n",
        "\n",
        "job_values = {\n",
        "    1:'fixed',\n",
        "    2:'partime',\n",
        "    3:'freelance',\n",
        "    4:'others',\n",
        "    0:'unk'\n",
        "}\n",
        "\n",
        "df.job = df.job.map(job_values)"
      ],
      "execution_count": null,
      "outputs": []
    },
    {
      "cell_type": "code",
      "metadata": {
        "colab": {
          "base_uri": "https://localhost:8080/",
          "height": 204
        },
        "id": "9CBspVyT5E4x",
        "outputId": "5115b9e0-085f-48ff-dac3-7e88956e1b03"
      },
      "source": [
        "df.head()"
      ],
      "execution_count": null,
      "outputs": [
        {
          "output_type": "execute_result",
          "data": {
            "text/html": [
              "<div>\n",
              "<style scoped>\n",
              "    .dataframe tbody tr th:only-of-type {\n",
              "        vertical-align: middle;\n",
              "    }\n",
              "\n",
              "    .dataframe tbody tr th {\n",
              "        vertical-align: top;\n",
              "    }\n",
              "\n",
              "    .dataframe thead th {\n",
              "        text-align: right;\n",
              "    }\n",
              "</style>\n",
              "<table border=\"1\" class=\"dataframe\">\n",
              "  <thead>\n",
              "    <tr style=\"text-align: right;\">\n",
              "      <th></th>\n",
              "      <th>status</th>\n",
              "      <th>seniority</th>\n",
              "      <th>home</th>\n",
              "      <th>time</th>\n",
              "      <th>age</th>\n",
              "      <th>marital</th>\n",
              "      <th>records</th>\n",
              "      <th>job</th>\n",
              "      <th>expenses</th>\n",
              "      <th>income</th>\n",
              "      <th>assets</th>\n",
              "      <th>debt</th>\n",
              "      <th>amount</th>\n",
              "      <th>price</th>\n",
              "    </tr>\n",
              "  </thead>\n",
              "  <tbody>\n",
              "    <tr>\n",
              "      <th>0</th>\n",
              "      <td>ok</td>\n",
              "      <td>9</td>\n",
              "      <td>rent</td>\n",
              "      <td>60</td>\n",
              "      <td>30</td>\n",
              "      <td>married</td>\n",
              "      <td>no</td>\n",
              "      <td>freelance</td>\n",
              "      <td>73</td>\n",
              "      <td>129</td>\n",
              "      <td>0</td>\n",
              "      <td>0</td>\n",
              "      <td>800</td>\n",
              "      <td>846</td>\n",
              "    </tr>\n",
              "    <tr>\n",
              "      <th>1</th>\n",
              "      <td>ok</td>\n",
              "      <td>17</td>\n",
              "      <td>rent</td>\n",
              "      <td>60</td>\n",
              "      <td>58</td>\n",
              "      <td>widow</td>\n",
              "      <td>no</td>\n",
              "      <td>fixed</td>\n",
              "      <td>48</td>\n",
              "      <td>131</td>\n",
              "      <td>0</td>\n",
              "      <td>0</td>\n",
              "      <td>1000</td>\n",
              "      <td>1658</td>\n",
              "    </tr>\n",
              "    <tr>\n",
              "      <th>2</th>\n",
              "      <td>default</td>\n",
              "      <td>10</td>\n",
              "      <td>owner</td>\n",
              "      <td>36</td>\n",
              "      <td>46</td>\n",
              "      <td>married</td>\n",
              "      <td>yes</td>\n",
              "      <td>freelance</td>\n",
              "      <td>90</td>\n",
              "      <td>200</td>\n",
              "      <td>3000</td>\n",
              "      <td>0</td>\n",
              "      <td>2000</td>\n",
              "      <td>2985</td>\n",
              "    </tr>\n",
              "    <tr>\n",
              "      <th>3</th>\n",
              "      <td>ok</td>\n",
              "      <td>0</td>\n",
              "      <td>rent</td>\n",
              "      <td>60</td>\n",
              "      <td>24</td>\n",
              "      <td>single</td>\n",
              "      <td>no</td>\n",
              "      <td>fixed</td>\n",
              "      <td>63</td>\n",
              "      <td>182</td>\n",
              "      <td>2500</td>\n",
              "      <td>0</td>\n",
              "      <td>900</td>\n",
              "      <td>1325</td>\n",
              "    </tr>\n",
              "    <tr>\n",
              "      <th>4</th>\n",
              "      <td>ok</td>\n",
              "      <td>0</td>\n",
              "      <td>rent</td>\n",
              "      <td>36</td>\n",
              "      <td>26</td>\n",
              "      <td>single</td>\n",
              "      <td>no</td>\n",
              "      <td>fixed</td>\n",
              "      <td>46</td>\n",
              "      <td>107</td>\n",
              "      <td>0</td>\n",
              "      <td>0</td>\n",
              "      <td>310</td>\n",
              "      <td>910</td>\n",
              "    </tr>\n",
              "  </tbody>\n",
              "</table>\n",
              "</div>"
            ],
            "text/plain": [
              "    status  seniority   home  time  age  ... income assets debt  amount  price\n",
              "0       ok          9   rent    60   30  ...    129      0    0     800    846\n",
              "1       ok         17   rent    60   58  ...    131      0    0    1000   1658\n",
              "2  default         10  owner    36   46  ...    200   3000    0    2000   2985\n",
              "3       ok          0   rent    60   24  ...    182   2500    0     900   1325\n",
              "4       ok          0   rent    36   26  ...    107      0    0     310    910\n",
              "\n",
              "[5 rows x 14 columns]"
            ]
          },
          "metadata": {},
          "execution_count": 7
        }
      ]
    },
    {
      "cell_type": "code",
      "metadata": {
        "colab": {
          "base_uri": "https://localhost:8080/",
          "height": 297
        },
        "id": "WkD1ftDY5Gsp",
        "outputId": "9a7814e8-76e2-4fc0-fa81-4fc8f2acfc3a"
      },
      "source": [
        "df.describe().round()"
      ],
      "execution_count": null,
      "outputs": [
        {
          "output_type": "execute_result",
          "data": {
            "text/html": [
              "<div>\n",
              "<style scoped>\n",
              "    .dataframe tbody tr th:only-of-type {\n",
              "        vertical-align: middle;\n",
              "    }\n",
              "\n",
              "    .dataframe tbody tr th {\n",
              "        vertical-align: top;\n",
              "    }\n",
              "\n",
              "    .dataframe thead th {\n",
              "        text-align: right;\n",
              "    }\n",
              "</style>\n",
              "<table border=\"1\" class=\"dataframe\">\n",
              "  <thead>\n",
              "    <tr style=\"text-align: right;\">\n",
              "      <th></th>\n",
              "      <th>seniority</th>\n",
              "      <th>time</th>\n",
              "      <th>age</th>\n",
              "      <th>expenses</th>\n",
              "      <th>income</th>\n",
              "      <th>assets</th>\n",
              "      <th>debt</th>\n",
              "      <th>amount</th>\n",
              "      <th>price</th>\n",
              "    </tr>\n",
              "  </thead>\n",
              "  <tbody>\n",
              "    <tr>\n",
              "      <th>count</th>\n",
              "      <td>4455.0</td>\n",
              "      <td>4455.0</td>\n",
              "      <td>4455.0</td>\n",
              "      <td>4455.0</td>\n",
              "      <td>4455.0</td>\n",
              "      <td>4455.0</td>\n",
              "      <td>4455.0</td>\n",
              "      <td>4455.0</td>\n",
              "      <td>4455.0</td>\n",
              "    </tr>\n",
              "    <tr>\n",
              "      <th>mean</th>\n",
              "      <td>8.0</td>\n",
              "      <td>46.0</td>\n",
              "      <td>37.0</td>\n",
              "      <td>56.0</td>\n",
              "      <td>763317.0</td>\n",
              "      <td>1060341.0</td>\n",
              "      <td>404382.0</td>\n",
              "      <td>1039.0</td>\n",
              "      <td>1463.0</td>\n",
              "    </tr>\n",
              "    <tr>\n",
              "      <th>std</th>\n",
              "      <td>8.0</td>\n",
              "      <td>15.0</td>\n",
              "      <td>11.0</td>\n",
              "      <td>20.0</td>\n",
              "      <td>8703625.0</td>\n",
              "      <td>10217569.0</td>\n",
              "      <td>6344253.0</td>\n",
              "      <td>475.0</td>\n",
              "      <td>628.0</td>\n",
              "    </tr>\n",
              "    <tr>\n",
              "      <th>min</th>\n",
              "      <td>0.0</td>\n",
              "      <td>6.0</td>\n",
              "      <td>18.0</td>\n",
              "      <td>35.0</td>\n",
              "      <td>0.0</td>\n",
              "      <td>0.0</td>\n",
              "      <td>0.0</td>\n",
              "      <td>100.0</td>\n",
              "      <td>105.0</td>\n",
              "    </tr>\n",
              "    <tr>\n",
              "      <th>25%</th>\n",
              "      <td>2.0</td>\n",
              "      <td>36.0</td>\n",
              "      <td>28.0</td>\n",
              "      <td>35.0</td>\n",
              "      <td>80.0</td>\n",
              "      <td>0.0</td>\n",
              "      <td>0.0</td>\n",
              "      <td>700.0</td>\n",
              "      <td>1118.0</td>\n",
              "    </tr>\n",
              "    <tr>\n",
              "      <th>50%</th>\n",
              "      <td>5.0</td>\n",
              "      <td>48.0</td>\n",
              "      <td>36.0</td>\n",
              "      <td>51.0</td>\n",
              "      <td>120.0</td>\n",
              "      <td>3500.0</td>\n",
              "      <td>0.0</td>\n",
              "      <td>1000.0</td>\n",
              "      <td>1400.0</td>\n",
              "    </tr>\n",
              "    <tr>\n",
              "      <th>75%</th>\n",
              "      <td>12.0</td>\n",
              "      <td>60.0</td>\n",
              "      <td>45.0</td>\n",
              "      <td>72.0</td>\n",
              "      <td>166.0</td>\n",
              "      <td>6000.0</td>\n",
              "      <td>0.0</td>\n",
              "      <td>1300.0</td>\n",
              "      <td>1692.0</td>\n",
              "    </tr>\n",
              "    <tr>\n",
              "      <th>max</th>\n",
              "      <td>48.0</td>\n",
              "      <td>72.0</td>\n",
              "      <td>68.0</td>\n",
              "      <td>180.0</td>\n",
              "      <td>99999999.0</td>\n",
              "      <td>99999999.0</td>\n",
              "      <td>99999999.0</td>\n",
              "      <td>5000.0</td>\n",
              "      <td>11140.0</td>\n",
              "    </tr>\n",
              "  </tbody>\n",
              "</table>\n",
              "</div>"
            ],
            "text/plain": [
              "       seniority    time     age  ...        debt  amount    price\n",
              "count     4455.0  4455.0  4455.0  ...      4455.0  4455.0   4455.0\n",
              "mean         8.0    46.0    37.0  ...    404382.0  1039.0   1463.0\n",
              "std          8.0    15.0    11.0  ...   6344253.0   475.0    628.0\n",
              "min          0.0     6.0    18.0  ...         0.0   100.0    105.0\n",
              "25%          2.0    36.0    28.0  ...         0.0   700.0   1118.0\n",
              "50%          5.0    48.0    36.0  ...         0.0  1000.0   1400.0\n",
              "75%         12.0    60.0    45.0  ...         0.0  1300.0   1692.0\n",
              "max         48.0    72.0    68.0  ...  99999999.0  5000.0  11140.0\n",
              "\n",
              "[8 rows x 9 columns]"
            ]
          },
          "metadata": {},
          "execution_count": 8
        }
      ]
    },
    {
      "cell_type": "code",
      "metadata": {
        "id": "Sx9T3eEn5Jrs"
      },
      "source": [
        "for c in ['income','assets','debt']:\n",
        "    df[c] = df[c].replace(99999999.0, np.nan)"
      ],
      "execution_count": null,
      "outputs": []
    },
    {
      "cell_type": "code",
      "metadata": {
        "colab": {
          "base_uri": "https://localhost:8080/",
          "height": 297
        },
        "id": "L-wpyjoL5MFn",
        "outputId": "7f1df794-ee79-45d3-8782-17ae3b238c48"
      },
      "source": [
        "df.describe().round()"
      ],
      "execution_count": null,
      "outputs": [
        {
          "output_type": "execute_result",
          "data": {
            "text/html": [
              "<div>\n",
              "<style scoped>\n",
              "    .dataframe tbody tr th:only-of-type {\n",
              "        vertical-align: middle;\n",
              "    }\n",
              "\n",
              "    .dataframe tbody tr th {\n",
              "        vertical-align: top;\n",
              "    }\n",
              "\n",
              "    .dataframe thead th {\n",
              "        text-align: right;\n",
              "    }\n",
              "</style>\n",
              "<table border=\"1\" class=\"dataframe\">\n",
              "  <thead>\n",
              "    <tr style=\"text-align: right;\">\n",
              "      <th></th>\n",
              "      <th>seniority</th>\n",
              "      <th>time</th>\n",
              "      <th>age</th>\n",
              "      <th>expenses</th>\n",
              "      <th>income</th>\n",
              "      <th>assets</th>\n",
              "      <th>debt</th>\n",
              "      <th>amount</th>\n",
              "      <th>price</th>\n",
              "    </tr>\n",
              "  </thead>\n",
              "  <tbody>\n",
              "    <tr>\n",
              "      <th>count</th>\n",
              "      <td>4455.0</td>\n",
              "      <td>4455.0</td>\n",
              "      <td>4455.0</td>\n",
              "      <td>4455.0</td>\n",
              "      <td>4421.0</td>\n",
              "      <td>4408.0</td>\n",
              "      <td>4437.0</td>\n",
              "      <td>4455.0</td>\n",
              "      <td>4455.0</td>\n",
              "    </tr>\n",
              "    <tr>\n",
              "      <th>mean</th>\n",
              "      <td>8.0</td>\n",
              "      <td>46.0</td>\n",
              "      <td>37.0</td>\n",
              "      <td>56.0</td>\n",
              "      <td>131.0</td>\n",
              "      <td>5403.0</td>\n",
              "      <td>343.0</td>\n",
              "      <td>1039.0</td>\n",
              "      <td>1463.0</td>\n",
              "    </tr>\n",
              "    <tr>\n",
              "      <th>std</th>\n",
              "      <td>8.0</td>\n",
              "      <td>15.0</td>\n",
              "      <td>11.0</td>\n",
              "      <td>20.0</td>\n",
              "      <td>86.0</td>\n",
              "      <td>11573.0</td>\n",
              "      <td>1246.0</td>\n",
              "      <td>475.0</td>\n",
              "      <td>628.0</td>\n",
              "    </tr>\n",
              "    <tr>\n",
              "      <th>min</th>\n",
              "      <td>0.0</td>\n",
              "      <td>6.0</td>\n",
              "      <td>18.0</td>\n",
              "      <td>35.0</td>\n",
              "      <td>0.0</td>\n",
              "      <td>0.0</td>\n",
              "      <td>0.0</td>\n",
              "      <td>100.0</td>\n",
              "      <td>105.0</td>\n",
              "    </tr>\n",
              "    <tr>\n",
              "      <th>25%</th>\n",
              "      <td>2.0</td>\n",
              "      <td>36.0</td>\n",
              "      <td>28.0</td>\n",
              "      <td>35.0</td>\n",
              "      <td>80.0</td>\n",
              "      <td>0.0</td>\n",
              "      <td>0.0</td>\n",
              "      <td>700.0</td>\n",
              "      <td>1118.0</td>\n",
              "    </tr>\n",
              "    <tr>\n",
              "      <th>50%</th>\n",
              "      <td>5.0</td>\n",
              "      <td>48.0</td>\n",
              "      <td>36.0</td>\n",
              "      <td>51.0</td>\n",
              "      <td>120.0</td>\n",
              "      <td>3000.0</td>\n",
              "      <td>0.0</td>\n",
              "      <td>1000.0</td>\n",
              "      <td>1400.0</td>\n",
              "    </tr>\n",
              "    <tr>\n",
              "      <th>75%</th>\n",
              "      <td>12.0</td>\n",
              "      <td>60.0</td>\n",
              "      <td>45.0</td>\n",
              "      <td>72.0</td>\n",
              "      <td>165.0</td>\n",
              "      <td>6000.0</td>\n",
              "      <td>0.0</td>\n",
              "      <td>1300.0</td>\n",
              "      <td>1692.0</td>\n",
              "    </tr>\n",
              "    <tr>\n",
              "      <th>max</th>\n",
              "      <td>48.0</td>\n",
              "      <td>72.0</td>\n",
              "      <td>68.0</td>\n",
              "      <td>180.0</td>\n",
              "      <td>959.0</td>\n",
              "      <td>300000.0</td>\n",
              "      <td>30000.0</td>\n",
              "      <td>5000.0</td>\n",
              "      <td>11140.0</td>\n",
              "    </tr>\n",
              "  </tbody>\n",
              "</table>\n",
              "</div>"
            ],
            "text/plain": [
              "       seniority    time     age  expenses  ...    assets     debt  amount    price\n",
              "count     4455.0  4455.0  4455.0    4455.0  ...    4408.0   4437.0  4455.0   4455.0\n",
              "mean         8.0    46.0    37.0      56.0  ...    5403.0    343.0  1039.0   1463.0\n",
              "std          8.0    15.0    11.0      20.0  ...   11573.0   1246.0   475.0    628.0\n",
              "min          0.0     6.0    18.0      35.0  ...       0.0      0.0   100.0    105.0\n",
              "25%          2.0    36.0    28.0      35.0  ...       0.0      0.0   700.0   1118.0\n",
              "50%          5.0    48.0    36.0      51.0  ...    3000.0      0.0  1000.0   1400.0\n",
              "75%         12.0    60.0    45.0      72.0  ...    6000.0      0.0  1300.0   1692.0\n",
              "max         48.0    72.0    68.0     180.0  ...  300000.0  30000.0  5000.0  11140.0\n",
              "\n",
              "[8 rows x 9 columns]"
            ]
          },
          "metadata": {},
          "execution_count": 10
        }
      ]
    },
    {
      "cell_type": "code",
      "metadata": {
        "colab": {
          "base_uri": "https://localhost:8080/"
        },
        "id": "0o98eIDz5Och",
        "outputId": "2d34f951-5ade-482a-97b0-6e7a62e59eb5"
      },
      "source": [
        "df.status.value_counts()"
      ],
      "execution_count": null,
      "outputs": [
        {
          "output_type": "execute_result",
          "data": {
            "text/plain": [
              "ok         3200\n",
              "default    1254\n",
              "unk           1\n",
              "Name: status, dtype: int64"
            ]
          },
          "metadata": {},
          "execution_count": 11
        }
      ]
    },
    {
      "cell_type": "code",
      "metadata": {
        "id": "2sJ5jRTJ5Q24"
      },
      "source": [
        "df = df[df.status != 'unk']"
      ],
      "execution_count": null,
      "outputs": []
    },
    {
      "cell_type": "markdown",
      "metadata": {
        "id": "KQDsTJYh5WQi"
      },
      "source": [
        "#### **Dataset preparation**"
      ]
    },
    {
      "cell_type": "code",
      "metadata": {
        "id": "lnc9rWgN5TO_"
      },
      "source": [
        "from sklearn.model_selection import train_test_split"
      ],
      "execution_count": null,
      "outputs": []
    },
    {
      "cell_type": "code",
      "metadata": {
        "id": "_gjFP4vO5Vh0"
      },
      "source": [
        "train_full, test_X = train_test_split(df, test_size=0.2, random_state=1)\n",
        "train_X, val_X = train_test_split(train_full, test_size=0.25, random_state=1)"
      ],
      "execution_count": null,
      "outputs": []
    },
    {
      "cell_type": "code",
      "metadata": {
        "colab": {
          "base_uri": "https://localhost:8080/"
        },
        "id": "zvnVb2_U5j1z",
        "outputId": "79aff28d-5cc5-418c-83d5-c08a165c9b4b"
      },
      "source": [
        "print(f'{len(train_X)}\\n{len(val_X)}\\n{len(test_X)}')"
      ],
      "execution_count": null,
      "outputs": [
        {
          "output_type": "stream",
          "name": "stdout",
          "text": [
            "2672\n",
            "891\n",
            "891\n"
          ]
        }
      ]
    },
    {
      "cell_type": "code",
      "metadata": {
        "id": "8ay1GqbO5l5t"
      },
      "source": [
        "train_y = (train_X.status == 'default').values.reshape(-1,1)\n",
        "val_y = (val_X.status == 'default').values.reshape(-1,1)"
      ],
      "execution_count": null,
      "outputs": []
    },
    {
      "cell_type": "code",
      "metadata": {
        "id": "WAz7F7AJ5oKH"
      },
      "source": [
        "del train_X['status']\n",
        "del val_X['status']"
      ],
      "execution_count": null,
      "outputs": []
    },
    {
      "cell_type": "code",
      "metadata": {
        "id": "xjQH1kDQ5qUO"
      },
      "source": [
        "train_X = train_X.fillna(0)\n",
        "val_X = val_X.fillna(0)"
      ],
      "execution_count": null,
      "outputs": []
    },
    {
      "cell_type": "code",
      "metadata": {
        "id": "eXvMzJWw5sO5"
      },
      "source": [
        "dict_train = train_X.to_dict(orient='records')\n",
        "dict_val = val_X.to_dict(orient='records')"
      ],
      "execution_count": null,
      "outputs": []
    },
    {
      "cell_type": "code",
      "metadata": {
        "id": "30VcoeXS5vxC"
      },
      "source": [
        "from sklearn.feature_extraction import DictVectorizer\n",
        "\n",
        "dv = DictVectorizer(sparse=False)\n",
        "\n",
        "X_train = dv.fit_transform(dict_train)\n",
        "X_val = dv.transform(dict_val)"
      ],
      "execution_count": null,
      "outputs": []
    },
    {
      "cell_type": "code",
      "metadata": {
        "id": "Wf5hsAka5ybB"
      },
      "source": [
        "from sklearn.tree import DecisionTreeClassifier"
      ],
      "execution_count": null,
      "outputs": []
    },
    {
      "cell_type": "code",
      "metadata": {
        "colab": {
          "base_uri": "https://localhost:8080/"
        },
        "id": "-UwGLY6G50mv",
        "outputId": "b0e447bd-0349-4035-9ed3-fb2c0a5a8084"
      },
      "source": [
        "dt = DecisionTreeClassifier()\n",
        "dt.fit(X_train, train_y)"
      ],
      "execution_count": null,
      "outputs": [
        {
          "output_type": "execute_result",
          "data": {
            "text/plain": [
              "DecisionTreeClassifier(ccp_alpha=0.0, class_weight=None, criterion='gini',\n",
              "                       max_depth=None, max_features=None, max_leaf_nodes=None,\n",
              "                       min_impurity_decrease=0.0, min_impurity_split=None,\n",
              "                       min_samples_leaf=1, min_samples_split=2,\n",
              "                       min_weight_fraction_leaf=0.0, presort='deprecated',\n",
              "                       random_state=None, splitter='best')"
            ]
          },
          "metadata": {},
          "execution_count": 22
        }
      ]
    },
    {
      "cell_type": "code",
      "metadata": {
        "id": "zjsOHDzl52vB"
      },
      "source": [
        "from sklearn.metrics import roc_auc_score"
      ],
      "execution_count": null,
      "outputs": []
    },
    {
      "cell_type": "code",
      "metadata": {
        "colab": {
          "base_uri": "https://localhost:8080/"
        },
        "id": "wOco_X9b55kd",
        "outputId": "c3b60ea3-98cf-45e3-9e71-b6cd2f0c8354"
      },
      "source": [
        "y_pred = dt.predict_proba(X_train)[:,1]\n",
        "roc_auc_score(train_y, y_pred)"
      ],
      "execution_count": null,
      "outputs": [
        {
          "output_type": "execute_result",
          "data": {
            "text/plain": [
              "1.0"
            ]
          },
          "metadata": {},
          "execution_count": 24
        }
      ]
    },
    {
      "cell_type": "code",
      "metadata": {
        "colab": {
          "base_uri": "https://localhost:8080/"
        },
        "id": "B4ksF4mV5743",
        "outputId": "cd220aff-24ea-4fde-c191-aa56a1ccb0a3"
      },
      "source": [
        "y_pred = dt.predict_proba(X_val)[:,1]\n",
        "roc_auc_score(val_y, y_pred)"
      ],
      "execution_count": null,
      "outputs": [
        {
          "output_type": "execute_result",
          "data": {
            "text/plain": [
              "0.650482132728304"
            ]
          },
          "metadata": {},
          "execution_count": 25
        }
      ]
    },
    {
      "cell_type": "markdown",
      "metadata": {
        "id": "wQ1dP4GH5-8Y"
      },
      "source": [
        "overfitting"
      ]
    },
    {
      "cell_type": "code",
      "metadata": {
        "colab": {
          "base_uri": "https://localhost:8080/"
        },
        "id": "pk3GIB505955",
        "outputId": "3e3fc795-80d0-4bb8-b170-d539c938b6ee"
      },
      "source": [
        "dt = DecisionTreeClassifier(max_depth=2)\n",
        "dt.fit(X_train, train_y)"
      ],
      "execution_count": null,
      "outputs": [
        {
          "output_type": "execute_result",
          "data": {
            "text/plain": [
              "DecisionTreeClassifier(ccp_alpha=0.0, class_weight=None, criterion='gini',\n",
              "                       max_depth=2, max_features=None, max_leaf_nodes=None,\n",
              "                       min_impurity_decrease=0.0, min_impurity_split=None,\n",
              "                       min_samples_leaf=1, min_samples_split=2,\n",
              "                       min_weight_fraction_leaf=0.0, presort='deprecated',\n",
              "                       random_state=None, splitter='best')"
            ]
          },
          "metadata": {},
          "execution_count": 26
        }
      ]
    },
    {
      "cell_type": "code",
      "metadata": {
        "colab": {
          "base_uri": "https://localhost:8080/"
        },
        "id": "3iHnVLzV6DCt",
        "outputId": "0a62aaec-28bc-4431-a9ca-b8dfc0905f40"
      },
      "source": [
        "from sklearn.tree import export_text\n",
        "\n",
        "tree_text = export_text(dt, feature_names=dv.feature_names_)\n",
        "print(tree_text)"
      ],
      "execution_count": null,
      "outputs": [
        {
          "output_type": "stream",
          "name": "stdout",
          "text": [
            "|--- income <= 89.50\n",
            "|   |--- seniority <= 2.50\n",
            "|   |   |--- class: True\n",
            "|   |--- seniority >  2.50\n",
            "|   |   |--- class: False\n",
            "|--- income >  89.50\n",
            "|   |--- records=no <= 0.50\n",
            "|   |   |--- class: False\n",
            "|   |--- records=no >  0.50\n",
            "|   |   |--- class: False\n",
            "\n"
          ]
        }
      ]
    },
    {
      "cell_type": "code",
      "metadata": {
        "colab": {
          "base_uri": "https://localhost:8080/"
        },
        "id": "aDh15NV16F-3",
        "outputId": "ca4f401f-2f17-4152-be9f-a6c7381f36d4"
      },
      "source": [
        "y_pred = dt.predict_proba(X_train)[:,1]\n",
        "roc_auc_score(train_y, y_pred)"
      ],
      "execution_count": null,
      "outputs": [
        {
          "output_type": "execute_result",
          "data": {
            "text/plain": [
              "0.7295775678019526"
            ]
          },
          "metadata": {},
          "execution_count": 28
        }
      ]
    },
    {
      "cell_type": "code",
      "metadata": {
        "colab": {
          "base_uri": "https://localhost:8080/"
        },
        "id": "qifdR7Et6Ig2",
        "outputId": "7449c429-aba2-425d-93eb-016ad1ef3e94"
      },
      "source": [
        "y_pred = dt.predict_proba(X_val)[:,1]\n",
        "roc_auc_score(val_y, y_pred)"
      ],
      "execution_count": null,
      "outputs": [
        {
          "output_type": "execute_result",
          "data": {
            "text/plain": [
              "0.7108180500409655"
            ]
          },
          "metadata": {},
          "execution_count": 29
        }
      ]
    },
    {
      "cell_type": "code",
      "metadata": {
        "colab": {
          "base_uri": "https://localhost:8080/"
        },
        "id": "fLKJQzlN6KwR",
        "outputId": "e20395d0-93b5-4bcf-8309-ecd770baea28"
      },
      "source": [
        "for depth in [1,2,3,4,5,6,10,15,20,None]:\n",
        "    dt = DecisionTreeClassifier(max_depth=depth)\n",
        "    dt.fit(X_train, train_y)\n",
        "    y_pred = dt.predict_proba(X_val)[:,1]\n",
        "    auc = roc_auc_score(val_y, y_pred)\n",
        "    print(f'{depth}-->{auc}')"
      ],
      "execution_count": null,
      "outputs": [
        {
          "output_type": "stream",
          "name": "stdout",
          "text": [
            "1-->0.6159103800340329\n",
            "2-->0.7108180500409655\n",
            "3-->0.7519852524106636\n",
            "4-->0.7728934266086847\n",
            "5-->0.7654030377513077\n",
            "6-->0.7373952227894371\n",
            "10-->0.6572635028675868\n",
            "15-->0.6417564757042918\n",
            "20-->0.6495241696603011\n",
            "None-->0.6497069389298543\n"
          ]
        }
      ]
    },
    {
      "cell_type": "code",
      "metadata": {
        "colab": {
          "base_uri": "https://localhost:8080/"
        },
        "id": "QUfLrMba6ONR",
        "outputId": "52d362be-c7aa-46fe-9d1b-b219054b093a"
      },
      "source": [
        "for m in [3,4,5]:\n",
        "    print(f'depth: {m}')\n",
        "    \n",
        "    for s in [1,5,10,15,20,50,100,200]:\n",
        "        dt=DecisionTreeClassifier(max_depth=m, min_samples_leaf=s)\n",
        "        dt.fit(X_train, train_y)\n",
        "        y_pred = dt.predict_proba(X_val)[:,1]\n",
        "        auc = roc_auc_score(val_y, y_pred)\n",
        "        print(f'{s}-->{auc}')\n",
        "        \n",
        "    print()"
      ],
      "execution_count": null,
      "outputs": [
        {
          "output_type": "stream",
          "name": "stdout",
          "text": [
            "depth: 3\n",
            "1-->0.7519852524106636\n",
            "5-->0.7519852524106636\n",
            "10-->0.7519852524106636\n",
            "15-->0.7519852524106636\n",
            "20-->0.7519852524106636\n",
            "50-->0.7519852524106636\n",
            "100-->0.7509674166509107\n",
            "200-->0.7484716707632193\n",
            "\n",
            "depth: 4\n",
            "1-->0.7728934266086847\n",
            "5-->0.7769269553160648\n",
            "10-->0.7775225310392638\n",
            "15-->0.7771632948887629\n",
            "20-->0.776662254994643\n",
            "50-->0.7716329488876283\n",
            "100-->0.7770309447280519\n",
            "200-->0.7619650847671269\n",
            "\n",
            "depth: 5\n",
            "1-->0.7654030377513077\n",
            "5-->0.7747809919959664\n",
            "10-->0.776284111678326\n",
            "15-->0.7796054704733094\n",
            "20-->0.7786286002394908\n",
            "50-->0.7803743618831537\n",
            "100-->0.7741665091069515\n",
            "200-->0.7619178168525872\n",
            "\n"
          ]
        }
      ]
    },
    {
      "cell_type": "code",
      "metadata": {
        "colab": {
          "base_uri": "https://localhost:8080/"
        },
        "id": "bJNeLfRD6RKO",
        "outputId": "b1636e9a-0545-42e9-f9e5-ce4e4140cc62"
      },
      "source": [
        "dt = DecisionTreeClassifier(max_depth=5, min_samples_leaf=50)\n",
        "dt.fit(X_train, train_y)"
      ],
      "execution_count": null,
      "outputs": [
        {
          "output_type": "execute_result",
          "data": {
            "text/plain": [
              "DecisionTreeClassifier(ccp_alpha=0.0, class_weight=None, criterion='gini',\n",
              "                       max_depth=5, max_features=None, max_leaf_nodes=None,\n",
              "                       min_impurity_decrease=0.0, min_impurity_split=None,\n",
              "                       min_samples_leaf=50, min_samples_split=2,\n",
              "                       min_weight_fraction_leaf=0.0, presort='deprecated',\n",
              "                       random_state=None, splitter='best')"
            ]
          },
          "metadata": {},
          "execution_count": 32
        }
      ]
    },
    {
      "cell_type": "code",
      "metadata": {
        "colab": {
          "base_uri": "https://localhost:8080/"
        },
        "id": "e-1-EJvt6WGd",
        "outputId": "e5cb375a-d3a8-49c7-bb69-41f5c31a9a5e"
      },
      "source": [
        "y_pred = dt.predict_proba(X_val)[:,1]\n",
        "roc_auc_score(val_y, y_pred)"
      ],
      "execution_count": null,
      "outputs": [
        {
          "output_type": "execute_result",
          "data": {
            "text/plain": [
              "0.7803743618831537"
            ]
          },
          "metadata": {},
          "execution_count": 33
        }
      ]
    },
    {
      "cell_type": "markdown",
      "metadata": {
        "id": "nJYl4eC06bfi"
      },
      "source": [
        "#### **Random Forest**"
      ]
    },
    {
      "cell_type": "code",
      "metadata": {
        "id": "SJB6N9jB6YEQ"
      },
      "source": [
        "from sklearn.ensemble import RandomForestClassifier"
      ],
      "execution_count": null,
      "outputs": []
    },
    {
      "cell_type": "code",
      "metadata": {
        "colab": {
          "base_uri": "https://localhost:8080/"
        },
        "id": "idHmUURY6ihe",
        "outputId": "194e4e9b-9966-424a-95ed-34943b3b2db9"
      },
      "source": [
        "rf = RandomForestClassifier(n_estimators=10)\n",
        "rf.fit(X_train, train_y)"
      ],
      "execution_count": null,
      "outputs": [
        {
          "output_type": "execute_result",
          "data": {
            "text/plain": [
              "RandomForestClassifier(bootstrap=True, ccp_alpha=0.0, class_weight=None,\n",
              "                       criterion='gini', max_depth=None, max_features='auto',\n",
              "                       max_leaf_nodes=None, max_samples=None,\n",
              "                       min_impurity_decrease=0.0, min_impurity_split=None,\n",
              "                       min_samples_leaf=1, min_samples_split=2,\n",
              "                       min_weight_fraction_leaf=0.0, n_estimators=10,\n",
              "                       n_jobs=None, oob_score=False, random_state=None,\n",
              "                       verbose=0, warm_start=False)"
            ]
          },
          "metadata": {},
          "execution_count": 35
        }
      ]
    },
    {
      "cell_type": "code",
      "metadata": {
        "colab": {
          "base_uri": "https://localhost:8080/"
        },
        "id": "NYGVKZCr6kqu",
        "outputId": "171971c2-7e18-463a-f531-01d438e640b5"
      },
      "source": [
        "y_pred = rf.predict_proba(X_val)[:,1]\n",
        "roc_auc_score(val_y, y_pred)"
      ],
      "execution_count": null,
      "outputs": [
        {
          "output_type": "execute_result",
          "data": {
            "text/plain": [
              "0.7815150942207096"
            ]
          },
          "metadata": {},
          "execution_count": 36
        }
      ]
    },
    {
      "cell_type": "code",
      "metadata": {
        "colab": {
          "base_uri": "https://localhost:8080/"
        },
        "id": "ZX0foh9K6nDD",
        "outputId": "993b0352-d1fe-4871-fce9-c05085a990b2"
      },
      "source": [
        "rf = RandomForestClassifier(n_estimators=10, random_state=3)\n",
        "rf.fit(X_train, train_y)"
      ],
      "execution_count": null,
      "outputs": [
        {
          "output_type": "execute_result",
          "data": {
            "text/plain": [
              "RandomForestClassifier(bootstrap=True, ccp_alpha=0.0, class_weight=None,\n",
              "                       criterion='gini', max_depth=None, max_features='auto',\n",
              "                       max_leaf_nodes=None, max_samples=None,\n",
              "                       min_impurity_decrease=0.0, min_impurity_split=None,\n",
              "                       min_samples_leaf=1, min_samples_split=2,\n",
              "                       min_weight_fraction_leaf=0.0, n_estimators=10,\n",
              "                       n_jobs=None, oob_score=False, random_state=3, verbose=0,\n",
              "                       warm_start=False)"
            ]
          },
          "metadata": {},
          "execution_count": 37
        }
      ]
    },
    {
      "cell_type": "code",
      "metadata": {
        "colab": {
          "base_uri": "https://localhost:8080/"
        },
        "id": "EFSUl7-H6pgC",
        "outputId": "e183da30-b855-460d-d336-badb391226a0"
      },
      "source": [
        "y_pred = rf.predict_proba(X_val)[:,1]\n",
        "roc_auc_score(val_y, y_pred)"
      ],
      "execution_count": null,
      "outputs": [
        {
          "output_type": "execute_result",
          "data": {
            "text/plain": [
              "0.7867712863175144"
            ]
          },
          "metadata": {},
          "execution_count": 38
        }
      ]
    },
    {
      "cell_type": "code",
      "metadata": {
        "colab": {
          "base_uri": "https://localhost:8080/"
        },
        "id": "8dxjjJlc6rjL",
        "outputId": "9ba69a1f-0267-48b7-affe-04646dd4a40c"
      },
      "source": [
        "aucs = []\n",
        "\n",
        "for i in range(10, 201, 10):\n",
        "    rf = RandomForestClassifier(n_estimators=i, random_state=3)\n",
        "    rf.fit(X_train, train_y)\n",
        "    \n",
        "    y_pred = rf.predict_proba(X_val)[:,1]\n",
        "    auc = roc_auc_score(val_y, y_pred)\n",
        "    print(f'{i}-->{auc}')\n",
        "    \n",
        "    aucs.append(auc)"
      ],
      "execution_count": null,
      "outputs": [
        {
          "output_type": "stream",
          "name": "stdout",
          "text": [
            "10-->0.7867712863175144\n",
            "20-->0.7908646877166445\n",
            "30-->0.8008791832104367\n",
            "40-->0.7996029495178673\n",
            "50-->0.801982101216361\n",
            "60-->0.8065355769836768\n",
            "70-->0.8068633011911515\n",
            "80-->0.812084830150627\n",
            "90-->0.8133232495115649\n",
            "100-->0.8138778597088296\n",
            "110-->0.814867334719859\n",
            "120-->0.8148358227768324\n",
            "130-->0.8146435999243713\n",
            "140-->0.812743429759879\n",
            "150-->0.8129482573895507\n",
            "160-->0.8130144324699061\n",
            "170-->0.812743429759879\n",
            "180-->0.8130175836642086\n",
            "190-->0.8132507720426041\n",
            "200-->0.8137833238797505\n"
          ]
        }
      ]
    },
    {
      "cell_type": "code",
      "metadata": {
        "colab": {
          "base_uri": "https://localhost:8080/",
          "height": 265
        },
        "id": "aqVZw4ec6tzT",
        "outputId": "83d9baea-6db5-4445-d4a6-77460bea8cbc"
      },
      "source": [
        "plt.plot(range(10,201,10), aucs)\n",
        "plt.show()"
      ],
      "execution_count": null,
      "outputs": [
        {
          "output_type": "display_data",
          "data": {
            "image/png": "[encoded data removed]",
            "text/plain": [
              "<Figure size 432x288 with 1 Axes>"
            ]
          },
          "metadata": {
            "needs_background": "light"
          }
        }
      ]
    },
    {
      "cell_type": "code",
      "metadata": {
        "colab": {
          "base_uri": "https://localhost:8080/"
        },
        "id": "toMKny7760yI",
        "outputId": "c8840cf1-fb73-4b5a-8606-d62796cd2f13"
      },
      "source": [
        "all_aucs = {}\n",
        "\n",
        "for depth in [5,10,20]:\n",
        "    print(f'depth: {depth}')\n",
        "    aucs = []\n",
        "    \n",
        "    for i in range(10, 201, 10):\n",
        "        rf = RandomForestClassifier(n_estimators=i, max_depth=depth, random_state=1)\n",
        "        rf.fit(X_train, train_y)\n",
        "        y_pred = rf.predict_proba(X_val)[:,1]\n",
        "        auc = roc_auc_score(val_y, y_pred)\n",
        "        print(f'{i}-->{auc}')\n",
        "        aucs.append(auc)\n",
        "        \n",
        "    all_aucs[depth] = aucs\n",
        "    print()"
      ],
      "execution_count": null,
      "outputs": [
        {
          "output_type": "stream",
          "name": "stdout",
          "text": [
            "depth: 5\n",
            "10-->0.8119083632696792\n",
            "20-->0.8094315245478035\n",
            "30-->0.8081710468267475\n",
            "40-->0.8092708136383691\n",
            "50-->0.8119493287956135\n",
            "60-->0.8111867397743744\n",
            "70-->0.81254175332451\n",
            "80-->0.8126173819877733\n",
            "90-->0.8143442364656204\n",
            "100-->0.8147917060565953\n",
            "110-->0.815478666414571\n",
            "120-->0.8165500724774689\n",
            "130-->0.8162286506585996\n",
            "140-->0.8164870485914161\n",
            "150-->0.8170857755089178\n",
            "160-->0.8172874519442868\n",
            "170-->0.8177349215352618\n",
            "180-->0.8185731392197644\n",
            "190-->0.8187937228209492\n",
            "200-->0.8186172559400012\n",
            "\n",
            "depth: 10\n",
            "10-->0.7991334215667738\n",
            "20-->0.8027446902376001\n",
            "30-->0.806674229532993\n",
            "40-->0.8082939434045504\n",
            "50-->0.8119871431272453\n",
            "60-->0.8132539232369067\n",
            "70-->0.8142749101909624\n",
            "80-->0.8138337429885927\n",
            "90-->0.8139786979265141\n",
            "100-->0.8149681729375433\n",
            "110-->0.8154786664145711\n",
            "120-->0.8152580828133863\n",
            "130-->0.8170416587886807\n",
            "140-->0.8171551017835761\n",
            "150-->0.8176340833175775\n",
            "160-->0.8182580197895002\n",
            "170-->0.8185983487741855\n",
            "180-->0.8191655637486608\n",
            "190-->0.8183840675616059\n",
            "200-->0.8183714627843953\n",
            "\n",
            "depth: 20\n",
            "10-->0.7820791580008823\n",
            "20-->0.7960673095103045\n",
            "30-->0.8035293376189575\n",
            "40-->0.8089872061511313\n",
            "50-->0.8134682044494864\n",
            "60-->0.813559589084263\n",
            "70-->0.8153053507279259\n",
            "80-->0.813717148799395\n",
            "90-->0.8138242894056847\n",
            "100-->0.8150217432406883\n",
            "110-->0.8150532551837146\n",
            "120-->0.8151603957900044\n",
            "130-->0.8168116216045881\n",
            "140-->0.8175111867397744\n",
            "150-->0.8171866137266024\n",
            "160-->0.817627780928972\n",
            "170-->0.817741223923867\n",
            "180-->0.8177412239238672\n",
            "190-->0.8175332450998929\n",
            "200-->0.8178073990042226\n",
            "\n"
          ]
        }
      ]
    },
    {
      "cell_type": "code",
      "metadata": {
        "colab": {
          "base_uri": "https://localhost:8080/",
          "height": 265
        },
        "id": "KkTY0JlY63ng",
        "outputId": "d5828113-2153-4332-aa48-e13b214141f0"
      },
      "source": [
        "num_trees = list(range(10,201,10))\n",
        "plt.plot(num_trees, all_aucs[5], label='depth=5')\n",
        "plt.plot(num_trees, all_aucs[10], label='depth=10')\n",
        "plt.plot(num_trees, all_aucs[20], label='depth=20')\n",
        "plt.legend()\n",
        "plt.show()"
      ],
      "execution_count": null,
      "outputs": [
        {
          "output_type": "display_data",
          "data": {
            "image/png": "[encoded data removed]",
            "text/plain": [
              "<Figure size 432x288 with 1 Axes>"
            ]
          },
          "metadata": {
            "needs_background": "light"
          }
        }
      ]
    },
    {
      "cell_type": "code",
      "metadata": {
        "colab": {
          "base_uri": "https://localhost:8080/"
        },
        "id": "WT6-4Y5p693Q",
        "outputId": "2b024af2-3f40-4cc9-9a2b-29c65a3b602f"
      },
      "source": [
        "all_aucs = {}\n",
        "\n",
        "for m in [3,5,10]:\n",
        "    print(f'min_samples_leaf: {m}')\n",
        "    aucs = []\n",
        "    \n",
        "    for i in range(10, 201, 10):\n",
        "        rf = RandomForestClassifier(n_estimators=i, max_depth=10, min_samples_leaf=m, random_state=1)\n",
        "        rf.fit(X_train, train_y)\n",
        "        y_pred = rf.predict_proba(X_val)[:,1]\n",
        "        auc = roc_auc_score(val_y, y_pred)\n",
        "        print(f'{i}-->{auc}')\n",
        "        aucs.append(auc)\n",
        "        \n",
        "    all_aucs[m] = aucs\n",
        "    print()"
      ],
      "execution_count": null,
      "outputs": [
        {
          "output_type": "stream",
          "name": "stdout",
          "text": [
            "min_samples_leaf: 3\n",
            "10-->0.8045251150185921\n",
            "20-->0.8086405747778408\n",
            "30-->0.8120690741791139\n",
            "40-->0.8169408205709965\n",
            "50-->0.8174828259910506\n",
            "60-->0.817602571374551\n",
            "70-->0.8194617760131089\n",
            "80-->0.8211066994390873\n",
            "90-->0.82116972332514\n",
            "100-->0.8218377765173001\n",
            "110-->0.8217621478540367\n",
            "120-->0.8227138085334342\n",
            "130-->0.8226759942018024\n",
            "140-->0.823804121762148\n",
            "150-->0.8246486418352555\n",
            "160-->0.8243461271822021\n",
            "170-->0.8238545408709901\n",
            "180-->0.8237789122077268\n",
            "190-->0.8229848112434612\n",
            "200-->0.822890275414382\n",
            "\n",
            "min_samples_leaf: 5\n",
            "10-->0.8144387722946997\n",
            "20-->0.8180059242452891\n",
            "30-->0.8232369067876726\n",
            "40-->0.8233062330623306\n",
            "50-->0.822909182580198\n",
            "60-->0.823539421440726\n",
            "70-->0.8226003655385392\n",
            "80-->0.8224806201550388\n",
            "90-->0.8217747526312472\n",
            "100-->0.8218251717400894\n",
            "110-->0.8217558454654315\n",
            "120-->0.8218629860717213\n",
            "130-->0.8222915484968802\n",
            "140-->0.8220772672843008\n",
            "150-->0.8220331505640638\n",
            "160-->0.8220961744501166\n",
            "170-->0.8216613096363523\n",
            "180-->0.8215604714186677\n",
            "190-->0.8215730761958783\n",
            "200-->0.8218881956261425\n",
            "\n",
            "min_samples_leaf: 10\n",
            "10-->0.8096930736749228\n",
            "20-->0.8122770530030883\n",
            "30-->0.8124409151068255\n",
            "40-->0.8137581143253293\n",
            "50-->0.8166509106951534\n",
            "60-->0.8185731392197642\n",
            "70-->0.8193357282410033\n",
            "80-->0.8212768639314298\n",
            "90-->0.8213461902060881\n",
            "100-->0.82127686393143\n",
            "110-->0.8216676120249575\n",
            "120-->0.8228272515283293\n",
            "130-->0.8223356652171172\n",
            "140-->0.8221844078905906\n",
            "150-->0.8222159198336169\n",
            "160-->0.8215100523098255\n",
            "170-->0.8215100523098253\n",
            "180-->0.822058360118485\n",
            "190-->0.8221402911703535\n",
            "200-->0.8221150816159325\n",
            "\n"
          ]
        }
      ]
    },
    {
      "cell_type": "code",
      "metadata": {
        "colab": {
          "base_uri": "https://localhost:8080/",
          "height": 265
        },
        "id": "IMZBR57I7AgW",
        "outputId": "dad2034c-231c-4d6a-a1ec-9b6f404185e3"
      },
      "source": [
        "num_trees = list(range(10,201,10))\n",
        "plt.plot(num_trees, all_aucs[3], label='min_samples_leaf=3')\n",
        "plt.plot(num_trees, all_aucs[5], label='min_samples_leaf=5')\n",
        "plt.plot(num_trees, all_aucs[10], label='min_samples_leaf=10')\n",
        "plt.legend()\n",
        "plt.show()"
      ],
      "execution_count": null,
      "outputs": [
        {
          "output_type": "display_data",
          "data": {
            "image/png": "[encoded data removed]",
            "text/plain": [
              "<Figure size 432x288 with 1 Axes>"
            ]
          },
          "metadata": {
            "needs_background": "light"
          }
        }
      ]
    },
    {
      "cell_type": "code",
      "metadata": {
        "colab": {
          "base_uri": "https://localhost:8080/"
        },
        "id": "zAHI8B3S7Gk-",
        "outputId": "44c6ae7d-5758-4e52-8121-1be84febd3b8"
      },
      "source": [
        "rf = RandomForestClassifier(n_estimators=150, max_depth=10, min_samples_leaf=3, random_state=1)\n",
        "rf.fit(X_train, train_y)\n",
        "y_pred = rf.predict_proba(X_val)[:,1]\n",
        "roc_auc_score(val_y, y_pred)"
      ],
      "execution_count": null,
      "outputs": [
        {
          "output_type": "execute_result",
          "data": {
            "text/plain": [
              "0.8246486418352555"
            ]
          },
          "metadata": {},
          "execution_count": 45
        }
      ]
    },
    {
      "cell_type": "markdown",
      "metadata": {
        "id": "68bTvOvK7l3y"
      },
      "source": [
        "#### **Gradient Boosting**"
      ]
    },
    {
      "cell_type": "code",
      "metadata": {
        "id": "P3mgalbk7JmD"
      },
      "source": [
        "dtrain = xgb.DMatrix(X_train, label=train_y, feature_names=dv.feature_names_)"
      ],
      "execution_count": null,
      "outputs": []
    },
    {
      "cell_type": "code",
      "metadata": {
        "id": "-KV9HlJA8DeY"
      },
      "source": [
        "dval = xgb.DMatrix(X_val, label=val_y, feature_names=dv.feature_names_)"
      ],
      "execution_count": null,
      "outputs": []
    },
    {
      "cell_type": "code",
      "metadata": {
        "id": "72HQnIRV8Ke_"
      },
      "source": [
        "xgb_params = {\n",
        "    'eta':0.3,\n",
        "    'max_depth':6,\n",
        "    'min_child_weight':1,\n",
        "\n",
        "    'objective':'binary:logistic',\n",
        "    'nthread':8,\n",
        "    'seed':1,\n",
        "    'silent':1\n",
        "}"
      ],
      "execution_count": null,
      "outputs": []
    },
    {
      "cell_type": "code",
      "metadata": {
        "id": "S2MCoD3U8lme"
      },
      "source": [
        "model = xgb.train(xgb_params, dtrain, num_boost_round=10)"
      ],
      "execution_count": null,
      "outputs": []
    },
    {
      "cell_type": "code",
      "metadata": {
        "id": "viU-VxJh8vlj"
      },
      "source": [
        "y_pred = model.predict(dval)"
      ],
      "execution_count": null,
      "outputs": []
    },
    {
      "cell_type": "code",
      "metadata": {
        "colab": {
          "base_uri": "https://localhost:8080/"
        },
        "id": "YGvsPxhz80pY",
        "outputId": "29c4f6c4-b812-416d-c9b5-ab8abb6ae992"
      },
      "source": [
        "roc_auc_score(val_y, y_pred)"
      ],
      "execution_count": null,
      "outputs": [
        {
          "output_type": "execute_result",
          "data": {
            "text/plain": [
              "0.8143788996029495"
            ]
          },
          "metadata": {},
          "execution_count": 51
        }
      ]
    },
    {
      "cell_type": "code",
      "metadata": {
        "id": "LjWhj-uF86el"
      },
      "source": [
        "watchlist = [(dtrain, 'train'), (dval,'val')]"
      ],
      "execution_count": null,
      "outputs": []
    },
    {
      "cell_type": "code",
      "metadata": {
        "id": "pJI6072H9FQo"
      },
      "source": [
        "xgb_params = {\n",
        "    'eta':0.3,\n",
        "    'max_depth':6,\n",
        "    'min_child_weight':1,\n",
        "\n",
        "    'objective':'binary:logistic',\n",
        "    'eval_metric':'auc',\n",
        "    'nthread':8,\n",
        "    'seed':1,\n",
        "    'silent':1\n",
        "}"
      ],
      "execution_count": null,
      "outputs": []
    },
    {
      "cell_type": "code",
      "metadata": {
        "colab": {
          "base_uri": "https://localhost:8080/"
        },
        "id": "5aXYooUS9P85",
        "outputId": "b63e0461-a78d-43e6-df26-aedc37401651"
      },
      "source": [
        "model = xgb.train(xgb_params, dtrain, num_boost_round=100, evals=watchlist, verbose_eval=10)"
      ],
      "execution_count": null,
      "outputs": [
        {
          "output_type": "stream",
          "name": "stdout",
          "text": [
            "[0]\ttrain-auc:0.866153\tval-auc:0.767685\n",
            "[10]\ttrain-auc:0.955618\tval-auc:0.812715\n",
            "[20]\ttrain-auc:0.977559\tval-auc:0.816317\n",
            "[30]\ttrain-auc:0.986453\tval-auc:0.814622\n",
            "[40]\ttrain-auc:0.994019\tval-auc:0.811212\n",
            "[50]\ttrain-auc:0.998121\tval-auc:0.80612\n",
            "[60]\ttrain-auc:0.999112\tval-auc:0.803372\n",
            "[70]\ttrain-auc:0.999551\tval-auc:0.80583\n",
            "[80]\ttrain-auc:0.999923\tval-auc:0.804267\n",
            "[90]\ttrain-auc:0.999984\tval-auc:0.803031\n",
            "[99]\ttrain-auc:0.999991\tval-auc:0.803309\n"
          ]
        }
      ]
    },
    {
      "cell_type": "markdown",
      "metadata": {
        "id": "iUnYUgTb9tp-"
      },
      "source": [
        "overfitting"
      ]
    },
    {
      "cell_type": "code",
      "metadata": {
        "id": "uuaFCoRJ9gX4"
      },
      "source": [
        "xgb_params = {\n",
        "    'eta':0.1,\n",
        "    'max_depth':6,\n",
        "    'min_child_weight':1,\n",
        "\n",
        "    'objective':'binary:logistic',\n",
        "    'eval_metric':'auc',\n",
        "    'nthread':8,\n",
        "    'seed':1,\n",
        "    'silent':1\n",
        "}"
      ],
      "execution_count": null,
      "outputs": []
    },
    {
      "cell_type": "code",
      "metadata": {
        "colab": {
          "base_uri": "https://localhost:8080/"
        },
        "id": "zIcgPcMh98UO",
        "outputId": "03a0db3b-016e-4883-9b86-dc81fc6db129"
      },
      "source": [
        "model = xgb.train(xgb_params, dtrain, num_boost_round=500, verbose_eval=10, evals=watchlist)"
      ],
      "execution_count": null,
      "outputs": [
        {
          "output_type": "stream",
          "name": "stdout",
          "text": [
            "[0]\ttrain-auc:0.866153\tval-auc:0.767685\n",
            "[10]\ttrain-auc:0.923593\tval-auc:0.801012\n",
            "[20]\ttrain-auc:0.943055\tval-auc:0.813966\n",
            "[30]\ttrain-auc:0.95758\tval-auc:0.818532\n",
            "[40]\ttrain-auc:0.965404\tval-auc:0.822878\n",
            "[50]\ttrain-auc:0.971572\tval-auc:0.823439\n",
            "[60]\ttrain-auc:0.976457\tval-auc:0.823936\n",
            "[70]\ttrain-auc:0.980851\tval-auc:0.82405\n",
            "[80]\ttrain-auc:0.984962\tval-auc:0.823571\n",
            "[90]\ttrain-auc:0.987909\tval-auc:0.821913\n",
            "[100]\ttrain-auc:0.989688\tval-auc:0.822115\n",
            "[110]\ttrain-auc:0.991342\tval-auc:0.821044\n",
            "[120]\ttrain-auc:0.993427\tval-auc:0.82221\n",
            "[130]\ttrain-auc:0.99463\tval-auc:0.821895\n",
            "[140]\ttrain-auc:0.995819\tval-auc:0.821075\n",
            "[150]\ttrain-auc:0.996792\tval-auc:0.820413\n",
            "[160]\ttrain-auc:0.997474\tval-auc:0.820445\n",
            "[170]\ttrain-auc:0.997958\tval-auc:0.81955\n",
            "[180]\ttrain-auc:0.998307\tval-auc:0.818762\n",
            "[190]\ttrain-auc:0.998663\tval-auc:0.819418\n",
            "[200]\ttrain-auc:0.99886\tval-auc:0.819336\n",
            "[210]\ttrain-auc:0.999067\tval-auc:0.819096\n",
            "[220]\ttrain-auc:0.99932\tval-auc:0.819298\n",
            "[230]\ttrain-auc:0.999509\tval-auc:0.818977\n",
            "[240]\ttrain-auc:0.999657\tval-auc:0.81996\n",
            "[250]\ttrain-auc:0.999712\tval-auc:0.820363\n",
            "[260]\ttrain-auc:0.999831\tval-auc:0.818693\n",
            "[270]\ttrain-auc:0.999858\tval-auc:0.817628\n",
            "[280]\ttrain-auc:0.999888\tval-auc:0.816506\n",
            "[290]\ttrain-auc:0.99992\tval-auc:0.816128\n",
            "[300]\ttrain-auc:0.99996\tval-auc:0.816197\n",
            "[310]\ttrain-auc:0.999974\tval-auc:0.816462\n",
            "[320]\ttrain-auc:0.999984\tval-auc:0.816771\n",
            "[330]\ttrain-auc:0.999993\tval-auc:0.81604\n",
            "[340]\ttrain-auc:0.999997\tval-auc:0.816014\n",
            "[350]\ttrain-auc:0.999998\tval-auc:0.815649\n",
            "[360]\ttrain-auc:0.999999\tval-auc:0.814817\n",
            "[370]\ttrain-auc:0.999999\tval-auc:0.814445\n",
            "[380]\ttrain-auc:0.999999\tval-auc:0.813922\n",
            "[390]\ttrain-auc:1\tval-auc:0.813638\n",
            "[400]\ttrain-auc:1\tval-auc:0.813487\n",
            "[410]\ttrain-auc:1\tval-auc:0.813235\n",
            "[420]\ttrain-auc:1\tval-auc:0.812951\n",
            "[430]\ttrain-auc:1\tval-auc:0.812094\n",
            "[440]\ttrain-auc:1\tval-auc:0.812063\n",
            "[450]\ttrain-auc:1\tval-auc:0.812334\n",
            "[460]\ttrain-auc:1\tval-auc:0.812718\n",
            "[470]\ttrain-auc:1\tval-auc:0.812561\n",
            "[480]\ttrain-auc:1\tval-auc:0.812554\n",
            "[490]\ttrain-auc:1\tval-auc:0.811666\n",
            "[499]\ttrain-auc:1\tval-auc:0.811653\n"
          ]
        }
      ]
    },
    {
      "cell_type": "code",
      "metadata": {
        "id": "Jw68JY6Y-AnN"
      },
      "source": [
        "xgb_params = {\n",
        "    'eta':0.1,\n",
        "    'max_depth':3,\n",
        "    'min_child_weight':1,\n",
        "\n",
        "    'objective':'binary:logistic',\n",
        "    'eval_metric':'auc',\n",
        "    'nthread':8,\n",
        "    'seed':1,\n",
        "    'silent':1\n",
        "}"
      ],
      "execution_count": null,
      "outputs": []
    },
    {
      "cell_type": "code",
      "metadata": {
        "colab": {
          "base_uri": "https://localhost:8080/"
        },
        "id": "MDONbxO8-oJQ",
        "outputId": "cb5b8a04-30a6-4b2b-99b3-9b27f1997547"
      },
      "source": [
        "model = xgb.train(xgb_params, dtrain, num_boost_round=500, verbose_eval=10, evals=watchlist)"
      ],
      "execution_count": null,
      "outputs": [
        {
          "output_type": "stream",
          "name": "stdout",
          "text": [
            "[0]\ttrain-auc:0.776974\tval-auc:0.751985\n",
            "[10]\ttrain-auc:0.844475\tval-auc:0.801342\n",
            "[20]\ttrain-auc:0.866013\tval-auc:0.812822\n",
            "[30]\ttrain-auc:0.880851\tval-auc:0.819162\n",
            "[40]\ttrain-auc:0.889441\tval-auc:0.822528\n",
            "[50]\ttrain-auc:0.896588\tval-auc:0.826284\n",
            "[60]\ttrain-auc:0.901936\tval-auc:0.829464\n",
            "[70]\ttrain-auc:0.905954\tval-auc:0.831083\n",
            "[80]\ttrain-auc:0.909604\tval-auc:0.831972\n",
            "[90]\ttrain-auc:0.912701\tval-auc:0.831625\n",
            "[100]\ttrain-auc:0.915312\tval-auc:0.83206\n",
            "[110]\ttrain-auc:0.918041\tval-auc:0.833327\n",
            "[120]\ttrain-auc:0.92017\tval-auc:0.832905\n",
            "[130]\ttrain-auc:0.922977\tval-auc:0.833648\n",
            "[140]\ttrain-auc:0.924937\tval-auc:0.833352\n",
            "[150]\ttrain-auc:0.927336\tval-auc:0.83264\n",
            "[160]\ttrain-auc:0.92944\tval-auc:0.832073\n",
            "[170]\ttrain-auc:0.931873\tval-auc:0.832136\n",
            "[180]\ttrain-auc:0.93357\tval-auc:0.831915\n",
            "[190]\ttrain-auc:0.935905\tval-auc:0.831291\n",
            "[200]\ttrain-auc:0.937272\tval-auc:0.83092\n",
            "[210]\ttrain-auc:0.939048\tval-auc:0.831317\n",
            "[220]\ttrain-auc:0.94087\tval-auc:0.831172\n",
            "[230]\ttrain-auc:0.94243\tval-auc:0.830579\n",
            "[240]\ttrain-auc:0.944158\tval-auc:0.830585\n",
            "[250]\ttrain-auc:0.945461\tval-auc:0.830825\n",
            "[260]\ttrain-auc:0.946842\tval-auc:0.830327\n",
            "[270]\ttrain-auc:0.948315\tval-auc:0.830296\n",
            "[280]\ttrain-auc:0.949301\tval-auc:0.829842\n",
            "[290]\ttrain-auc:0.950824\tval-auc:0.830006\n",
            "[300]\ttrain-auc:0.952609\tval-auc:0.829073\n",
            "[310]\ttrain-auc:0.953631\tval-auc:0.82923\n",
            "[320]\ttrain-auc:0.955049\tval-auc:0.828676\n",
            "[330]\ttrain-auc:0.956673\tval-auc:0.828191\n",
            "[340]\ttrain-auc:0.958102\tval-auc:0.828317\n",
            "[350]\ttrain-auc:0.959337\tval-auc:0.828165\n",
            "[360]\ttrain-auc:0.960128\tval-auc:0.82763\n",
            "[370]\ttrain-auc:0.961433\tval-auc:0.82659\n",
            "[380]\ttrain-auc:0.962548\tval-auc:0.826691\n",
            "[390]\ttrain-auc:0.963365\tval-auc:0.826331\n",
            "[400]\ttrain-auc:0.964469\tval-auc:0.826527\n",
            "[410]\ttrain-auc:0.965519\tval-auc:0.825783\n",
            "[420]\ttrain-auc:0.966508\tval-auc:0.825852\n",
            "[430]\ttrain-auc:0.967635\tval-auc:0.825626\n",
            "[440]\ttrain-auc:0.968647\tval-auc:0.825235\n",
            "[450]\ttrain-auc:0.970094\tval-auc:0.824144\n",
            "[460]\ttrain-auc:0.97117\tval-auc:0.823376\n",
            "[470]\ttrain-auc:0.972036\tval-auc:0.822109\n",
            "[480]\ttrain-auc:0.972785\tval-auc:0.82192\n",
            "[490]\ttrain-auc:0.973673\tval-auc:0.821655\n",
            "[499]\ttrain-auc:0.974146\tval-auc:0.821113\n"
          ]
        }
      ]
    },
    {
      "cell_type": "markdown",
      "metadata": {
        "id": "spS2z1dfBoLz"
      },
      "source": [
        "#### **Testing the final model**"
      ]
    },
    {
      "cell_type": "code",
      "metadata": {
        "id": "Bnz6jd_--r9H"
      },
      "source": [
        "y_train = (train_full['status']=='default').values.reshape(-1,1)"
      ],
      "execution_count": null,
      "outputs": []
    },
    {
      "cell_type": "code",
      "metadata": {
        "id": "z4oANx6L_cw-"
      },
      "source": [
        "y_test = (test_X['status']=='default').values.reshape(-1,1)"
      ],
      "execution_count": null,
      "outputs": []
    },
    {
      "cell_type": "code",
      "metadata": {
        "id": "Vp0Sonei_yCd"
      },
      "source": [
        "del train_full['status']\n",
        "del test_X['status']"
      ],
      "execution_count": null,
      "outputs": []
    },
    {
      "cell_type": "code",
      "metadata": {
        "id": "AxvClE13_8-8"
      },
      "source": [
        "dict_train = train_full.fillna(0).to_dict(orient='records')\n",
        "dict_test = test_X.fillna(0).to_dict(orient='records')\n",
        "\n",
        "dv = DictVectorizer(sparse=False)\n",
        "X_train = dv.fit_transform(dict_train)\n",
        "X_test = dv.transform(dict_test)"
      ],
      "execution_count": null,
      "outputs": []
    },
    {
      "cell_type": "code",
      "metadata": {
        "colab": {
          "base_uri": "https://localhost:8080/"
        },
        "id": "rMxVB5laAd5p",
        "outputId": "de948262-5de2-4221-f7e4-82745550d5bd"
      },
      "source": [
        "print(f'{len(X_train[0])}\\n{len(X_test[0])}')"
      ],
      "execution_count": null,
      "outputs": [
        {
          "output_type": "stream",
          "name": "stdout",
          "text": [
            "29\n",
            "29\n"
          ]
        }
      ]
    },
    {
      "cell_type": "code",
      "metadata": {
        "id": "4kM8-XBhAoEL"
      },
      "source": [
        "dtrain = xgb.DMatrix(X_train, label=y_train, feature_names=dv.feature_names_)\n",
        "dtest = xgb.DMatrix(X_test, label=y_test, feature_names=dv.feature_names_)\n",
        "\n",
        "xgb_params = {\n",
        "    'eta':0.1,\n",
        "    'max_depth':3,\n",
        "    'min_child_weight':1,\n",
        "\n",
        "    'objective':'binary:logistic',\n",
        "    'eval_metric':'auc',\n",
        "    'nthread':8,\n",
        "    'seed':1,\n",
        "    'silent':1\n",
        "}\n",
        "\n",
        "num_trees = 130\n",
        "\n",
        "model = xgb.train(xgb_params, dtrain, num_boost_round=num_trees)"
      ],
      "execution_count": null,
      "outputs": []
    },
    {
      "cell_type": "code",
      "metadata": {
        "colab": {
          "base_uri": "https://localhost:8080/"
        },
        "id": "z5eCZjM6BVMu",
        "outputId": "2ec11f51-6059-4b06-964d-7e3f76e9473c"
      },
      "source": [
        "y_pred_xgb = model.predict(dtest)\n",
        "roc_auc_score(y_test, y_pred_xgb)"
      ],
      "execution_count": null,
      "outputs": [
        {
          "output_type": "execute_result",
          "data": {
            "text/plain": [
              "0.8217831973069192"
            ]
          },
          "metadata": {},
          "execution_count": 71
        }
      ]
    },
    {
      "cell_type": "code",
      "metadata": {
        "id": "kBHnUkYpBknt"
      },
      "source": [
        ""
      ],
      "execution_count": null,
      "outputs": []
    }
  ]
}
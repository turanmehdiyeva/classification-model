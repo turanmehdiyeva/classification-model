{
 "cells": [
  {
   "cell_type": "code",
   "execution_count": 1,
   "id": "86ca0c18",
   "metadata": {},
   "outputs": [],
   "source": [
    "import pickle\n",
    "import numpy as np"
   ]
  },
  {
   "cell_type": "code",
   "execution_count": 2,
   "id": "bca159a9",
   "metadata": {},
   "outputs": [],
   "source": [
    "def predict_single(costumer, dv, model):\n",
    "    X = dv.transform([costumer])\n",
    "    y_pred = model.predict_proba(X)[:,1]\n",
    "    return y_pred[0]"
   ]
  },
  {
   "cell_type": "code",
   "execution_count": 3,
   "id": "37df2dcc",
   "metadata": {},
   "outputs": [],
   "source": [
    "costumer = {'what_is_your_current_occupation': 'Unemployed',\n",
    "            'last_activity': 'Email Link Clicked',\n",
    "            'lead_profile': 'Potential Lead',\n",
    "            'last_notable_activity': 'Modified',\n",
    "            'lead_source': 'Reference',\n",
    "            'what_matters_most_to_you_in_choosing_a_course': 'Better Career Prospects',\n",
    "            'lead_origin': 'Lead Add Form',\n",
    "            'specialization': 'Services Excellence',\n",
    "            'do_not_email': 'No',\n",
    "            'totalvisits': 0.0,\n",
    "            'total_time_spent_on_website': 0,\n",
    "            'page_views_per_visit': 0.0}"
   ]
  },
  {
   "cell_type": "code",
   "execution_count": 4,
   "id": "a231a649",
   "metadata": {},
   "outputs": [],
   "source": [
    "with open('converting-model.bin', 'rb') as f_in:\n",
    "    dv, model = pickle.load(f_in)"
   ]
  },
  {
   "cell_type": "code",
   "execution_count": 5,
   "id": "d49649dd",
   "metadata": {},
   "outputs": [],
   "source": [
    "prediction = predict_single(costumer, dv, model)"
   ]
  },
  {
   "cell_type": "code",
   "execution_count": 6,
   "id": "6570c572",
   "metadata": {},
   "outputs": [
    {
     "name": "stdout",
     "output_type": "stream",
     "text": [
      "Prediction:  0.8959453906284116\n"
     ]
    }
   ],
   "source": [
    "print('Prediction: ', prediction)"
   ]
  },
  {
   "cell_type": "code",
   "execution_count": null,
   "id": "739b4d36",
   "metadata": {},
   "outputs": [],
   "source": []
  }
 ],
 "metadata": {
  "kernelspec": {
   "display_name": "Python 3 (ipykernel)",
   "language": "python",
   "name": "python3"
  },
  "language_info": {
   "codemirror_mode": {
    "name": "ipython",
    "version": 3
   },
   "file_extension": ".py",
   "mimetype": "text/x-python",
   "name": "python",
   "nbconvert_exporter": "python",
   "pygments_lexer": "ipython3",
   "version": "3.8.1"
  }
 },
 "nbformat": 4,
 "nbformat_minor": 5
}

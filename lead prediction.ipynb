{
 "cells": [
  {
   "cell_type": "markdown",
   "id": "5db2b43c",
   "metadata": {},
   "source": [
    "## Problem Statement"
   ]
  },
  {
   "cell_type": "markdown",
   "id": "b9a21754",
   "metadata": {},
   "source": [
    "X Education sells online courses to industry professionals. The company markets its courses on several websites and search engines like Google. Once these people land on the website, they might browse the courses or fill up a form for the course or watch some videos. When these people fill up a form providing their email address or phone number, they are classified to be a lead. Moreover, the company also gets leads through past referrals. Once these leads are acquired, employees from the sales team start making calls, writing emails, etc. Through this process, some of the leads get converted while most do not. The typical lead conversion rate at X education is around 30%."
   ]
  },
  {
   "cell_type": "markdown",
   "id": "b1a358c5",
   "metadata": {},
   "source": [
    "## Business Goal"
   ]
  },
  {
   "cell_type": "markdown",
   "id": "482b4628",
   "metadata": {},
   "source": [
    "X Education needs help in selecting the most promising leads, i.e. the leads that are most likely to convert into paying customers. The company needs a model wherein you a lead score is assigned to each of the leads such that the customers with higher lead score have a higher conversion chance and the customers with lower lead score have a lower conversion chance. The CEO, in particular, has given a ballpark of the target lead conversion rate to be around 80%."
   ]
  },
  {
   "cell_type": "code",
   "execution_count": 1,
   "id": "0cd2929f",
   "metadata": {},
   "outputs": [],
   "source": [
    "import pandas as pd\n",
    "import numpy as np\n",
    "import seaborn as sns\n",
    "import matplotlib.pyplot as plt\n",
    "%matplotlib inline"
   ]
  },
  {
   "cell_type": "code",
   "execution_count": 2,
   "id": "17d56bdb",
   "metadata": {},
   "outputs": [],
   "source": [
    "leads_dict = pd.read_excel(r'C:\\Users\\NRservic\\Desktop\\Financial markets\\Leads Data Dictionary.xlsx', header=2, index_col='Description').drop('Unnamed: 0',axis=1)"
   ]
  },
  {
   "cell_type": "code",
   "execution_count": 3,
   "id": "7965d47a",
   "metadata": {
    "scrolled": true
   },
   "outputs": [
    {
     "data": {
      "text/html": [
       "<div>\n",
       "<style scoped>\n",
       "    .dataframe tbody tr th:only-of-type {\n",
       "        vertical-align: middle;\n",
       "    }\n",
       "\n",
       "    .dataframe tbody tr th {\n",
       "        vertical-align: top;\n",
       "    }\n",
       "\n",
       "    .dataframe thead th {\n",
       "        text-align: right;\n",
       "    }\n",
       "</style>\n",
       "<table border=\"1\" class=\"dataframe\">\n",
       "  <thead>\n",
       "    <tr style=\"text-align: right;\">\n",
       "      <th></th>\n",
       "      <th>Variables</th>\n",
       "    </tr>\n",
       "    <tr>\n",
       "      <th>Description</th>\n",
       "      <th></th>\n",
       "    </tr>\n",
       "  </thead>\n",
       "  <tbody>\n",
       "    <tr>\n",
       "      <th>A unique ID with which the customer is identified.</th>\n",
       "      <td>Prospect ID</td>\n",
       "    </tr>\n",
       "    <tr>\n",
       "      <th>A lead number assigned to each lead procured.</th>\n",
       "      <td>Lead Number</td>\n",
       "    </tr>\n",
       "    <tr>\n",
       "      <th>The origin identifier with which the customer was identified to be a lead. Includes API, Landing Page Submission, etc.</th>\n",
       "      <td>Lead Origin</td>\n",
       "    </tr>\n",
       "    <tr>\n",
       "      <th>The source of the lead. Includes Google, Organic Search, Olark Chat, etc.</th>\n",
       "      <td>Lead Source</td>\n",
       "    </tr>\n",
       "    <tr>\n",
       "      <th>An indicator variable selected by the customer wherein they select whether of not they want to be emailed about the course or not.</th>\n",
       "      <td>Do Not Email</td>\n",
       "    </tr>\n",
       "    <tr>\n",
       "      <th>An indicator variable selected by the customer wherein they select whether of not they want to be called about the course or not.</th>\n",
       "      <td>Do Not Call</td>\n",
       "    </tr>\n",
       "    <tr>\n",
       "      <th>The target variable. Indicates whether a lead has been successfully converted or not.</th>\n",
       "      <td>Converted</td>\n",
       "    </tr>\n",
       "    <tr>\n",
       "      <th>The total number of visits made by the customer on the website.</th>\n",
       "      <td>TotalVisits</td>\n",
       "    </tr>\n",
       "    <tr>\n",
       "      <th>The total time spent by the customer on the website.</th>\n",
       "      <td>Total Time Spent on Website</td>\n",
       "    </tr>\n",
       "    <tr>\n",
       "      <th>Average number of pages on the website viewed during the visits.</th>\n",
       "      <td>Page Views Per Visit</td>\n",
       "    </tr>\n",
       "    <tr>\n",
       "      <th>Last activity performed by the customer. Includes Email Opened, Olark Chat Conversation, etc.</th>\n",
       "      <td>Last Activity</td>\n",
       "    </tr>\n",
       "    <tr>\n",
       "      <th>The country of the customer.</th>\n",
       "      <td>Country</td>\n",
       "    </tr>\n",
       "    <tr>\n",
       "      <th>The industry domain in which the customer worked before. Includes the level 'Select Specialization' which means the customer had not selected this option while filling the form.</th>\n",
       "      <td>Specialization</td>\n",
       "    </tr>\n",
       "    <tr>\n",
       "      <th>The source from which the customer heard about X Education.</th>\n",
       "      <td>How did you hear about X Education</td>\n",
       "    </tr>\n",
       "    <tr>\n",
       "      <th>Indicates whether the customer is a student, umemployed or employed.</th>\n",
       "      <td>What is your current occupation</td>\n",
       "    </tr>\n",
       "    <tr>\n",
       "      <th>An option selected by the customer indicating what is their main motto behind doing this course.</th>\n",
       "      <td>What matters most to you in choosing this course</td>\n",
       "    </tr>\n",
       "    <tr>\n",
       "      <th>Indicating whether the customer had seen the ad in any of the listed items.</th>\n",
       "      <td>Search</td>\n",
       "    </tr>\n",
       "    <tr>\n",
       "      <th>NaN</th>\n",
       "      <td>Magazine</td>\n",
       "    </tr>\n",
       "    <tr>\n",
       "      <th>NaN</th>\n",
       "      <td>Newspaper Article</td>\n",
       "    </tr>\n",
       "    <tr>\n",
       "      <th>NaN</th>\n",
       "      <td>X Education Forums</td>\n",
       "    </tr>\n",
       "    <tr>\n",
       "      <th>NaN</th>\n",
       "      <td>Newspaper</td>\n",
       "    </tr>\n",
       "    <tr>\n",
       "      <th>NaN</th>\n",
       "      <td>Digital Advertisement</td>\n",
       "    </tr>\n",
       "    <tr>\n",
       "      <th>Indicates whether the customer came in through recommendations.</th>\n",
       "      <td>Through Recommendations</td>\n",
       "    </tr>\n",
       "    <tr>\n",
       "      <th>Indicates whether the customer chose to receive more updates about the courses.</th>\n",
       "      <td>Receive More Updates About Our Courses</td>\n",
       "    </tr>\n",
       "    <tr>\n",
       "      <th>Tags assigned to customers indicating the current status of the lead.</th>\n",
       "      <td>Tags</td>\n",
       "    </tr>\n",
       "    <tr>\n",
       "      <th>Indicates the quality of lead based on the data and intuition the the employee who has been assigned to the lead.</th>\n",
       "      <td>Lead Quality</td>\n",
       "    </tr>\n",
       "    <tr>\n",
       "      <th>Indicates whether the customer wants updates on the Supply Chain Content.</th>\n",
       "      <td>Update me on Supply Chain Content</td>\n",
       "    </tr>\n",
       "    <tr>\n",
       "      <th>Indicates whether the customer wants updates on the DM Content.</th>\n",
       "      <td>Get updates on DM Content</td>\n",
       "    </tr>\n",
       "    <tr>\n",
       "      <th>A lead level assigned to each customer based on their profile.</th>\n",
       "      <td>Lead Profile</td>\n",
       "    </tr>\n",
       "    <tr>\n",
       "      <th>The city of the customer.</th>\n",
       "      <td>City</td>\n",
       "    </tr>\n",
       "    <tr>\n",
       "      <th>An index and score assigned to each customer based on their activity and their profile</th>\n",
       "      <td>Asymmetrique Activity Index</td>\n",
       "    </tr>\n",
       "    <tr>\n",
       "      <th>NaN</th>\n",
       "      <td>Asymmetrique Profile Index</td>\n",
       "    </tr>\n",
       "    <tr>\n",
       "      <th>NaN</th>\n",
       "      <td>Asymmetrique Activity Score</td>\n",
       "    </tr>\n",
       "    <tr>\n",
       "      <th>NaN</th>\n",
       "      <td>Asymmetrique Profile Score</td>\n",
       "    </tr>\n",
       "    <tr>\n",
       "      <th>Indicates whether the customer has agreed to pay the amount through cheque or not.</th>\n",
       "      <td>I agree to pay the amount through cheque</td>\n",
       "    </tr>\n",
       "    <tr>\n",
       "      <th>Indicates whether the customer wants a free copy of 'Mastering the Interview' or not.</th>\n",
       "      <td>a free copy of Mastering The Interview</td>\n",
       "    </tr>\n",
       "    <tr>\n",
       "      <th>The last notable acitivity performed by the student.</th>\n",
       "      <td>Last Notable Activity</td>\n",
       "    </tr>\n",
       "  </tbody>\n",
       "</table>\n",
       "</div>"
      ],
      "text/plain": [
       "                                                                                           Variables\n",
       "Description                                                                                         \n",
       "A unique ID with which the customer is identified.                                       Prospect ID\n",
       "A lead number assigned to each lead procured.                                            Lead Number\n",
       "The origin identifier with which the customer w...                                       Lead Origin\n",
       "The source of the lead. Includes Google, Organi...                                       Lead Source\n",
       "An indicator variable selected by the customer ...                                      Do Not Email\n",
       "An indicator variable selected by the customer ...                                       Do Not Call\n",
       "The target variable. Indicates whether a lead h...                                         Converted\n",
       "The total number of visits made by the customer...                                       TotalVisits\n",
       "The total time spent by the customer on the web...                       Total Time Spent on Website\n",
       "Average number of pages on the website viewed d...                              Page Views Per Visit\n",
       "Last activity performed by the customer. Includ...                                     Last Activity\n",
       "The country of the customer.                                                                 Country\n",
       "The industry domain in which the customer worke...                                    Specialization\n",
       "The source from which the customer heard about ...                How did you hear about X Education\n",
       "Indicates whether the customer is a student, um...                   What is your current occupation\n",
       "An option selected by the customer indicating w...  What matters most to you in choosing this course\n",
       "Indicating whether the customer had seen the ad...                                            Search\n",
       "NaN                                                                                         Magazine\n",
       "NaN                                                                                Newspaper Article\n",
       "NaN                                                                               X Education Forums\n",
       "NaN                                                                                        Newspaper\n",
       "NaN                                                                            Digital Advertisement\n",
       "Indicates whether the customer came in through ...                           Through Recommendations\n",
       "Indicates whether the customer chose to receive...            Receive More Updates About Our Courses\n",
       "Tags assigned to customers indicating the curre...                                              Tags\n",
       "Indicates the quality of lead based on the data...                                      Lead Quality\n",
       "Indicates whether the customer wants updates on...                 Update me on Supply Chain Content\n",
       "Indicates whether the customer wants updates on...                         Get updates on DM Content\n",
       "A lead level assigned to each customer based on...                                      Lead Profile\n",
       "The city of the customer.                                                                       City\n",
       "An index and score assigned to each customer ba...                       Asymmetrique Activity Index\n",
       "NaN                                                                       Asymmetrique Profile Index\n",
       "NaN                                                                      Asymmetrique Activity Score\n",
       "NaN                                                                       Asymmetrique Profile Score\n",
       "Indicates whether the customer has agreed to pa...          I agree to pay the amount through cheque\n",
       "Indicates whether the customer wants a free cop...            a free copy of Mastering The Interview\n",
       "The last notable acitivity performed by the stu...                             Last Notable Activity"
      ]
     },
     "execution_count": 3,
     "metadata": {},
     "output_type": "execute_result"
    }
   ],
   "source": [
    "leads_dict"
   ]
  },
  {
   "cell_type": "code",
   "execution_count": 4,
   "id": "2f8f11c8",
   "metadata": {},
   "outputs": [],
   "source": [
    "import warnings\n",
    "warnings.filterwarnings('ignore')"
   ]
  },
  {
   "cell_type": "code",
   "execution_count": 5,
   "id": "256a6b92",
   "metadata": {},
   "outputs": [],
   "source": [
    "leads = pd.read_csv(r'C:\\Users\\NRservic\\Desktop\\Financial markets\\Leads.csv')"
   ]
  },
  {
   "cell_type": "code",
   "execution_count": 6,
   "id": "b5e8558c",
   "metadata": {},
   "outputs": [
    {
     "data": {
      "text/html": [
       "<div>\n",
       "<style scoped>\n",
       "    .dataframe tbody tr th:only-of-type {\n",
       "        vertical-align: middle;\n",
       "    }\n",
       "\n",
       "    .dataframe tbody tr th {\n",
       "        vertical-align: top;\n",
       "    }\n",
       "\n",
       "    .dataframe thead th {\n",
       "        text-align: right;\n",
       "    }\n",
       "</style>\n",
       "<table border=\"1\" class=\"dataframe\">\n",
       "  <thead>\n",
       "    <tr style=\"text-align: right;\">\n",
       "      <th></th>\n",
       "      <th>Prospect ID</th>\n",
       "      <th>Lead Number</th>\n",
       "      <th>Lead Origin</th>\n",
       "      <th>Lead Source</th>\n",
       "      <th>Do Not Email</th>\n",
       "      <th>Do Not Call</th>\n",
       "      <th>Converted</th>\n",
       "      <th>TotalVisits</th>\n",
       "      <th>Total Time Spent on Website</th>\n",
       "      <th>Page Views Per Visit</th>\n",
       "      <th>...</th>\n",
       "      <th>Get updates on DM Content</th>\n",
       "      <th>Lead Profile</th>\n",
       "      <th>City</th>\n",
       "      <th>Asymmetrique Activity Index</th>\n",
       "      <th>Asymmetrique Profile Index</th>\n",
       "      <th>Asymmetrique Activity Score</th>\n",
       "      <th>Asymmetrique Profile Score</th>\n",
       "      <th>I agree to pay the amount through cheque</th>\n",
       "      <th>A free copy of Mastering The Interview</th>\n",
       "      <th>Last Notable Activity</th>\n",
       "    </tr>\n",
       "  </thead>\n",
       "  <tbody>\n",
       "    <tr>\n",
       "      <th>0</th>\n",
       "      <td>7927b2df-8bba-4d29-b9a2-b6e0beafe620</td>\n",
       "      <td>660737</td>\n",
       "      <td>API</td>\n",
       "      <td>Olark Chat</td>\n",
       "      <td>No</td>\n",
       "      <td>No</td>\n",
       "      <td>0</td>\n",
       "      <td>0.0</td>\n",
       "      <td>0</td>\n",
       "      <td>0.0</td>\n",
       "      <td>...</td>\n",
       "      <td>No</td>\n",
       "      <td>Select</td>\n",
       "      <td>Select</td>\n",
       "      <td>02.Medium</td>\n",
       "      <td>02.Medium</td>\n",
       "      <td>15.0</td>\n",
       "      <td>15.0</td>\n",
       "      <td>No</td>\n",
       "      <td>No</td>\n",
       "      <td>Modified</td>\n",
       "    </tr>\n",
       "    <tr>\n",
       "      <th>1</th>\n",
       "      <td>2a272436-5132-4136-86fa-dcc88c88f482</td>\n",
       "      <td>660728</td>\n",
       "      <td>API</td>\n",
       "      <td>Organic Search</td>\n",
       "      <td>No</td>\n",
       "      <td>No</td>\n",
       "      <td>0</td>\n",
       "      <td>5.0</td>\n",
       "      <td>674</td>\n",
       "      <td>2.5</td>\n",
       "      <td>...</td>\n",
       "      <td>No</td>\n",
       "      <td>Select</td>\n",
       "      <td>Select</td>\n",
       "      <td>02.Medium</td>\n",
       "      <td>02.Medium</td>\n",
       "      <td>15.0</td>\n",
       "      <td>15.0</td>\n",
       "      <td>No</td>\n",
       "      <td>No</td>\n",
       "      <td>Email Opened</td>\n",
       "    </tr>\n",
       "    <tr>\n",
       "      <th>2</th>\n",
       "      <td>8cc8c611-a219-4f35-ad23-fdfd2656bd8a</td>\n",
       "      <td>660727</td>\n",
       "      <td>Landing Page Submission</td>\n",
       "      <td>Direct Traffic</td>\n",
       "      <td>No</td>\n",
       "      <td>No</td>\n",
       "      <td>1</td>\n",
       "      <td>2.0</td>\n",
       "      <td>1532</td>\n",
       "      <td>2.0</td>\n",
       "      <td>...</td>\n",
       "      <td>No</td>\n",
       "      <td>Potential Lead</td>\n",
       "      <td>Mumbai</td>\n",
       "      <td>02.Medium</td>\n",
       "      <td>01.High</td>\n",
       "      <td>14.0</td>\n",
       "      <td>20.0</td>\n",
       "      <td>No</td>\n",
       "      <td>Yes</td>\n",
       "      <td>Email Opened</td>\n",
       "    </tr>\n",
       "    <tr>\n",
       "      <th>3</th>\n",
       "      <td>0cc2df48-7cf4-4e39-9de9-19797f9b38cc</td>\n",
       "      <td>660719</td>\n",
       "      <td>Landing Page Submission</td>\n",
       "      <td>Direct Traffic</td>\n",
       "      <td>No</td>\n",
       "      <td>No</td>\n",
       "      <td>0</td>\n",
       "      <td>1.0</td>\n",
       "      <td>305</td>\n",
       "      <td>1.0</td>\n",
       "      <td>...</td>\n",
       "      <td>No</td>\n",
       "      <td>Select</td>\n",
       "      <td>Mumbai</td>\n",
       "      <td>02.Medium</td>\n",
       "      <td>01.High</td>\n",
       "      <td>13.0</td>\n",
       "      <td>17.0</td>\n",
       "      <td>No</td>\n",
       "      <td>No</td>\n",
       "      <td>Modified</td>\n",
       "    </tr>\n",
       "    <tr>\n",
       "      <th>4</th>\n",
       "      <td>3256f628-e534-4826-9d63-4a8b88782852</td>\n",
       "      <td>660681</td>\n",
       "      <td>Landing Page Submission</td>\n",
       "      <td>Google</td>\n",
       "      <td>No</td>\n",
       "      <td>No</td>\n",
       "      <td>1</td>\n",
       "      <td>2.0</td>\n",
       "      <td>1428</td>\n",
       "      <td>1.0</td>\n",
       "      <td>...</td>\n",
       "      <td>No</td>\n",
       "      <td>Select</td>\n",
       "      <td>Mumbai</td>\n",
       "      <td>02.Medium</td>\n",
       "      <td>01.High</td>\n",
       "      <td>15.0</td>\n",
       "      <td>18.0</td>\n",
       "      <td>No</td>\n",
       "      <td>No</td>\n",
       "      <td>Modified</td>\n",
       "    </tr>\n",
       "  </tbody>\n",
       "</table>\n",
       "<p>5 rows × 37 columns</p>\n",
       "</div>"
      ],
      "text/plain": [
       "                            Prospect ID  Lead Number              Lead Origin  \\\n",
       "0  7927b2df-8bba-4d29-b9a2-b6e0beafe620       660737                      API   \n",
       "1  2a272436-5132-4136-86fa-dcc88c88f482       660728                      API   \n",
       "2  8cc8c611-a219-4f35-ad23-fdfd2656bd8a       660727  Landing Page Submission   \n",
       "3  0cc2df48-7cf4-4e39-9de9-19797f9b38cc       660719  Landing Page Submission   \n",
       "4  3256f628-e534-4826-9d63-4a8b88782852       660681  Landing Page Submission   \n",
       "\n",
       "      Lead Source Do Not Email Do Not Call  Converted  TotalVisits  \\\n",
       "0      Olark Chat           No          No          0          0.0   \n",
       "1  Organic Search           No          No          0          5.0   \n",
       "2  Direct Traffic           No          No          1          2.0   \n",
       "3  Direct Traffic           No          No          0          1.0   \n",
       "4          Google           No          No          1          2.0   \n",
       "\n",
       "   Total Time Spent on Website  Page Views Per Visit  ...  \\\n",
       "0                            0                   0.0  ...   \n",
       "1                          674                   2.5  ...   \n",
       "2                         1532                   2.0  ...   \n",
       "3                          305                   1.0  ...   \n",
       "4                         1428                   1.0  ...   \n",
       "\n",
       "  Get updates on DM Content    Lead Profile    City  \\\n",
       "0                        No          Select  Select   \n",
       "1                        No          Select  Select   \n",
       "2                        No  Potential Lead  Mumbai   \n",
       "3                        No          Select  Mumbai   \n",
       "4                        No          Select  Mumbai   \n",
       "\n",
       "  Asymmetrique Activity Index Asymmetrique Profile Index  \\\n",
       "0                   02.Medium                  02.Medium   \n",
       "1                   02.Medium                  02.Medium   \n",
       "2                   02.Medium                    01.High   \n",
       "3                   02.Medium                    01.High   \n",
       "4                   02.Medium                    01.High   \n",
       "\n",
       "  Asymmetrique Activity Score Asymmetrique Profile Score  \\\n",
       "0                        15.0                       15.0   \n",
       "1                        15.0                       15.0   \n",
       "2                        14.0                       20.0   \n",
       "3                        13.0                       17.0   \n",
       "4                        15.0                       18.0   \n",
       "\n",
       "  I agree to pay the amount through cheque  \\\n",
       "0                                       No   \n",
       "1                                       No   \n",
       "2                                       No   \n",
       "3                                       No   \n",
       "4                                       No   \n",
       "\n",
       "  A free copy of Mastering The Interview Last Notable Activity  \n",
       "0                                     No              Modified  \n",
       "1                                     No          Email Opened  \n",
       "2                                    Yes          Email Opened  \n",
       "3                                     No              Modified  \n",
       "4                                     No              Modified  \n",
       "\n",
       "[5 rows x 37 columns]"
      ]
     },
     "execution_count": 6,
     "metadata": {},
     "output_type": "execute_result"
    }
   ],
   "source": [
    "leads.head()"
   ]
  },
  {
   "cell_type": "code",
   "execution_count": 7,
   "id": "eb1555e0",
   "metadata": {},
   "outputs": [
    {
     "data": {
      "text/html": [
       "<div>\n",
       "<style scoped>\n",
       "    .dataframe tbody tr th:only-of-type {\n",
       "        vertical-align: middle;\n",
       "    }\n",
       "\n",
       "    .dataframe tbody tr th {\n",
       "        vertical-align: top;\n",
       "    }\n",
       "\n",
       "    .dataframe thead th {\n",
       "        text-align: right;\n",
       "    }\n",
       "</style>\n",
       "<table border=\"1\" class=\"dataframe\">\n",
       "  <thead>\n",
       "    <tr style=\"text-align: right;\">\n",
       "      <th></th>\n",
       "      <th>0</th>\n",
       "      <th>1</th>\n",
       "      <th>2</th>\n",
       "      <th>3</th>\n",
       "      <th>4</th>\n",
       "    </tr>\n",
       "  </thead>\n",
       "  <tbody>\n",
       "    <tr>\n",
       "      <th>Prospect ID</th>\n",
       "      <td>7927b2df-8bba-4d29-b9a2-b6e0beafe620</td>\n",
       "      <td>2a272436-5132-4136-86fa-dcc88c88f482</td>\n",
       "      <td>8cc8c611-a219-4f35-ad23-fdfd2656bd8a</td>\n",
       "      <td>0cc2df48-7cf4-4e39-9de9-19797f9b38cc</td>\n",
       "      <td>3256f628-e534-4826-9d63-4a8b88782852</td>\n",
       "    </tr>\n",
       "    <tr>\n",
       "      <th>Lead Number</th>\n",
       "      <td>660737</td>\n",
       "      <td>660728</td>\n",
       "      <td>660727</td>\n",
       "      <td>660719</td>\n",
       "      <td>660681</td>\n",
       "    </tr>\n",
       "    <tr>\n",
       "      <th>Lead Origin</th>\n",
       "      <td>API</td>\n",
       "      <td>API</td>\n",
       "      <td>Landing Page Submission</td>\n",
       "      <td>Landing Page Submission</td>\n",
       "      <td>Landing Page Submission</td>\n",
       "    </tr>\n",
       "    <tr>\n",
       "      <th>Lead Source</th>\n",
       "      <td>Olark Chat</td>\n",
       "      <td>Organic Search</td>\n",
       "      <td>Direct Traffic</td>\n",
       "      <td>Direct Traffic</td>\n",
       "      <td>Google</td>\n",
       "    </tr>\n",
       "    <tr>\n",
       "      <th>Do Not Email</th>\n",
       "      <td>No</td>\n",
       "      <td>No</td>\n",
       "      <td>No</td>\n",
       "      <td>No</td>\n",
       "      <td>No</td>\n",
       "    </tr>\n",
       "    <tr>\n",
       "      <th>Do Not Call</th>\n",
       "      <td>No</td>\n",
       "      <td>No</td>\n",
       "      <td>No</td>\n",
       "      <td>No</td>\n",
       "      <td>No</td>\n",
       "    </tr>\n",
       "    <tr>\n",
       "      <th>Converted</th>\n",
       "      <td>0</td>\n",
       "      <td>0</td>\n",
       "      <td>1</td>\n",
       "      <td>0</td>\n",
       "      <td>1</td>\n",
       "    </tr>\n",
       "    <tr>\n",
       "      <th>TotalVisits</th>\n",
       "      <td>0.0</td>\n",
       "      <td>5.0</td>\n",
       "      <td>2.0</td>\n",
       "      <td>1.0</td>\n",
       "      <td>2.0</td>\n",
       "    </tr>\n",
       "    <tr>\n",
       "      <th>Total Time Spent on Website</th>\n",
       "      <td>0</td>\n",
       "      <td>674</td>\n",
       "      <td>1532</td>\n",
       "      <td>305</td>\n",
       "      <td>1428</td>\n",
       "    </tr>\n",
       "    <tr>\n",
       "      <th>Page Views Per Visit</th>\n",
       "      <td>0.0</td>\n",
       "      <td>2.5</td>\n",
       "      <td>2.0</td>\n",
       "      <td>1.0</td>\n",
       "      <td>1.0</td>\n",
       "    </tr>\n",
       "    <tr>\n",
       "      <th>Last Activity</th>\n",
       "      <td>Page Visited on Website</td>\n",
       "      <td>Email Opened</td>\n",
       "      <td>Email Opened</td>\n",
       "      <td>Unreachable</td>\n",
       "      <td>Converted to Lead</td>\n",
       "    </tr>\n",
       "    <tr>\n",
       "      <th>Country</th>\n",
       "      <td>NaN</td>\n",
       "      <td>India</td>\n",
       "      <td>India</td>\n",
       "      <td>India</td>\n",
       "      <td>India</td>\n",
       "    </tr>\n",
       "    <tr>\n",
       "      <th>Specialization</th>\n",
       "      <td>Select</td>\n",
       "      <td>Select</td>\n",
       "      <td>Business Administration</td>\n",
       "      <td>Media and Advertising</td>\n",
       "      <td>Select</td>\n",
       "    </tr>\n",
       "    <tr>\n",
       "      <th>How did you hear about X Education</th>\n",
       "      <td>Select</td>\n",
       "      <td>Select</td>\n",
       "      <td>Select</td>\n",
       "      <td>Word Of Mouth</td>\n",
       "      <td>Other</td>\n",
       "    </tr>\n",
       "    <tr>\n",
       "      <th>What is your current occupation</th>\n",
       "      <td>Unemployed</td>\n",
       "      <td>Unemployed</td>\n",
       "      <td>Student</td>\n",
       "      <td>Unemployed</td>\n",
       "      <td>Unemployed</td>\n",
       "    </tr>\n",
       "    <tr>\n",
       "      <th>What matters most to you in choosing a course</th>\n",
       "      <td>Better Career Prospects</td>\n",
       "      <td>Better Career Prospects</td>\n",
       "      <td>Better Career Prospects</td>\n",
       "      <td>Better Career Prospects</td>\n",
       "      <td>Better Career Prospects</td>\n",
       "    </tr>\n",
       "    <tr>\n",
       "      <th>Search</th>\n",
       "      <td>No</td>\n",
       "      <td>No</td>\n",
       "      <td>No</td>\n",
       "      <td>No</td>\n",
       "      <td>No</td>\n",
       "    </tr>\n",
       "    <tr>\n",
       "      <th>Magazine</th>\n",
       "      <td>No</td>\n",
       "      <td>No</td>\n",
       "      <td>No</td>\n",
       "      <td>No</td>\n",
       "      <td>No</td>\n",
       "    </tr>\n",
       "    <tr>\n",
       "      <th>Newspaper Article</th>\n",
       "      <td>No</td>\n",
       "      <td>No</td>\n",
       "      <td>No</td>\n",
       "      <td>No</td>\n",
       "      <td>No</td>\n",
       "    </tr>\n",
       "    <tr>\n",
       "      <th>X Education Forums</th>\n",
       "      <td>No</td>\n",
       "      <td>No</td>\n",
       "      <td>No</td>\n",
       "      <td>No</td>\n",
       "      <td>No</td>\n",
       "    </tr>\n",
       "    <tr>\n",
       "      <th>Newspaper</th>\n",
       "      <td>No</td>\n",
       "      <td>No</td>\n",
       "      <td>No</td>\n",
       "      <td>No</td>\n",
       "      <td>No</td>\n",
       "    </tr>\n",
       "    <tr>\n",
       "      <th>Digital Advertisement</th>\n",
       "      <td>No</td>\n",
       "      <td>No</td>\n",
       "      <td>No</td>\n",
       "      <td>No</td>\n",
       "      <td>No</td>\n",
       "    </tr>\n",
       "    <tr>\n",
       "      <th>Through Recommendations</th>\n",
       "      <td>No</td>\n",
       "      <td>No</td>\n",
       "      <td>No</td>\n",
       "      <td>No</td>\n",
       "      <td>No</td>\n",
       "    </tr>\n",
       "    <tr>\n",
       "      <th>Receive More Updates About Our Courses</th>\n",
       "      <td>No</td>\n",
       "      <td>No</td>\n",
       "      <td>No</td>\n",
       "      <td>No</td>\n",
       "      <td>No</td>\n",
       "    </tr>\n",
       "    <tr>\n",
       "      <th>Tags</th>\n",
       "      <td>Interested in other courses</td>\n",
       "      <td>Ringing</td>\n",
       "      <td>Will revert after reading the email</td>\n",
       "      <td>Ringing</td>\n",
       "      <td>Will revert after reading the email</td>\n",
       "    </tr>\n",
       "    <tr>\n",
       "      <th>Lead Quality</th>\n",
       "      <td>Low in Relevance</td>\n",
       "      <td>NaN</td>\n",
       "      <td>Might be</td>\n",
       "      <td>Not Sure</td>\n",
       "      <td>Might be</td>\n",
       "    </tr>\n",
       "    <tr>\n",
       "      <th>Update me on Supply Chain Content</th>\n",
       "      <td>No</td>\n",
       "      <td>No</td>\n",
       "      <td>No</td>\n",
       "      <td>No</td>\n",
       "      <td>No</td>\n",
       "    </tr>\n",
       "    <tr>\n",
       "      <th>Get updates on DM Content</th>\n",
       "      <td>No</td>\n",
       "      <td>No</td>\n",
       "      <td>No</td>\n",
       "      <td>No</td>\n",
       "      <td>No</td>\n",
       "    </tr>\n",
       "    <tr>\n",
       "      <th>Lead Profile</th>\n",
       "      <td>Select</td>\n",
       "      <td>Select</td>\n",
       "      <td>Potential Lead</td>\n",
       "      <td>Select</td>\n",
       "      <td>Select</td>\n",
       "    </tr>\n",
       "    <tr>\n",
       "      <th>City</th>\n",
       "      <td>Select</td>\n",
       "      <td>Select</td>\n",
       "      <td>Mumbai</td>\n",
       "      <td>Mumbai</td>\n",
       "      <td>Mumbai</td>\n",
       "    </tr>\n",
       "    <tr>\n",
       "      <th>Asymmetrique Activity Index</th>\n",
       "      <td>02.Medium</td>\n",
       "      <td>02.Medium</td>\n",
       "      <td>02.Medium</td>\n",
       "      <td>02.Medium</td>\n",
       "      <td>02.Medium</td>\n",
       "    </tr>\n",
       "    <tr>\n",
       "      <th>Asymmetrique Profile Index</th>\n",
       "      <td>02.Medium</td>\n",
       "      <td>02.Medium</td>\n",
       "      <td>01.High</td>\n",
       "      <td>01.High</td>\n",
       "      <td>01.High</td>\n",
       "    </tr>\n",
       "    <tr>\n",
       "      <th>Asymmetrique Activity Score</th>\n",
       "      <td>15.0</td>\n",
       "      <td>15.0</td>\n",
       "      <td>14.0</td>\n",
       "      <td>13.0</td>\n",
       "      <td>15.0</td>\n",
       "    </tr>\n",
       "    <tr>\n",
       "      <th>Asymmetrique Profile Score</th>\n",
       "      <td>15.0</td>\n",
       "      <td>15.0</td>\n",
       "      <td>20.0</td>\n",
       "      <td>17.0</td>\n",
       "      <td>18.0</td>\n",
       "    </tr>\n",
       "    <tr>\n",
       "      <th>I agree to pay the amount through cheque</th>\n",
       "      <td>No</td>\n",
       "      <td>No</td>\n",
       "      <td>No</td>\n",
       "      <td>No</td>\n",
       "      <td>No</td>\n",
       "    </tr>\n",
       "    <tr>\n",
       "      <th>A free copy of Mastering The Interview</th>\n",
       "      <td>No</td>\n",
       "      <td>No</td>\n",
       "      <td>Yes</td>\n",
       "      <td>No</td>\n",
       "      <td>No</td>\n",
       "    </tr>\n",
       "    <tr>\n",
       "      <th>Last Notable Activity</th>\n",
       "      <td>Modified</td>\n",
       "      <td>Email Opened</td>\n",
       "      <td>Email Opened</td>\n",
       "      <td>Modified</td>\n",
       "      <td>Modified</td>\n",
       "    </tr>\n",
       "  </tbody>\n",
       "</table>\n",
       "</div>"
      ],
      "text/plain": [
       "                                                                                  0  \\\n",
       "Prospect ID                                    7927b2df-8bba-4d29-b9a2-b6e0beafe620   \n",
       "Lead Number                                                                  660737   \n",
       "Lead Origin                                                                     API   \n",
       "Lead Source                                                              Olark Chat   \n",
       "Do Not Email                                                                     No   \n",
       "Do Not Call                                                                      No   \n",
       "Converted                                                                         0   \n",
       "TotalVisits                                                                     0.0   \n",
       "Total Time Spent on Website                                                       0   \n",
       "Page Views Per Visit                                                            0.0   \n",
       "Last Activity                                               Page Visited on Website   \n",
       "Country                                                                         NaN   \n",
       "Specialization                                                               Select   \n",
       "How did you hear about X Education                                           Select   \n",
       "What is your current occupation                                          Unemployed   \n",
       "What matters most to you in choosing a course               Better Career Prospects   \n",
       "Search                                                                           No   \n",
       "Magazine                                                                         No   \n",
       "Newspaper Article                                                                No   \n",
       "X Education Forums                                                               No   \n",
       "Newspaper                                                                        No   \n",
       "Digital Advertisement                                                            No   \n",
       "Through Recommendations                                                          No   \n",
       "Receive More Updates About Our Courses                                           No   \n",
       "Tags                                                    Interested in other courses   \n",
       "Lead Quality                                                       Low in Relevance   \n",
       "Update me on Supply Chain Content                                                No   \n",
       "Get updates on DM Content                                                        No   \n",
       "Lead Profile                                                                 Select   \n",
       "City                                                                         Select   \n",
       "Asymmetrique Activity Index                                               02.Medium   \n",
       "Asymmetrique Profile Index                                                02.Medium   \n",
       "Asymmetrique Activity Score                                                    15.0   \n",
       "Asymmetrique Profile Score                                                     15.0   \n",
       "I agree to pay the amount through cheque                                         No   \n",
       "A free copy of Mastering The Interview                                           No   \n",
       "Last Notable Activity                                                      Modified   \n",
       "\n",
       "                                                                                  1  \\\n",
       "Prospect ID                                    2a272436-5132-4136-86fa-dcc88c88f482   \n",
       "Lead Number                                                                  660728   \n",
       "Lead Origin                                                                     API   \n",
       "Lead Source                                                          Organic Search   \n",
       "Do Not Email                                                                     No   \n",
       "Do Not Call                                                                      No   \n",
       "Converted                                                                         0   \n",
       "TotalVisits                                                                     5.0   \n",
       "Total Time Spent on Website                                                     674   \n",
       "Page Views Per Visit                                                            2.5   \n",
       "Last Activity                                                          Email Opened   \n",
       "Country                                                                       India   \n",
       "Specialization                                                               Select   \n",
       "How did you hear about X Education                                           Select   \n",
       "What is your current occupation                                          Unemployed   \n",
       "What matters most to you in choosing a course               Better Career Prospects   \n",
       "Search                                                                           No   \n",
       "Magazine                                                                         No   \n",
       "Newspaper Article                                                                No   \n",
       "X Education Forums                                                               No   \n",
       "Newspaper                                                                        No   \n",
       "Digital Advertisement                                                            No   \n",
       "Through Recommendations                                                          No   \n",
       "Receive More Updates About Our Courses                                           No   \n",
       "Tags                                                                        Ringing   \n",
       "Lead Quality                                                                    NaN   \n",
       "Update me on Supply Chain Content                                                No   \n",
       "Get updates on DM Content                                                        No   \n",
       "Lead Profile                                                                 Select   \n",
       "City                                                                         Select   \n",
       "Asymmetrique Activity Index                                               02.Medium   \n",
       "Asymmetrique Profile Index                                                02.Medium   \n",
       "Asymmetrique Activity Score                                                    15.0   \n",
       "Asymmetrique Profile Score                                                     15.0   \n",
       "I agree to pay the amount through cheque                                         No   \n",
       "A free copy of Mastering The Interview                                           No   \n",
       "Last Notable Activity                                                  Email Opened   \n",
       "\n",
       "                                                                                  2  \\\n",
       "Prospect ID                                    8cc8c611-a219-4f35-ad23-fdfd2656bd8a   \n",
       "Lead Number                                                                  660727   \n",
       "Lead Origin                                                 Landing Page Submission   \n",
       "Lead Source                                                          Direct Traffic   \n",
       "Do Not Email                                                                     No   \n",
       "Do Not Call                                                                      No   \n",
       "Converted                                                                         1   \n",
       "TotalVisits                                                                     2.0   \n",
       "Total Time Spent on Website                                                    1532   \n",
       "Page Views Per Visit                                                            2.0   \n",
       "Last Activity                                                          Email Opened   \n",
       "Country                                                                       India   \n",
       "Specialization                                              Business Administration   \n",
       "How did you hear about X Education                                           Select   \n",
       "What is your current occupation                                             Student   \n",
       "What matters most to you in choosing a course               Better Career Prospects   \n",
       "Search                                                                           No   \n",
       "Magazine                                                                         No   \n",
       "Newspaper Article                                                                No   \n",
       "X Education Forums                                                               No   \n",
       "Newspaper                                                                        No   \n",
       "Digital Advertisement                                                            No   \n",
       "Through Recommendations                                                          No   \n",
       "Receive More Updates About Our Courses                                           No   \n",
       "Tags                                            Will revert after reading the email   \n",
       "Lead Quality                                                               Might be   \n",
       "Update me on Supply Chain Content                                                No   \n",
       "Get updates on DM Content                                                        No   \n",
       "Lead Profile                                                         Potential Lead   \n",
       "City                                                                         Mumbai   \n",
       "Asymmetrique Activity Index                                               02.Medium   \n",
       "Asymmetrique Profile Index                                                  01.High   \n",
       "Asymmetrique Activity Score                                                    14.0   \n",
       "Asymmetrique Profile Score                                                     20.0   \n",
       "I agree to pay the amount through cheque                                         No   \n",
       "A free copy of Mastering The Interview                                          Yes   \n",
       "Last Notable Activity                                                  Email Opened   \n",
       "\n",
       "                                                                                  3  \\\n",
       "Prospect ID                                    0cc2df48-7cf4-4e39-9de9-19797f9b38cc   \n",
       "Lead Number                                                                  660719   \n",
       "Lead Origin                                                 Landing Page Submission   \n",
       "Lead Source                                                          Direct Traffic   \n",
       "Do Not Email                                                                     No   \n",
       "Do Not Call                                                                      No   \n",
       "Converted                                                                         0   \n",
       "TotalVisits                                                                     1.0   \n",
       "Total Time Spent on Website                                                     305   \n",
       "Page Views Per Visit                                                            1.0   \n",
       "Last Activity                                                           Unreachable   \n",
       "Country                                                                       India   \n",
       "Specialization                                                Media and Advertising   \n",
       "How did you hear about X Education                                    Word Of Mouth   \n",
       "What is your current occupation                                          Unemployed   \n",
       "What matters most to you in choosing a course               Better Career Prospects   \n",
       "Search                                                                           No   \n",
       "Magazine                                                                         No   \n",
       "Newspaper Article                                                                No   \n",
       "X Education Forums                                                               No   \n",
       "Newspaper                                                                        No   \n",
       "Digital Advertisement                                                            No   \n",
       "Through Recommendations                                                          No   \n",
       "Receive More Updates About Our Courses                                           No   \n",
       "Tags                                                                        Ringing   \n",
       "Lead Quality                                                               Not Sure   \n",
       "Update me on Supply Chain Content                                                No   \n",
       "Get updates on DM Content                                                        No   \n",
       "Lead Profile                                                                 Select   \n",
       "City                                                                         Mumbai   \n",
       "Asymmetrique Activity Index                                               02.Medium   \n",
       "Asymmetrique Profile Index                                                  01.High   \n",
       "Asymmetrique Activity Score                                                    13.0   \n",
       "Asymmetrique Profile Score                                                     17.0   \n",
       "I agree to pay the amount through cheque                                         No   \n",
       "A free copy of Mastering The Interview                                           No   \n",
       "Last Notable Activity                                                      Modified   \n",
       "\n",
       "                                                                                  4  \n",
       "Prospect ID                                    3256f628-e534-4826-9d63-4a8b88782852  \n",
       "Lead Number                                                                  660681  \n",
       "Lead Origin                                                 Landing Page Submission  \n",
       "Lead Source                                                                  Google  \n",
       "Do Not Email                                                                     No  \n",
       "Do Not Call                                                                      No  \n",
       "Converted                                                                         1  \n",
       "TotalVisits                                                                     2.0  \n",
       "Total Time Spent on Website                                                    1428  \n",
       "Page Views Per Visit                                                            1.0  \n",
       "Last Activity                                                     Converted to Lead  \n",
       "Country                                                                       India  \n",
       "Specialization                                                               Select  \n",
       "How did you hear about X Education                                            Other  \n",
       "What is your current occupation                                          Unemployed  \n",
       "What matters most to you in choosing a course               Better Career Prospects  \n",
       "Search                                                                           No  \n",
       "Magazine                                                                         No  \n",
       "Newspaper Article                                                                No  \n",
       "X Education Forums                                                               No  \n",
       "Newspaper                                                                        No  \n",
       "Digital Advertisement                                                            No  \n",
       "Through Recommendations                                                          No  \n",
       "Receive More Updates About Our Courses                                           No  \n",
       "Tags                                            Will revert after reading the email  \n",
       "Lead Quality                                                               Might be  \n",
       "Update me on Supply Chain Content                                                No  \n",
       "Get updates on DM Content                                                        No  \n",
       "Lead Profile                                                                 Select  \n",
       "City                                                                         Mumbai  \n",
       "Asymmetrique Activity Index                                               02.Medium  \n",
       "Asymmetrique Profile Index                                                  01.High  \n",
       "Asymmetrique Activity Score                                                    15.0  \n",
       "Asymmetrique Profile Score                                                     18.0  \n",
       "I agree to pay the amount through cheque                                         No  \n",
       "A free copy of Mastering The Interview                                           No  \n",
       "Last Notable Activity                                                      Modified  "
      ]
     },
     "execution_count": 7,
     "metadata": {},
     "output_type": "execute_result"
    }
   ],
   "source": [
    "leads.head().T"
   ]
  },
  {
   "cell_type": "markdown",
   "id": "55f80688",
   "metadata": {},
   "source": [
    "#### Initial data preparation"
   ]
  },
  {
   "cell_type": "code",
   "execution_count": 8,
   "id": "06053252",
   "metadata": {},
   "outputs": [
    {
     "data": {
      "text/plain": [
       "9240"
      ]
     },
     "execution_count": 8,
     "metadata": {},
     "output_type": "execute_result"
    }
   ],
   "source": [
    "len(leads)"
   ]
  },
  {
   "cell_type": "markdown",
   "id": "62ed8169",
   "metadata": {},
   "source": [
    "It's enough data to create our model "
   ]
  },
  {
   "cell_type": "code",
   "execution_count": 9,
   "id": "7afd0285",
   "metadata": {},
   "outputs": [
    {
     "data": {
      "text/plain": [
       "0"
      ]
     },
     "execution_count": 9,
     "metadata": {},
     "output_type": "execute_result"
    }
   ],
   "source": [
    "leads['Prospect ID'].duplicated().sum()"
   ]
  },
  {
   "cell_type": "markdown",
   "id": "9b23bd5d",
   "metadata": {},
   "source": [
    "There're not duplicates, in our data"
   ]
  },
  {
   "cell_type": "code",
   "execution_count": 10,
   "id": "55c43b41",
   "metadata": {},
   "outputs": [
    {
     "data": {
      "text/plain": [
       "Prospect ID                                       object\n",
       "Lead Number                                        int64\n",
       "Lead Origin                                       object\n",
       "Lead Source                                       object\n",
       "Do Not Email                                      object\n",
       "Do Not Call                                       object\n",
       "Converted                                          int64\n",
       "TotalVisits                                      float64\n",
       "Total Time Spent on Website                        int64\n",
       "Page Views Per Visit                             float64\n",
       "Last Activity                                     object\n",
       "Country                                           object\n",
       "Specialization                                    object\n",
       "How did you hear about X Education                object\n",
       "What is your current occupation                   object\n",
       "What matters most to you in choosing a course     object\n",
       "Search                                            object\n",
       "Magazine                                          object\n",
       "Newspaper Article                                 object\n",
       "X Education Forums                                object\n",
       "Newspaper                                         object\n",
       "Digital Advertisement                             object\n",
       "Through Recommendations                           object\n",
       "Receive More Updates About Our Courses            object\n",
       "Tags                                              object\n",
       "Lead Quality                                      object\n",
       "Update me on Supply Chain Content                 object\n",
       "Get updates on DM Content                         object\n",
       "Lead Profile                                      object\n",
       "City                                              object\n",
       "Asymmetrique Activity Index                       object\n",
       "Asymmetrique Profile Index                        object\n",
       "Asymmetrique Activity Score                      float64\n",
       "Asymmetrique Profile Score                       float64\n",
       "I agree to pay the amount through cheque          object\n",
       "A free copy of Mastering The Interview            object\n",
       "Last Notable Activity                             object\n",
       "dtype: object"
      ]
     },
     "execution_count": 10,
     "metadata": {},
     "output_type": "execute_result"
    }
   ],
   "source": [
    "leads.dtypes"
   ]
  },
  {
   "cell_type": "markdown",
   "id": "53513c26",
   "metadata": {},
   "source": [
    "All columns have the correct dtype."
   ]
  },
  {
   "cell_type": "code",
   "execution_count": 11,
   "id": "69c7204c",
   "metadata": {},
   "outputs": [
    {
     "data": {
      "text/html": [
       "<div>\n",
       "<style scoped>\n",
       "    .dataframe tbody tr th:only-of-type {\n",
       "        vertical-align: middle;\n",
       "    }\n",
       "\n",
       "    .dataframe tbody tr th {\n",
       "        vertical-align: top;\n",
       "    }\n",
       "\n",
       "    .dataframe thead th {\n",
       "        text-align: right;\n",
       "    }\n",
       "</style>\n",
       "<table border=\"1\" class=\"dataframe\">\n",
       "  <thead>\n",
       "    <tr style=\"text-align: right;\">\n",
       "      <th></th>\n",
       "      <th>Missing Values</th>\n",
       "    </tr>\n",
       "  </thead>\n",
       "  <tbody>\n",
       "    <tr>\n",
       "      <th>Lead Quality</th>\n",
       "      <td>4767</td>\n",
       "    </tr>\n",
       "    <tr>\n",
       "      <th>Asymmetrique Activity Index</th>\n",
       "      <td>4218</td>\n",
       "    </tr>\n",
       "    <tr>\n",
       "      <th>Asymmetrique Profile Score</th>\n",
       "      <td>4218</td>\n",
       "    </tr>\n",
       "    <tr>\n",
       "      <th>Asymmetrique Activity Score</th>\n",
       "      <td>4218</td>\n",
       "    </tr>\n",
       "    <tr>\n",
       "      <th>Asymmetrique Profile Index</th>\n",
       "      <td>4218</td>\n",
       "    </tr>\n",
       "    <tr>\n",
       "      <th>Tags</th>\n",
       "      <td>3353</td>\n",
       "    </tr>\n",
       "    <tr>\n",
       "      <th>Lead Profile</th>\n",
       "      <td>2709</td>\n",
       "    </tr>\n",
       "    <tr>\n",
       "      <th>What matters most to you in choosing a course</th>\n",
       "      <td>2709</td>\n",
       "    </tr>\n",
       "    <tr>\n",
       "      <th>What is your current occupation</th>\n",
       "      <td>2690</td>\n",
       "    </tr>\n",
       "    <tr>\n",
       "      <th>Country</th>\n",
       "      <td>2461</td>\n",
       "    </tr>\n",
       "    <tr>\n",
       "      <th>How did you hear about X Education</th>\n",
       "      <td>2207</td>\n",
       "    </tr>\n",
       "    <tr>\n",
       "      <th>Specialization</th>\n",
       "      <td>1438</td>\n",
       "    </tr>\n",
       "    <tr>\n",
       "      <th>City</th>\n",
       "      <td>1420</td>\n",
       "    </tr>\n",
       "    <tr>\n",
       "      <th>Page Views Per Visit</th>\n",
       "      <td>137</td>\n",
       "    </tr>\n",
       "    <tr>\n",
       "      <th>TotalVisits</th>\n",
       "      <td>137</td>\n",
       "    </tr>\n",
       "    <tr>\n",
       "      <th>Last Activity</th>\n",
       "      <td>103</td>\n",
       "    </tr>\n",
       "    <tr>\n",
       "      <th>Lead Source</th>\n",
       "      <td>36</td>\n",
       "    </tr>\n",
       "    <tr>\n",
       "      <th>Receive More Updates About Our Courses</th>\n",
       "      <td>0</td>\n",
       "    </tr>\n",
       "    <tr>\n",
       "      <th>I agree to pay the amount through cheque</th>\n",
       "      <td>0</td>\n",
       "    </tr>\n",
       "    <tr>\n",
       "      <th>Get updates on DM Content</th>\n",
       "      <td>0</td>\n",
       "    </tr>\n",
       "    <tr>\n",
       "      <th>Update me on Supply Chain Content</th>\n",
       "      <td>0</td>\n",
       "    </tr>\n",
       "    <tr>\n",
       "      <th>A free copy of Mastering The Interview</th>\n",
       "      <td>0</td>\n",
       "    </tr>\n",
       "    <tr>\n",
       "      <th>Prospect ID</th>\n",
       "      <td>0</td>\n",
       "    </tr>\n",
       "    <tr>\n",
       "      <th>Newspaper Article</th>\n",
       "      <td>0</td>\n",
       "    </tr>\n",
       "    <tr>\n",
       "      <th>Through Recommendations</th>\n",
       "      <td>0</td>\n",
       "    </tr>\n",
       "    <tr>\n",
       "      <th>Digital Advertisement</th>\n",
       "      <td>0</td>\n",
       "    </tr>\n",
       "    <tr>\n",
       "      <th>Newspaper</th>\n",
       "      <td>0</td>\n",
       "    </tr>\n",
       "    <tr>\n",
       "      <th>X Education Forums</th>\n",
       "      <td>0</td>\n",
       "    </tr>\n",
       "    <tr>\n",
       "      <th>Lead Number</th>\n",
       "      <td>0</td>\n",
       "    </tr>\n",
       "    <tr>\n",
       "      <th>Magazine</th>\n",
       "      <td>0</td>\n",
       "    </tr>\n",
       "    <tr>\n",
       "      <th>Search</th>\n",
       "      <td>0</td>\n",
       "    </tr>\n",
       "    <tr>\n",
       "      <th>Total Time Spent on Website</th>\n",
       "      <td>0</td>\n",
       "    </tr>\n",
       "    <tr>\n",
       "      <th>Converted</th>\n",
       "      <td>0</td>\n",
       "    </tr>\n",
       "    <tr>\n",
       "      <th>Do Not Call</th>\n",
       "      <td>0</td>\n",
       "    </tr>\n",
       "    <tr>\n",
       "      <th>Do Not Email</th>\n",
       "      <td>0</td>\n",
       "    </tr>\n",
       "    <tr>\n",
       "      <th>Lead Origin</th>\n",
       "      <td>0</td>\n",
       "    </tr>\n",
       "    <tr>\n",
       "      <th>Last Notable Activity</th>\n",
       "      <td>0</td>\n",
       "    </tr>\n",
       "  </tbody>\n",
       "</table>\n",
       "</div>"
      ],
      "text/plain": [
       "                                               Missing Values\n",
       "Lead Quality                                             4767\n",
       "Asymmetrique Activity Index                              4218\n",
       "Asymmetrique Profile Score                               4218\n",
       "Asymmetrique Activity Score                              4218\n",
       "Asymmetrique Profile Index                               4218\n",
       "Tags                                                     3353\n",
       "Lead Profile                                             2709\n",
       "What matters most to you in choosing a course            2709\n",
       "What is your current occupation                          2690\n",
       "Country                                                  2461\n",
       "How did you hear about X Education                       2207\n",
       "Specialization                                           1438\n",
       "City                                                     1420\n",
       "Page Views Per Visit                                      137\n",
       "TotalVisits                                               137\n",
       "Last Activity                                             103\n",
       "Lead Source                                                36\n",
       "Receive More Updates About Our Courses                      0\n",
       "I agree to pay the amount through cheque                    0\n",
       "Get updates on DM Content                                   0\n",
       "Update me on Supply Chain Content                           0\n",
       "A free copy of Mastering The Interview                      0\n",
       "Prospect ID                                                 0\n",
       "Newspaper Article                                           0\n",
       "Through Recommendations                                     0\n",
       "Digital Advertisement                                       0\n",
       "Newspaper                                                   0\n",
       "X Education Forums                                          0\n",
       "Lead Number                                                 0\n",
       "Magazine                                                    0\n",
       "Search                                                      0\n",
       "Total Time Spent on Website                                 0\n",
       "Converted                                                   0\n",
       "Do Not Call                                                 0\n",
       "Do Not Email                                                0\n",
       "Lead Origin                                                 0\n",
       "Last Notable Activity                                       0"
      ]
     },
     "execution_count": 11,
     "metadata": {},
     "output_type": "execute_result"
    }
   ],
   "source": [
    "leads.isna().sum().to_frame(name='Missing Values').sort_values('Missing Values', ascending=False)"
   ]
  },
  {
   "cell_type": "markdown",
   "id": "a0f382c2",
   "metadata": {},
   "source": [
    "If column has missing values more than 3000 it is not an efficient data. We drop that columns."
   ]
  },
  {
   "cell_type": "code",
   "execution_count": 12,
   "id": "22065832",
   "metadata": {},
   "outputs": [],
   "source": [
    "for i in leads.columns:\n",
    "    if leads[i].isna().sum()>3000:\n",
    "        leads.drop(i, axis=1, inplace=True)"
   ]
  },
  {
   "cell_type": "markdown",
   "id": "62274441",
   "metadata": {},
   "source": [
    "We check and correct each column."
   ]
  },
  {
   "cell_type": "markdown",
   "id": "8dd303fb",
   "metadata": {},
   "source": [
    "1. Lead Source"
   ]
  },
  {
   "cell_type": "code",
   "execution_count": 13,
   "id": "6a02b291",
   "metadata": {},
   "outputs": [
    {
     "data": {
      "text/plain": [
       "Google               2868\n",
       "Direct Traffic       2543\n",
       "Olark Chat           1755\n",
       "Organic Search       1154\n",
       "Reference             534\n",
       "Welingak Website      142\n",
       "Referral Sites        125\n",
       "Facebook               55\n",
       "bing                    6\n",
       "google                  5\n",
       "Click2call              4\n",
       "Social Media            2\n",
       "Live Chat               2\n",
       "Press_Release           2\n",
       "welearnblog_Home        1\n",
       "WeLearn                 1\n",
       "NC_EDM                  1\n",
       "youtubechannel          1\n",
       "blog                    1\n",
       "testone                 1\n",
       "Pay per Click Ads       1\n",
       "Name: Lead Source, dtype: int64"
      ]
     },
     "execution_count": 13,
     "metadata": {},
     "output_type": "execute_result"
    }
   ],
   "source": [
    "leads['Lead Source'].value_counts()"
   ]
  },
  {
   "cell_type": "code",
   "execution_count": 14,
   "id": "f253bdd3",
   "metadata": {},
   "outputs": [],
   "source": [
    "leads['Lead Source'].fillna('Google', inplace=True)"
   ]
  },
  {
   "cell_type": "markdown",
   "id": "f2ea6a57",
   "metadata": {},
   "source": [
    "In 'Lead Source' column, we fill missing values with the most frequent one"
   ]
  },
  {
   "cell_type": "code",
   "execution_count": 15,
   "id": "110977c4",
   "metadata": {},
   "outputs": [],
   "source": [
    "leads['Lead Source'] = leads['Lead Source'].str.replace('google', 'Google')"
   ]
  },
  {
   "cell_type": "markdown",
   "id": "d2c07cfd",
   "metadata": {},
   "source": [
    "And also we check and correct if columns name are not written differently."
   ]
  },
  {
   "cell_type": "code",
   "execution_count": 16,
   "id": "555908f9",
   "metadata": {},
   "outputs": [
    {
     "data": {
      "text/plain": [
       "array(['Olark Chat', 'Organic Search', 'Direct Traffic', 'Google',\n",
       "       'Referral Sites', 'Welingak Website', 'Reference', 'Facebook',\n",
       "       'blog', 'Pay per Click Ads', 'bing', 'Social Media', 'WeLearn',\n",
       "       'Click2call', 'Live Chat', 'welearnblog_Home', 'youtubechannel',\n",
       "       'testone', 'Press_Release', 'NC_EDM'], dtype=object)"
      ]
     },
     "execution_count": 16,
     "metadata": {},
     "output_type": "execute_result"
    }
   ],
   "source": [
    "leads['Lead Source'].unique()"
   ]
  },
  {
   "cell_type": "markdown",
   "id": "48c6e78c",
   "metadata": {},
   "source": [
    "2. Last Activity"
   ]
  },
  {
   "cell_type": "code",
   "execution_count": 17,
   "id": "fba9479e",
   "metadata": {},
   "outputs": [
    {
     "data": {
      "text/plain": [
       "Email Opened                    3437\n",
       "SMS Sent                        2745\n",
       "Olark Chat Conversation          973\n",
       "Page Visited on Website          640\n",
       "Converted to Lead                428\n",
       "Email Bounced                    326\n",
       "Email Link Clicked               267\n",
       "Form Submitted on Website        116\n",
       "Unreachable                       93\n",
       "Unsubscribed                      61\n",
       "Had a Phone Conversation          30\n",
       "Approached upfront                 9\n",
       "View in browser link Clicked       6\n",
       "Email Marked Spam                  2\n",
       "Email Received                     2\n",
       "Visited Booth in Tradeshow         1\n",
       "Resubscribed to emails             1\n",
       "Name: Last Activity, dtype: int64"
      ]
     },
     "execution_count": 17,
     "metadata": {},
     "output_type": "execute_result"
    }
   ],
   "source": [
    "leads['Last Activity'].value_counts()"
   ]
  },
  {
   "cell_type": "markdown",
   "id": "aca96c9c",
   "metadata": {},
   "source": [
    "If we don't have information about last activity of leads, let's simply fill that rows with \"Other\""
   ]
  },
  {
   "cell_type": "code",
   "execution_count": 18,
   "id": "273ecead",
   "metadata": {},
   "outputs": [],
   "source": [
    "leads['Last Activity'].fillna('Other', inplace=True)"
   ]
  },
  {
   "cell_type": "markdown",
   "id": "a425e0eb",
   "metadata": {},
   "source": [
    "3. City"
   ]
  },
  {
   "cell_type": "code",
   "execution_count": 19,
   "id": "e0a62427",
   "metadata": {},
   "outputs": [
    {
     "data": {
      "text/plain": [
       "Mumbai                         3222\n",
       "Select                         2249\n",
       "Thane & Outskirts               752\n",
       "Other Cities                    686\n",
       "Other Cities of Maharashtra     457\n",
       "Other Metro Cities              380\n",
       "Tier II Cities                   74\n",
       "Name: City, dtype: int64"
      ]
     },
     "execution_count": 19,
     "metadata": {},
     "output_type": "execute_result"
    }
   ],
   "source": [
    "leads['City'].value_counts()"
   ]
  },
  {
   "cell_type": "markdown",
   "id": "71ba1a1a",
   "metadata": {},
   "source": [
    "We see some rows are named \"Select\". Those leads haven'y chosen the city, and we also fill missing values with \"Select\"."
   ]
  },
  {
   "cell_type": "code",
   "execution_count": 20,
   "id": "3ca51fee",
   "metadata": {},
   "outputs": [],
   "source": [
    "leads['City'].fillna('Select', inplace=True)"
   ]
  },
  {
   "cell_type": "markdown",
   "id": "c83c6263",
   "metadata": {},
   "source": [
    "4. Specialization"
   ]
  },
  {
   "cell_type": "code",
   "execution_count": 21,
   "id": "fcdf1cc9",
   "metadata": {},
   "outputs": [
    {
     "data": {
      "text/plain": [
       "Select                               1942\n",
       "Finance Management                    976\n",
       "Human Resource Management             848\n",
       "Marketing Management                  838\n",
       "Operations Management                 503\n",
       "Business Administration               403\n",
       "IT Projects Management                366\n",
       "Supply Chain Management               349\n",
       "Banking, Investment And Insurance     338\n",
       "Travel and Tourism                    203\n",
       "Media and Advertising                 203\n",
       "International Business                178\n",
       "Healthcare Management                 159\n",
       "Hospitality Management                114\n",
       "E-COMMERCE                            112\n",
       "Retail Management                     100\n",
       "Rural and Agribusiness                 73\n",
       "E-Business                             57\n",
       "Services Excellence                    40\n",
       "Name: Specialization, dtype: int64"
      ]
     },
     "execution_count": 21,
     "metadata": {},
     "output_type": "execute_result"
    }
   ],
   "source": [
    "leads['Specialization'].value_counts()"
   ]
  },
  {
   "cell_type": "markdown",
   "id": "15465d6c",
   "metadata": {},
   "source": [
    "We see some rows are named \"Select\". Those leads haven'y chosen the specialization, and we also fill missing values with \"Select\"."
   ]
  },
  {
   "cell_type": "code",
   "execution_count": 22,
   "id": "93cbf1a9",
   "metadata": {},
   "outputs": [],
   "source": [
    "leads['Specialization'].fillna('Select', inplace=True)"
   ]
  },
  {
   "cell_type": "markdown",
   "id": "61f3f53e",
   "metadata": {},
   "source": [
    "5. How did you hear about X Education"
   ]
  },
  {
   "cell_type": "code",
   "execution_count": 23,
   "id": "5cce205d",
   "metadata": {},
   "outputs": [
    {
     "data": {
      "text/plain": [
       "Select                   5043\n",
       "Online Search             808\n",
       "Word Of Mouth             348\n",
       "Student of SomeSchool     310\n",
       "Other                     186\n",
       "Multiple Sources          152\n",
       "Advertisements             70\n",
       "Social Media               67\n",
       "Email                      26\n",
       "SMS                        23\n",
       "Name: How did you hear about X Education, dtype: int64"
      ]
     },
     "execution_count": 23,
     "metadata": {},
     "output_type": "execute_result"
    }
   ],
   "source": [
    "leads['How did you hear about X Education'].value_counts()"
   ]
  },
  {
   "cell_type": "markdown",
   "id": "13e70c0a",
   "metadata": {},
   "source": [
    "We see some rows are named \"Select\". Those leads haven'y chosen the How did you hear about X Education, and we also fill missing values with \"Select\"."
   ]
  },
  {
   "cell_type": "code",
   "execution_count": 24,
   "id": "9411aed4",
   "metadata": {},
   "outputs": [],
   "source": [
    "leads['How did you hear about X Education'].fillna('Select', inplace=True)"
   ]
  },
  {
   "cell_type": "markdown",
   "id": "3f26c9e3",
   "metadata": {},
   "source": [
    "6. Country"
   ]
  },
  {
   "cell_type": "code",
   "execution_count": 25,
   "id": "7379d98e",
   "metadata": {},
   "outputs": [
    {
     "data": {
      "text/plain": [
       "India                   6492\n",
       "United States             69\n",
       "United Arab Emirates      53\n",
       "Singapore                 24\n",
       "Saudi Arabia              21\n",
       "United Kingdom            15\n",
       "Australia                 13\n",
       "Qatar                     10\n",
       "Bahrain                    7\n",
       "Hong Kong                  7\n",
       "France                     6\n",
       "Oman                       6\n",
       "unknown                    5\n",
       "Germany                    4\n",
       "Nigeria                    4\n",
       "Kuwait                     4\n",
       "Canada                     4\n",
       "South Africa               4\n",
       "Sweden                     3\n",
       "Philippines                2\n",
       "Uganda                     2\n",
       "China                      2\n",
       "Bangladesh                 2\n",
       "Asia/Pacific Region        2\n",
       "Netherlands                2\n",
       "Italy                      2\n",
       "Ghana                      2\n",
       "Belgium                    2\n",
       "Tanzania                   1\n",
       "Russia                     1\n",
       "Switzerland                1\n",
       "Vietnam                    1\n",
       "Sri Lanka                  1\n",
       "Liberia                    1\n",
       "Indonesia                  1\n",
       "Malaysia                   1\n",
       "Denmark                    1\n",
       "Kenya                      1\n",
       "Name: Country, dtype: int64"
      ]
     },
     "execution_count": 25,
     "metadata": {},
     "output_type": "execute_result"
    }
   ],
   "source": [
    "leads['Country'].value_counts()"
   ]
  },
  {
   "cell_type": "code",
   "execution_count": 26,
   "id": "985ac417",
   "metadata": {},
   "outputs": [
    {
     "data": {
      "text/plain": [
       "array(['Select', 'Thane & Outskirts', 'Other Cities of Maharashtra',\n",
       "       'Mumbai', 'Other Cities', 'Other Metro Cities', 'Tier II Cities'],\n",
       "      dtype=object)"
      ]
     },
     "execution_count": 26,
     "metadata": {},
     "output_type": "execute_result"
    }
   ],
   "source": [
    "leads[(leads['Country'].isna())&(leads['City'].isna()==False)]['City'].unique()"
   ]
  },
  {
   "cell_type": "markdown",
   "id": "6510cf4f",
   "metadata": {},
   "source": [
    "We check what values city column have when Country column's variables are missing."
   ]
  },
  {
   "cell_type": "code",
   "execution_count": 27,
   "id": "4022c239",
   "metadata": {},
   "outputs": [],
   "source": [
    "leads.loc[(leads['Country'].isna())&(leads['City']=='Mumbai'), 'Country'] = 'India'\n",
    "leads.loc[(leads['Country'].isna())&(leads['City']=='Other Cities of Maharashtra'), 'Country'] = 'India'\n",
    "leads['Country'].fillna('unknown', inplace=True)"
   ]
  },
  {
   "cell_type": "markdown",
   "id": "bb349fd1",
   "metadata": {},
   "source": [
    "Mumbai and Maharashtra are in India, we can fill that missing rows with India. But for rest we will fill with \"unknown\"."
   ]
  },
  {
   "cell_type": "markdown",
   "id": "403ae4b3",
   "metadata": {},
   "source": [
    "7. What is your current occupation"
   ]
  },
  {
   "cell_type": "code",
   "execution_count": 28,
   "id": "a48ad0b9",
   "metadata": {},
   "outputs": [
    {
     "data": {
      "text/plain": [
       "Unemployed              5600\n",
       "Working Professional     706\n",
       "Student                  210\n",
       "Other                     16\n",
       "Housewife                 10\n",
       "Businessman                8\n",
       "Name: What is your current occupation, dtype: int64"
      ]
     },
     "execution_count": 28,
     "metadata": {},
     "output_type": "execute_result"
    }
   ],
   "source": [
    "leads['What is your current occupation'].value_counts()"
   ]
  },
  {
   "cell_type": "code",
   "execution_count": 29,
   "id": "1a6b97bc",
   "metadata": {},
   "outputs": [],
   "source": [
    "leads['What is your current occupation'].fillna('Other', inplace=True)"
   ]
  },
  {
   "cell_type": "markdown",
   "id": "fe483b47",
   "metadata": {},
   "source": [
    "8. Lead Profile"
   ]
  },
  {
   "cell_type": "code",
   "execution_count": 30,
   "id": "a68f337f",
   "metadata": {},
   "outputs": [
    {
     "data": {
      "text/plain": [
       "Select                         4146\n",
       "Potential Lead                 1613\n",
       "Other Leads                     487\n",
       "Student of SomeSchool           241\n",
       "Lateral Student                  24\n",
       "Dual Specialization Student      20\n",
       "Name: Lead Profile, dtype: int64"
      ]
     },
     "execution_count": 30,
     "metadata": {},
     "output_type": "execute_result"
    }
   ],
   "source": [
    "leads['Lead Profile'].value_counts()"
   ]
  },
  {
   "cell_type": "code",
   "execution_count": 31,
   "id": "844db136",
   "metadata": {},
   "outputs": [],
   "source": [
    "leads['Lead Profile'].fillna('Select', inplace=True)"
   ]
  },
  {
   "cell_type": "markdown",
   "id": "7b1a2af9",
   "metadata": {},
   "source": [
    "9. What matters most to you in choosing a course"
   ]
  },
  {
   "cell_type": "code",
   "execution_count": 32,
   "id": "025b6f50",
   "metadata": {},
   "outputs": [
    {
     "data": {
      "text/plain": [
       "Better Career Prospects      6528\n",
       "Flexibility & Convenience       2\n",
       "Other                           1\n",
       "Name: What matters most to you in choosing a course, dtype: int64"
      ]
     },
     "execution_count": 32,
     "metadata": {},
     "output_type": "execute_result"
    }
   ],
   "source": [
    "leads['What matters most to you in choosing a course'].value_counts()"
   ]
  },
  {
   "cell_type": "code",
   "execution_count": 33,
   "id": "68cec527",
   "metadata": {},
   "outputs": [],
   "source": [
    "leads['What matters most to you in choosing a course'].fillna('Other', inplace=True)"
   ]
  },
  {
   "cell_type": "markdown",
   "id": "b7bd4b4b",
   "metadata": {},
   "source": [
    "10. TotalVisits"
   ]
  },
  {
   "cell_type": "code",
   "execution_count": 34,
   "id": "e49d94a5",
   "metadata": {},
   "outputs": [
    {
     "data": {
      "text/html": [
       "<div>\n",
       "<style scoped>\n",
       "    .dataframe tbody tr th:only-of-type {\n",
       "        vertical-align: middle;\n",
       "    }\n",
       "\n",
       "    .dataframe tbody tr th {\n",
       "        vertical-align: top;\n",
       "    }\n",
       "\n",
       "    .dataframe thead th {\n",
       "        text-align: right;\n",
       "    }\n",
       "</style>\n",
       "<table border=\"1\" class=\"dataframe\">\n",
       "  <thead>\n",
       "    <tr style=\"text-align: right;\">\n",
       "      <th></th>\n",
       "      <th>Lead Number</th>\n",
       "      <th>Converted</th>\n",
       "      <th>TotalVisits</th>\n",
       "      <th>Total Time Spent on Website</th>\n",
       "      <th>Page Views Per Visit</th>\n",
       "    </tr>\n",
       "  </thead>\n",
       "  <tbody>\n",
       "    <tr>\n",
       "      <th>count</th>\n",
       "      <td>9240.000000</td>\n",
       "      <td>9240.000000</td>\n",
       "      <td>9103.000000</td>\n",
       "      <td>9240.000000</td>\n",
       "      <td>9103.000000</td>\n",
       "    </tr>\n",
       "    <tr>\n",
       "      <th>mean</th>\n",
       "      <td>617188.435606</td>\n",
       "      <td>0.385390</td>\n",
       "      <td>3.445238</td>\n",
       "      <td>487.698268</td>\n",
       "      <td>2.362820</td>\n",
       "    </tr>\n",
       "    <tr>\n",
       "      <th>std</th>\n",
       "      <td>23405.995698</td>\n",
       "      <td>0.486714</td>\n",
       "      <td>4.854853</td>\n",
       "      <td>548.021466</td>\n",
       "      <td>2.161418</td>\n",
       "    </tr>\n",
       "    <tr>\n",
       "      <th>min</th>\n",
       "      <td>579533.000000</td>\n",
       "      <td>0.000000</td>\n",
       "      <td>0.000000</td>\n",
       "      <td>0.000000</td>\n",
       "      <td>0.000000</td>\n",
       "    </tr>\n",
       "    <tr>\n",
       "      <th>25%</th>\n",
       "      <td>596484.500000</td>\n",
       "      <td>0.000000</td>\n",
       "      <td>1.000000</td>\n",
       "      <td>12.000000</td>\n",
       "      <td>1.000000</td>\n",
       "    </tr>\n",
       "    <tr>\n",
       "      <th>50%</th>\n",
       "      <td>615479.000000</td>\n",
       "      <td>0.000000</td>\n",
       "      <td>3.000000</td>\n",
       "      <td>248.000000</td>\n",
       "      <td>2.000000</td>\n",
       "    </tr>\n",
       "    <tr>\n",
       "      <th>75%</th>\n",
       "      <td>637387.250000</td>\n",
       "      <td>1.000000</td>\n",
       "      <td>5.000000</td>\n",
       "      <td>936.000000</td>\n",
       "      <td>3.000000</td>\n",
       "    </tr>\n",
       "    <tr>\n",
       "      <th>max</th>\n",
       "      <td>660737.000000</td>\n",
       "      <td>1.000000</td>\n",
       "      <td>251.000000</td>\n",
       "      <td>2272.000000</td>\n",
       "      <td>55.000000</td>\n",
       "    </tr>\n",
       "  </tbody>\n",
       "</table>\n",
       "</div>"
      ],
      "text/plain": [
       "         Lead Number    Converted  TotalVisits  Total Time Spent on Website  \\\n",
       "count    9240.000000  9240.000000  9103.000000                  9240.000000   \n",
       "mean   617188.435606     0.385390     3.445238                   487.698268   \n",
       "std     23405.995698     0.486714     4.854853                   548.021466   \n",
       "min    579533.000000     0.000000     0.000000                     0.000000   \n",
       "25%    596484.500000     0.000000     1.000000                    12.000000   \n",
       "50%    615479.000000     0.000000     3.000000                   248.000000   \n",
       "75%    637387.250000     1.000000     5.000000                   936.000000   \n",
       "max    660737.000000     1.000000   251.000000                  2272.000000   \n",
       "\n",
       "       Page Views Per Visit  \n",
       "count           9103.000000  \n",
       "mean               2.362820  \n",
       "std                2.161418  \n",
       "min                0.000000  \n",
       "25%                1.000000  \n",
       "50%                2.000000  \n",
       "75%                3.000000  \n",
       "max               55.000000  "
      ]
     },
     "execution_count": 34,
     "metadata": {},
     "output_type": "execute_result"
    }
   ],
   "source": [
    "leads.describe()"
   ]
  },
  {
   "cell_type": "code",
   "execution_count": 35,
   "id": "8c965dd6",
   "metadata": {},
   "outputs": [],
   "source": [
    "leads['TotalVisits'].fillna(3, inplace=True)"
   ]
  },
  {
   "cell_type": "markdown",
   "id": "0bb21ad9",
   "metadata": {},
   "source": [
    "11. Page Views Per Visit"
   ]
  },
  {
   "cell_type": "code",
   "execution_count": 36,
   "id": "8aa75b46",
   "metadata": {},
   "outputs": [],
   "source": [
    "leads['Page Views Per Visit'].fillna(2, inplace=True)"
   ]
  },
  {
   "cell_type": "markdown",
   "id": "aeb30cc1",
   "metadata": {},
   "source": [
    "Let's make all column names follow the same nameing convention"
   ]
  },
  {
   "cell_type": "code",
   "execution_count": 37,
   "id": "9fcc1675",
   "metadata": {},
   "outputs": [],
   "source": [
    "leads.columns = leads.columns.str.lower().str.replace(' ','_')\n",
    "string_columns = list(leads.dtypes[leads.dtypes=='Object'].index)\n",
    "\n",
    "for col in string_columns:\n",
    "    leads[col] = leads[col].str.lower().str.replace(' ', '_')"
   ]
  },
  {
   "cell_type": "markdown",
   "id": "ec533a89",
   "metadata": {},
   "source": [
    "Split our data into trian and test datasets"
   ]
  },
  {
   "cell_type": "code",
   "execution_count": 38,
   "id": "f68d7ab2",
   "metadata": {},
   "outputs": [],
   "source": [
    "from sklearn.model_selection import train_test_split"
   ]
  },
  {
   "cell_type": "code",
   "execution_count": 39,
   "id": "4e54432d",
   "metadata": {},
   "outputs": [],
   "source": [
    "train_full, test_X = train_test_split(leads, test_size=0.2, random_state=1)  "
   ]
  },
  {
   "cell_type": "code",
   "execution_count": 40,
   "id": "eac0ce84",
   "metadata": {},
   "outputs": [],
   "source": [
    "train_X, val_X = train_test_split(train_full, test_size=0.2, random_state=1)"
   ]
  },
  {
   "cell_type": "code",
   "execution_count": 41,
   "id": "98ac33a7",
   "metadata": {},
   "outputs": [],
   "source": [
    "train_y = train_X['converted'].values.reshape(-1,1)\n",
    "val_y = val_X['converted'].values.reshape(-1,1)\n",
    "test_y = test_X['converted'].values.reshape(-1,1)"
   ]
  },
  {
   "cell_type": "code",
   "execution_count": 42,
   "id": "caa83fe2",
   "metadata": {},
   "outputs": [
    {
     "name": "stdout",
     "output_type": "stream",
     "text": [
      "5913\n",
      "1479\n",
      "1848\n"
     ]
    }
   ],
   "source": [
    "print(f'{len(train_y)}\\n{len(val_y)}\\n{len(test_y)}')"
   ]
  },
  {
   "cell_type": "markdown",
   "id": "ea181a3e",
   "metadata": {},
   "source": [
    "#### Explotary Data Analysis"
   ]
  },
  {
   "cell_type": "markdown",
   "id": "db148971",
   "metadata": {},
   "source": [
    "Let's make two lists: categorical, containing names of categorical variables and numerical, containing names of numerical variables"
   ]
  },
  {
   "cell_type": "code",
   "execution_count": 43,
   "id": "4bedce85",
   "metadata": {},
   "outputs": [],
   "source": [
    "categorical_df = leads.select_dtypes(include='object')\n",
    "categorical_df.drop(['prospect_id'], axis=1, inplace=True)\n",
    "categorical = list(categorical_df.columns)\n",
    "\n",
    "numerical_df = leads.select_dtypes(exclude='object')\n",
    "numerical_df.drop(['lead_number', 'converted'], axis=1, inplace=True)\n",
    "numerical = list(numerical_df)"
   ]
  },
  {
   "cell_type": "code",
   "execution_count": 44,
   "id": "1bda2cec",
   "metadata": {
    "scrolled": false
   },
   "outputs": [
    {
     "data": {
      "text/html": [
       "<div>\n",
       "<style scoped>\n",
       "    .dataframe tbody tr th:only-of-type {\n",
       "        vertical-align: middle;\n",
       "    }\n",
       "\n",
       "    .dataframe tbody tr th {\n",
       "        vertical-align: top;\n",
       "    }\n",
       "\n",
       "    .dataframe thead th {\n",
       "        text-align: right;\n",
       "    }\n",
       "</style>\n",
       "<table border=\"1\" class=\"dataframe\">\n",
       "  <thead>\n",
       "    <tr style=\"text-align: right;\">\n",
       "      <th></th>\n",
       "      <th>nunique</th>\n",
       "    </tr>\n",
       "  </thead>\n",
       "  <tbody>\n",
       "    <tr>\n",
       "      <th>country</th>\n",
       "      <td>35</td>\n",
       "    </tr>\n",
       "    <tr>\n",
       "      <th>lead_source</th>\n",
       "      <td>19</td>\n",
       "    </tr>\n",
       "    <tr>\n",
       "      <th>specialization</th>\n",
       "      <td>19</td>\n",
       "    </tr>\n",
       "    <tr>\n",
       "      <th>last_activity</th>\n",
       "      <td>17</td>\n",
       "    </tr>\n",
       "    <tr>\n",
       "      <th>last_notable_activity</th>\n",
       "      <td>15</td>\n",
       "    </tr>\n",
       "    <tr>\n",
       "      <th>how_did_you_hear_about_x_education</th>\n",
       "      <td>10</td>\n",
       "    </tr>\n",
       "    <tr>\n",
       "      <th>city</th>\n",
       "      <td>7</td>\n",
       "    </tr>\n",
       "    <tr>\n",
       "      <th>lead_profile</th>\n",
       "      <td>6</td>\n",
       "    </tr>\n",
       "    <tr>\n",
       "      <th>what_is_your_current_occupation</th>\n",
       "      <td>6</td>\n",
       "    </tr>\n",
       "    <tr>\n",
       "      <th>lead_origin</th>\n",
       "      <td>5</td>\n",
       "    </tr>\n",
       "    <tr>\n",
       "      <th>search</th>\n",
       "      <td>2</td>\n",
       "    </tr>\n",
       "    <tr>\n",
       "      <th>what_matters_most_to_you_in_choosing_a_course</th>\n",
       "      <td>2</td>\n",
       "    </tr>\n",
       "    <tr>\n",
       "      <th>newspaper</th>\n",
       "      <td>2</td>\n",
       "    </tr>\n",
       "    <tr>\n",
       "      <th>digital_advertisement</th>\n",
       "      <td>2</td>\n",
       "    </tr>\n",
       "    <tr>\n",
       "      <th>through_recommendations</th>\n",
       "      <td>2</td>\n",
       "    </tr>\n",
       "    <tr>\n",
       "      <th>do_not_call</th>\n",
       "      <td>2</td>\n",
       "    </tr>\n",
       "    <tr>\n",
       "      <th>do_not_email</th>\n",
       "      <td>2</td>\n",
       "    </tr>\n",
       "    <tr>\n",
       "      <th>a_free_copy_of_mastering_the_interview</th>\n",
       "      <td>2</td>\n",
       "    </tr>\n",
       "    <tr>\n",
       "      <th>newspaper_article</th>\n",
       "      <td>2</td>\n",
       "    </tr>\n",
       "    <tr>\n",
       "      <th>magazine</th>\n",
       "      <td>1</td>\n",
       "    </tr>\n",
       "    <tr>\n",
       "      <th>x_education_forums</th>\n",
       "      <td>1</td>\n",
       "    </tr>\n",
       "    <tr>\n",
       "      <th>receive_more_updates_about_our_courses</th>\n",
       "      <td>1</td>\n",
       "    </tr>\n",
       "    <tr>\n",
       "      <th>update_me_on_supply_chain_content</th>\n",
       "      <td>1</td>\n",
       "    </tr>\n",
       "    <tr>\n",
       "      <th>get_updates_on_dm_content</th>\n",
       "      <td>1</td>\n",
       "    </tr>\n",
       "    <tr>\n",
       "      <th>i_agree_to_pay_the_amount_through_cheque</th>\n",
       "      <td>1</td>\n",
       "    </tr>\n",
       "  </tbody>\n",
       "</table>\n",
       "</div>"
      ],
      "text/plain": [
       "                                               nunique\n",
       "country                                             35\n",
       "lead_source                                         19\n",
       "specialization                                      19\n",
       "last_activity                                       17\n",
       "last_notable_activity                               15\n",
       "how_did_you_hear_about_x_education                  10\n",
       "city                                                 7\n",
       "lead_profile                                         6\n",
       "what_is_your_current_occupation                      6\n",
       "lead_origin                                          5\n",
       "search                                               2\n",
       "what_matters_most_to_you_in_choosing_a_course        2\n",
       "newspaper                                            2\n",
       "digital_advertisement                                2\n",
       "through_recommendations                              2\n",
       "do_not_call                                          2\n",
       "do_not_email                                         2\n",
       "a_free_copy_of_mastering_the_interview               2\n",
       "newspaper_article                                    2\n",
       "magazine                                             1\n",
       "x_education_forums                                   1\n",
       "receive_more_updates_about_our_courses               1\n",
       "update_me_on_supply_chain_content                    1\n",
       "get_updates_on_dm_content                            1\n",
       "i_agree_to_pay_the_amount_through_cheque             1"
      ]
     },
     "execution_count": 44,
     "metadata": {},
     "output_type": "execute_result"
    }
   ],
   "source": [
    "train_X[categorical].nunique().to_frame('nunique').sort_values('nunique', ascending=False)"
   ]
  },
  {
   "cell_type": "code",
   "execution_count": 45,
   "id": "8866f0ec",
   "metadata": {},
   "outputs": [
    {
     "data": {
      "text/plain": [
       "0    3629\n",
       "1    2284\n",
       "Name: converted, dtype: int64"
      ]
     },
     "execution_count": 45,
     "metadata": {},
     "output_type": "execute_result"
    }
   ],
   "source": [
    "train_X['converted'].value_counts()"
   ]
  },
  {
   "cell_type": "markdown",
   "id": "ec11b913",
   "metadata": {},
   "source": [
    "In our data, 2832 leads converted their contract and 4560 leads didn't convert. In order to find convering rate we can divide 2831 by 4560 or use mean() funtion, which will do the same thing."
   ]
  },
  {
   "cell_type": "code",
   "execution_count": 46,
   "id": "c50b2c5a",
   "metadata": {},
   "outputs": [
    {
     "name": "stdout",
     "output_type": "stream",
     "text": [
      "Only 38.6% of leads have been successfully converted.\n"
     ]
    }
   ],
   "source": [
    "global_mean = round(train_X['converted'].mean(),3)\n",
    "print(f'Only {global_mean*100}% of leads have been successfully converted.')"
   ]
  },
  {
   "cell_type": "markdown",
   "id": "20c8304f",
   "metadata": {},
   "source": [
    "If we choose specific column and find converted mean, we will know converting rate of that group. We can do it by groupby function.\n",
    "\n",
    "If difference between global converting rate and that column's converting rate is positive, it means that this group of leads convert their contracts more than general. If it's negative, they convert less than general. And if difference between the rates is the small, the value is not important when predicting converting because this group of leads is not really different from rest of leads.\n",
    "\n",
    "Reliability = global rate / group rate. If reliability is lower than 1, the group has lower reliability. And if group reliability is around 1, it's not different from global rate. And if it's above 1, it means that it has more reability that leads will convert their contracts. "
   ]
  },
  {
   "cell_type": "code",
   "execution_count": 47,
   "id": "885c65dc",
   "metadata": {},
   "outputs": [
    {
     "data": {
      "text/html": [
       "<div>\n",
       "<style scoped>\n",
       "    .dataframe tbody tr th:only-of-type {\n",
       "        vertical-align: middle;\n",
       "    }\n",
       "\n",
       "    .dataframe tbody tr th {\n",
       "        vertical-align: top;\n",
       "    }\n",
       "\n",
       "    .dataframe thead th {\n",
       "        text-align: right;\n",
       "    }\n",
       "</style>\n",
       "<table border=\"1\" class=\"dataframe\">\n",
       "  <thead>\n",
       "    <tr style=\"text-align: right;\">\n",
       "      <th></th>\n",
       "      <th>mean</th>\n",
       "      <th>diff</th>\n",
       "      <th>reliability</th>\n",
       "    </tr>\n",
       "    <tr>\n",
       "      <th>what_is_your_current_occupation</th>\n",
       "      <th></th>\n",
       "      <th></th>\n",
       "      <th></th>\n",
       "    </tr>\n",
       "  </thead>\n",
       "  <tbody>\n",
       "    <tr>\n",
       "      <th>Businessman</th>\n",
       "      <td>0.400000</td>\n",
       "      <td>-0.014000</td>\n",
       "      <td>1.036269</td>\n",
       "    </tr>\n",
       "    <tr>\n",
       "      <th>Housewife</th>\n",
       "      <td>1.000000</td>\n",
       "      <td>-0.614000</td>\n",
       "      <td>2.590674</td>\n",
       "    </tr>\n",
       "    <tr>\n",
       "      <th>Other</th>\n",
       "      <td>0.147387</td>\n",
       "      <td>0.238613</td>\n",
       "      <td>0.381832</td>\n",
       "    </tr>\n",
       "    <tr>\n",
       "      <th>Student</th>\n",
       "      <td>0.377778</td>\n",
       "      <td>0.008222</td>\n",
       "      <td>0.978699</td>\n",
       "    </tr>\n",
       "    <tr>\n",
       "      <th>Unemployed</th>\n",
       "      <td>0.431573</td>\n",
       "      <td>-0.045573</td>\n",
       "      <td>1.118065</td>\n",
       "    </tr>\n",
       "    <tr>\n",
       "      <th>Working Professional</th>\n",
       "      <td>0.924107</td>\n",
       "      <td>-0.538107</td>\n",
       "      <td>2.394060</td>\n",
       "    </tr>\n",
       "  </tbody>\n",
       "</table>\n",
       "</div>"
      ],
      "text/plain": [
       "                                     mean      diff  reliability\n",
       "what_is_your_current_occupation                                 \n",
       "Businessman                      0.400000 -0.014000     1.036269\n",
       "Housewife                        1.000000 -0.614000     2.590674\n",
       "Other                            0.147387  0.238613     0.381832\n",
       "Student                          0.377778  0.008222     0.978699\n",
       "Unemployed                       0.431573 -0.045573     1.118065\n",
       "Working Professional             0.924107 -0.538107     2.394060"
      ]
     },
     "execution_count": 47,
     "metadata": {},
     "output_type": "execute_result"
    }
   ],
   "source": [
    "grouped_train = train_X.groupby('what_is_your_current_occupation').converted.agg(['mean'])\n",
    "grouped_train['diff'] = global_mean - grouped_train['mean']\n",
    "grouped_train['reliability'] = grouped_train['mean']/global_mean\n",
    "grouped_train"
   ]
  },
  {
   "cell_type": "markdown",
   "id": "0dd66148",
   "metadata": {},
   "source": [
    "Housewife and Working Professional categories are most likely to be converted. There are sharp differences between values."
   ]
  },
  {
   "cell_type": "code",
   "execution_count": 48,
   "id": "6dfc51e2",
   "metadata": {},
   "outputs": [],
   "source": [
    "def converted_stat(column):\n",
    "    data_group = train_X.groupby(column).converted.agg(['mean'])\n",
    "    data_group['diff'] = data_group['mean'] - global_mean\n",
    "    data_group['reliability'] = data_group['mean']/global_mean\n",
    "    return data_group"
   ]
  },
  {
   "cell_type": "code",
   "execution_count": 49,
   "id": "e43dc44d",
   "metadata": {},
   "outputs": [
    {
     "data": {
      "text/html": [
       "<div>\n",
       "<style scoped>\n",
       "    .dataframe tbody tr th:only-of-type {\n",
       "        vertical-align: middle;\n",
       "    }\n",
       "\n",
       "    .dataframe tbody tr th {\n",
       "        vertical-align: top;\n",
       "    }\n",
       "\n",
       "    .dataframe thead th {\n",
       "        text-align: right;\n",
       "    }\n",
       "</style>\n",
       "<table border=\"1\" class=\"dataframe\">\n",
       "  <thead>\n",
       "    <tr style=\"text-align: right;\">\n",
       "      <th></th>\n",
       "      <th>mean</th>\n",
       "      <th>diff</th>\n",
       "      <th>reliability</th>\n",
       "    </tr>\n",
       "    <tr>\n",
       "      <th>what_matters_most_to_you_in_choosing_a_course</th>\n",
       "      <th></th>\n",
       "      <th></th>\n",
       "      <th></th>\n",
       "    </tr>\n",
       "  </thead>\n",
       "  <tbody>\n",
       "    <tr>\n",
       "      <th>Better Career Prospects</th>\n",
       "      <td>0.485245</td>\n",
       "      <td>0.099245</td>\n",
       "      <td>1.257112</td>\n",
       "    </tr>\n",
       "    <tr>\n",
       "      <th>Other</th>\n",
       "      <td>0.143191</td>\n",
       "      <td>-0.242809</td>\n",
       "      <td>0.370961</td>\n",
       "    </tr>\n",
       "  </tbody>\n",
       "</table>\n",
       "</div>"
      ],
      "text/plain": [
       "                                                   mean      diff  reliability\n",
       "what_matters_most_to_you_in_choosing_a_course                                 \n",
       "Better Career Prospects                        0.485245  0.099245     1.257112\n",
       "Other                                          0.143191 -0.242809     0.370961"
      ]
     },
     "execution_count": 49,
     "metadata": {},
     "output_type": "execute_result"
    }
   ],
   "source": [
    "converted_stat('what_matters_most_to_you_in_choosing_a_course')"
   ]
  },
  {
   "cell_type": "code",
   "execution_count": 50,
   "id": "c057690b",
   "metadata": {},
   "outputs": [
    {
     "data": {
      "text/html": [
       "<div>\n",
       "<style scoped>\n",
       "    .dataframe tbody tr th:only-of-type {\n",
       "        vertical-align: middle;\n",
       "    }\n",
       "\n",
       "    .dataframe tbody tr th {\n",
       "        vertical-align: top;\n",
       "    }\n",
       "\n",
       "    .dataframe thead th {\n",
       "        text-align: right;\n",
       "    }\n",
       "</style>\n",
       "<table border=\"1\" class=\"dataframe\">\n",
       "  <thead>\n",
       "    <tr style=\"text-align: right;\">\n",
       "      <th></th>\n",
       "      <th>mean</th>\n",
       "      <th>diff</th>\n",
       "      <th>reliability</th>\n",
       "    </tr>\n",
       "    <tr>\n",
       "      <th>a_free_copy_of_mastering_the_interview</th>\n",
       "      <th></th>\n",
       "      <th></th>\n",
       "      <th></th>\n",
       "    </tr>\n",
       "  </thead>\n",
       "  <tbody>\n",
       "    <tr>\n",
       "      <th>No</th>\n",
       "      <td>0.399409</td>\n",
       "      <td>0.013409</td>\n",
       "      <td>1.034738</td>\n",
       "    </tr>\n",
       "    <tr>\n",
       "      <th>Yes</th>\n",
       "      <td>0.357451</td>\n",
       "      <td>-0.028549</td>\n",
       "      <td>0.926040</td>\n",
       "    </tr>\n",
       "  </tbody>\n",
       "</table>\n",
       "</div>"
      ],
      "text/plain": [
       "                                            mean      diff  reliability\n",
       "a_free_copy_of_mastering_the_interview                                 \n",
       "No                                      0.399409  0.013409     1.034738\n",
       "Yes                                     0.357451 -0.028549     0.926040"
      ]
     },
     "execution_count": 50,
     "metadata": {},
     "output_type": "execute_result"
    }
   ],
   "source": [
    "converted_stat('a_free_copy_of_mastering_the_interview')"
   ]
  },
  {
   "cell_type": "code",
   "execution_count": 51,
   "id": "097ff98a",
   "metadata": {},
   "outputs": [
    {
     "data": {
      "text/html": [
       "<div>\n",
       "<style scoped>\n",
       "    .dataframe tbody tr th:only-of-type {\n",
       "        vertical-align: middle;\n",
       "    }\n",
       "\n",
       "    .dataframe tbody tr th {\n",
       "        vertical-align: top;\n",
       "    }\n",
       "\n",
       "    .dataframe thead th {\n",
       "        text-align: right;\n",
       "    }\n",
       "</style>\n",
       "<table border=\"1\" class=\"dataframe\">\n",
       "  <thead>\n",
       "    <tr style=\"text-align: right;\">\n",
       "      <th></th>\n",
       "      <th>mean</th>\n",
       "      <th>diff</th>\n",
       "      <th>reliability</th>\n",
       "    </tr>\n",
       "    <tr>\n",
       "      <th>city</th>\n",
       "      <th></th>\n",
       "      <th></th>\n",
       "      <th></th>\n",
       "    </tr>\n",
       "  </thead>\n",
       "  <tbody>\n",
       "    <tr>\n",
       "      <th>Mumbai</th>\n",
       "      <td>0.407927</td>\n",
       "      <td>0.021927</td>\n",
       "      <td>1.056804</td>\n",
       "    </tr>\n",
       "    <tr>\n",
       "      <th>Other Cities</th>\n",
       "      <td>0.389522</td>\n",
       "      <td>0.003522</td>\n",
       "      <td>1.009123</td>\n",
       "    </tr>\n",
       "    <tr>\n",
       "      <th>Other Cities of Maharashtra</th>\n",
       "      <td>0.427119</td>\n",
       "      <td>0.041119</td>\n",
       "      <td>1.106525</td>\n",
       "    </tr>\n",
       "    <tr>\n",
       "      <th>Other Metro Cities</th>\n",
       "      <td>0.410359</td>\n",
       "      <td>0.024359</td>\n",
       "      <td>1.063105</td>\n",
       "    </tr>\n",
       "    <tr>\n",
       "      <th>Select</th>\n",
       "      <td>0.343924</td>\n",
       "      <td>-0.042076</td>\n",
       "      <td>0.890996</td>\n",
       "    </tr>\n",
       "    <tr>\n",
       "      <th>Thane &amp; Outskirts</th>\n",
       "      <td>0.457906</td>\n",
       "      <td>0.071906</td>\n",
       "      <td>1.186284</td>\n",
       "    </tr>\n",
       "    <tr>\n",
       "      <th>Tier II Cities</th>\n",
       "      <td>0.372093</td>\n",
       "      <td>-0.013907</td>\n",
       "      <td>0.963972</td>\n",
       "    </tr>\n",
       "  </tbody>\n",
       "</table>\n",
       "</div>"
      ],
      "text/plain": [
       "                                 mean      diff  reliability\n",
       "city                                                        \n",
       "Mumbai                       0.407927  0.021927     1.056804\n",
       "Other Cities                 0.389522  0.003522     1.009123\n",
       "Other Cities of Maharashtra  0.427119  0.041119     1.106525\n",
       "Other Metro Cities           0.410359  0.024359     1.063105\n",
       "Select                       0.343924 -0.042076     0.890996\n",
       "Thane & Outskirts            0.457906  0.071906     1.186284\n",
       "Tier II Cities               0.372093 -0.013907     0.963972"
      ]
     },
     "execution_count": 51,
     "metadata": {},
     "output_type": "execute_result"
    }
   ],
   "source": [
    "converted_stat('city')"
   ]
  },
  {
   "cell_type": "code",
   "execution_count": 52,
   "id": "06219047",
   "metadata": {},
   "outputs": [
    {
     "data": {
      "text/html": [
       "<div>\n",
       "<style scoped>\n",
       "    .dataframe tbody tr th:only-of-type {\n",
       "        vertical-align: middle;\n",
       "    }\n",
       "\n",
       "    .dataframe tbody tr th {\n",
       "        vertical-align: top;\n",
       "    }\n",
       "\n",
       "    .dataframe thead th {\n",
       "        text-align: right;\n",
       "    }\n",
       "</style>\n",
       "<table border=\"1\" class=\"dataframe\">\n",
       "  <thead>\n",
       "    <tr style=\"text-align: right;\">\n",
       "      <th></th>\n",
       "      <th>mean</th>\n",
       "      <th>diff</th>\n",
       "      <th>reliability</th>\n",
       "    </tr>\n",
       "    <tr>\n",
       "      <th>do_not_email</th>\n",
       "      <th></th>\n",
       "      <th></th>\n",
       "      <th></th>\n",
       "    </tr>\n",
       "  </thead>\n",
       "  <tbody>\n",
       "    <tr>\n",
       "      <th>No</th>\n",
       "      <td>0.405112</td>\n",
       "      <td>0.019112</td>\n",
       "      <td>1.049513</td>\n",
       "    </tr>\n",
       "    <tr>\n",
       "      <th>Yes</th>\n",
       "      <td>0.170526</td>\n",
       "      <td>-0.215474</td>\n",
       "      <td>0.441778</td>\n",
       "    </tr>\n",
       "  </tbody>\n",
       "</table>\n",
       "</div>"
      ],
      "text/plain": [
       "                  mean      diff  reliability\n",
       "do_not_email                                 \n",
       "No            0.405112  0.019112     1.049513\n",
       "Yes           0.170526 -0.215474     0.441778"
      ]
     },
     "execution_count": 52,
     "metadata": {},
     "output_type": "execute_result"
    }
   ],
   "source": [
    "converted_stat('do_not_email')"
   ]
  },
  {
   "cell_type": "code",
   "execution_count": 53,
   "id": "6a292f07",
   "metadata": {},
   "outputs": [
    {
     "data": {
      "text/html": [
       "<div>\n",
       "<style scoped>\n",
       "    .dataframe tbody tr th:only-of-type {\n",
       "        vertical-align: middle;\n",
       "    }\n",
       "\n",
       "    .dataframe tbody tr th {\n",
       "        vertical-align: top;\n",
       "    }\n",
       "\n",
       "    .dataframe thead th {\n",
       "        text-align: right;\n",
       "    }\n",
       "</style>\n",
       "<table border=\"1\" class=\"dataframe\">\n",
       "  <thead>\n",
       "    <tr style=\"text-align: right;\">\n",
       "      <th></th>\n",
       "      <th>mean</th>\n",
       "      <th>diff</th>\n",
       "      <th>reliability</th>\n",
       "    </tr>\n",
       "    <tr>\n",
       "      <th>lead_origin</th>\n",
       "      <th></th>\n",
       "      <th></th>\n",
       "      <th></th>\n",
       "    </tr>\n",
       "  </thead>\n",
       "  <tbody>\n",
       "    <tr>\n",
       "      <th>API</th>\n",
       "      <td>0.308132</td>\n",
       "      <td>-0.077868</td>\n",
       "      <td>0.798269</td>\n",
       "    </tr>\n",
       "    <tr>\n",
       "      <th>Landing Page Submission</th>\n",
       "      <td>0.363375</td>\n",
       "      <td>-0.022625</td>\n",
       "      <td>0.941386</td>\n",
       "    </tr>\n",
       "    <tr>\n",
       "      <th>Lead Add Form</th>\n",
       "      <td>0.924211</td>\n",
       "      <td>0.538211</td>\n",
       "      <td>2.394328</td>\n",
       "    </tr>\n",
       "    <tr>\n",
       "      <th>Lead Import</th>\n",
       "      <td>0.181818</td>\n",
       "      <td>-0.204182</td>\n",
       "      <td>0.471032</td>\n",
       "    </tr>\n",
       "    <tr>\n",
       "      <th>Quick Add Form</th>\n",
       "      <td>1.000000</td>\n",
       "      <td>0.614000</td>\n",
       "      <td>2.590674</td>\n",
       "    </tr>\n",
       "  </tbody>\n",
       "</table>\n",
       "</div>"
      ],
      "text/plain": [
       "                             mean      diff  reliability\n",
       "lead_origin                                             \n",
       "API                      0.308132 -0.077868     0.798269\n",
       "Landing Page Submission  0.363375 -0.022625     0.941386\n",
       "Lead Add Form            0.924211  0.538211     2.394328\n",
       "Lead Import              0.181818 -0.204182     0.471032\n",
       "Quick Add Form           1.000000  0.614000     2.590674"
      ]
     },
     "execution_count": 53,
     "metadata": {},
     "output_type": "execute_result"
    }
   ],
   "source": [
    "converted_stat('lead_origin')"
   ]
  },
  {
   "cell_type": "markdown",
   "id": "b74e8a06",
   "metadata": {},
   "source": [
    "***Dependency between categorical variables and target variable***"
   ]
  },
  {
   "cell_type": "code",
   "execution_count": 54,
   "id": "33cb6b1f",
   "metadata": {},
   "outputs": [
    {
     "data": {
      "text/html": [
       "<div>\n",
       "<style scoped>\n",
       "    .dataframe tbody tr th:only-of-type {\n",
       "        vertical-align: middle;\n",
       "    }\n",
       "\n",
       "    .dataframe tbody tr th {\n",
       "        vertical-align: top;\n",
       "    }\n",
       "\n",
       "    .dataframe thead th {\n",
       "        text-align: right;\n",
       "    }\n",
       "</style>\n",
       "<table border=\"1\" class=\"dataframe\">\n",
       "  <thead>\n",
       "    <tr style=\"text-align: right;\">\n",
       "      <th></th>\n",
       "      <th>Mi</th>\n",
       "    </tr>\n",
       "  </thead>\n",
       "  <tbody>\n",
       "    <tr>\n",
       "      <th>what_is_your_current_occupation</th>\n",
       "      <td>0.095197</td>\n",
       "    </tr>\n",
       "    <tr>\n",
       "      <th>last_activity</th>\n",
       "      <td>0.088512</td>\n",
       "    </tr>\n",
       "    <tr>\n",
       "      <th>lead_profile</th>\n",
       "      <td>0.082869</td>\n",
       "    </tr>\n",
       "    <tr>\n",
       "      <th>last_notable_activity</th>\n",
       "      <td>0.073860</td>\n",
       "    </tr>\n",
       "    <tr>\n",
       "      <th>lead_source</th>\n",
       "      <td>0.061560</td>\n",
       "    </tr>\n",
       "    <tr>\n",
       "      <th>what_matters_most_to_you_in_choosing_a_course</th>\n",
       "      <td>0.060058</td>\n",
       "    </tr>\n",
       "    <tr>\n",
       "      <th>lead_origin</th>\n",
       "      <td>0.056251</td>\n",
       "    </tr>\n",
       "    <tr>\n",
       "      <th>specialization</th>\n",
       "      <td>0.014624</td>\n",
       "    </tr>\n",
       "    <tr>\n",
       "      <th>do_not_email</th>\n",
       "      <td>0.010327</td>\n",
       "    </tr>\n",
       "    <tr>\n",
       "      <th>city</th>\n",
       "      <td>0.003002</td>\n",
       "    </tr>\n",
       "    <tr>\n",
       "      <th>country</th>\n",
       "      <td>0.002936</td>\n",
       "    </tr>\n",
       "    <tr>\n",
       "      <th>how_did_you_hear_about_x_education</th>\n",
       "      <td>0.001446</td>\n",
       "    </tr>\n",
       "    <tr>\n",
       "      <th>a_free_copy_of_mastering_the_interview</th>\n",
       "      <td>0.000797</td>\n",
       "    </tr>\n",
       "    <tr>\n",
       "      <th>do_not_call</th>\n",
       "      <td>0.000206</td>\n",
       "    </tr>\n",
       "    <tr>\n",
       "      <th>through_recommendations</th>\n",
       "      <td>0.000168</td>\n",
       "    </tr>\n",
       "    <tr>\n",
       "      <th>newspaper</th>\n",
       "      <td>0.000053</td>\n",
       "    </tr>\n",
       "    <tr>\n",
       "      <th>x_education_forums</th>\n",
       "      <td>0.000053</td>\n",
       "    </tr>\n",
       "    <tr>\n",
       "      <th>digital_advertisement</th>\n",
       "      <td>0.000018</td>\n",
       "    </tr>\n",
       "    <tr>\n",
       "      <th>newspaper_article</th>\n",
       "      <td>0.000006</td>\n",
       "    </tr>\n",
       "    <tr>\n",
       "      <th>search</th>\n",
       "      <td>0.000003</td>\n",
       "    </tr>\n",
       "    <tr>\n",
       "      <th>receive_more_updates_about_our_courses</th>\n",
       "      <td>0.000000</td>\n",
       "    </tr>\n",
       "    <tr>\n",
       "      <th>update_me_on_supply_chain_content</th>\n",
       "      <td>0.000000</td>\n",
       "    </tr>\n",
       "    <tr>\n",
       "      <th>get_updates_on_dm_content</th>\n",
       "      <td>0.000000</td>\n",
       "    </tr>\n",
       "    <tr>\n",
       "      <th>magazine</th>\n",
       "      <td>0.000000</td>\n",
       "    </tr>\n",
       "    <tr>\n",
       "      <th>i_agree_to_pay_the_amount_through_cheque</th>\n",
       "      <td>0.000000</td>\n",
       "    </tr>\n",
       "  </tbody>\n",
       "</table>\n",
       "</div>"
      ],
      "text/plain": [
       "                                                     Mi\n",
       "what_is_your_current_occupation                0.095197\n",
       "last_activity                                  0.088512\n",
       "lead_profile                                   0.082869\n",
       "last_notable_activity                          0.073860\n",
       "lead_source                                    0.061560\n",
       "what_matters_most_to_you_in_choosing_a_course  0.060058\n",
       "lead_origin                                    0.056251\n",
       "specialization                                 0.014624\n",
       "do_not_email                                   0.010327\n",
       "city                                           0.003002\n",
       "country                                        0.002936\n",
       "how_did_you_hear_about_x_education             0.001446\n",
       "a_free_copy_of_mastering_the_interview         0.000797\n",
       "do_not_call                                    0.000206\n",
       "through_recommendations                        0.000168\n",
       "newspaper                                      0.000053\n",
       "x_education_forums                             0.000053\n",
       "digital_advertisement                          0.000018\n",
       "newspaper_article                              0.000006\n",
       "search                                         0.000003\n",
       "receive_more_updates_about_our_courses         0.000000\n",
       "update_me_on_supply_chain_content              0.000000\n",
       "get_updates_on_dm_content                      0.000000\n",
       "magazine                                       0.000000\n",
       "i_agree_to_pay_the_amount_through_cheque       0.000000"
      ]
     },
     "execution_count": 54,
     "metadata": {},
     "output_type": "execute_result"
    }
   ],
   "source": [
    "from sklearn.metrics import mutual_info_score\n",
    "\n",
    "def calculate_mi(series):\n",
    "    return mutual_info_score(series, leads['converted'])\n",
    "\n",
    "data_mi = leads[categorical].apply(calculate_mi)\n",
    "data_mi = data_mi.sort_values(ascending=False).to_frame(name='Mi')\n",
    "data_mi"
   ]
  },
  {
   "cell_type": "markdown",
   "id": "303cd537",
   "metadata": {},
   "source": [
    "***Correcaltion Coefficient***"
   ]
  },
  {
   "cell_type": "code",
   "execution_count": 55,
   "id": "fc778ce9",
   "metadata": {},
   "outputs": [
    {
     "data": {
      "text/html": [
       "<div>\n",
       "<style scoped>\n",
       "    .dataframe tbody tr th:only-of-type {\n",
       "        vertical-align: middle;\n",
       "    }\n",
       "\n",
       "    .dataframe tbody tr th {\n",
       "        vertical-align: top;\n",
       "    }\n",
       "\n",
       "    .dataframe thead th {\n",
       "        text-align: right;\n",
       "    }\n",
       "</style>\n",
       "<table border=\"1\" class=\"dataframe\">\n",
       "  <thead>\n",
       "    <tr style=\"text-align: right;\">\n",
       "      <th></th>\n",
       "      <th>Correlations</th>\n",
       "    </tr>\n",
       "  </thead>\n",
       "  <tbody>\n",
       "    <tr>\n",
       "      <th>totalvisits</th>\n",
       "      <td>0.029119</td>\n",
       "    </tr>\n",
       "    <tr>\n",
       "      <th>total_time_spent_on_website</th>\n",
       "      <td>0.362483</td>\n",
       "    </tr>\n",
       "    <tr>\n",
       "      <th>page_views_per_visit</th>\n",
       "      <td>-0.005068</td>\n",
       "    </tr>\n",
       "  </tbody>\n",
       "</table>\n",
       "</div>"
      ],
      "text/plain": [
       "                             Correlations\n",
       "totalvisits                      0.029119\n",
       "total_time_spent_on_website      0.362483\n",
       "page_views_per_visit            -0.005068"
      ]
     },
     "execution_count": 55,
     "metadata": {},
     "output_type": "execute_result"
    }
   ],
   "source": [
    "leads[numerical].corrwith(leads['converted']).to_frame('Correlations')"
   ]
  },
  {
   "cell_type": "markdown",
   "id": "4fd2721b",
   "metadata": {},
   "source": [
    "Totalvisits and total_time_spent_on_website has positive correlation, the more leads visit website and the more time they spent on website, the more leads are converted. But page_views_per_visit\thas negative correlation, the more number of pages on the website are viewed during the visits, the less they are converted."
   ]
  },
  {
   "cell_type": "markdown",
   "id": "34449b8d",
   "metadata": {},
   "source": [
    "We choose categorical variables with me score more than 0.01."
   ]
  },
  {
   "cell_type": "markdown",
   "id": "83baf0e7",
   "metadata": {},
   "source": [
    "***Vectorizing variables***"
   ]
  },
  {
   "cell_type": "code",
   "execution_count": 56,
   "id": "3a81f28b",
   "metadata": {},
   "outputs": [],
   "source": [
    "cat = list(data_mi.iloc[0:9,:].index)"
   ]
  },
  {
   "cell_type": "code",
   "execution_count": 57,
   "id": "5a94b1f2",
   "metadata": {},
   "outputs": [
    {
     "data": {
      "text/plain": [
       "['what_is_your_current_occupation',\n",
       " 'last_activity',\n",
       " 'lead_profile',\n",
       " 'last_notable_activity',\n",
       " 'lead_source',\n",
       " 'what_matters_most_to_you_in_choosing_a_course',\n",
       " 'lead_origin',\n",
       " 'specialization',\n",
       " 'do_not_email']"
      ]
     },
     "execution_count": 57,
     "metadata": {},
     "output_type": "execute_result"
    }
   ],
   "source": [
    "cat"
   ]
  },
  {
   "cell_type": "code",
   "execution_count": 58,
   "id": "8a1470b4",
   "metadata": {},
   "outputs": [],
   "source": [
    "train_dict = train_X[cat+numerical].to_dict(orient='rows')"
   ]
  },
  {
   "cell_type": "code",
   "execution_count": 59,
   "id": "ab30ce4a",
   "metadata": {},
   "outputs": [
    {
     "data": {
      "text/plain": [
       "{'what_is_your_current_occupation': 'Unemployed',\n",
       " 'last_activity': 'SMS Sent',\n",
       " 'lead_profile': 'Select',\n",
       " 'last_notable_activity': 'SMS Sent',\n",
       " 'lead_source': 'Direct Traffic',\n",
       " 'what_matters_most_to_you_in_choosing_a_course': 'Better Career Prospects',\n",
       " 'lead_origin': 'Landing Page Submission',\n",
       " 'specialization': 'Supply Chain Management',\n",
       " 'do_not_email': 'No',\n",
       " 'totalvisits': 4.0,\n",
       " 'total_time_spent_on_website': 1376,\n",
       " 'page_views_per_visit': 4.0}"
      ]
     },
     "execution_count": 59,
     "metadata": {},
     "output_type": "execute_result"
    }
   ],
   "source": [
    "train_dict[0]"
   ]
  },
  {
   "cell_type": "markdown",
   "id": "4234650b",
   "metadata": {},
   "source": [
    "Column names in data frame is key and rows are values."
   ]
  },
  {
   "cell_type": "code",
   "execution_count": 60,
   "id": "85879478",
   "metadata": {},
   "outputs": [
    {
     "data": {
      "text/plain": [
       "DictVectorizer(sparse=False)"
      ]
     },
     "execution_count": 60,
     "metadata": {},
     "output_type": "execute_result"
    }
   ],
   "source": [
    "from sklearn.feature_extraction import DictVectorizer\n",
    "\n",
    "dv = DictVectorizer(sparse=False)\n",
    "dv.fit(train_dict)"
   ]
  },
  {
   "cell_type": "code",
   "execution_count": 61,
   "id": "e974b195",
   "metadata": {},
   "outputs": [
    {
     "data": {
      "text/plain": [
       "array([1.000e+00, 0.000e+00, 0.000e+00, 0.000e+00, 0.000e+00, 0.000e+00,\n",
       "       0.000e+00, 0.000e+00, 0.000e+00, 0.000e+00, 0.000e+00, 0.000e+00,\n",
       "       0.000e+00, 0.000e+00, 0.000e+00, 1.000e+00, 0.000e+00, 0.000e+00,\n",
       "       0.000e+00, 0.000e+00, 0.000e+00, 0.000e+00, 0.000e+00, 0.000e+00,\n",
       "       0.000e+00, 0.000e+00, 0.000e+00, 0.000e+00, 0.000e+00, 0.000e+00,\n",
       "       1.000e+00, 0.000e+00, 0.000e+00, 0.000e+00, 0.000e+00, 1.000e+00,\n",
       "       0.000e+00, 0.000e+00, 0.000e+00, 0.000e+00, 0.000e+00, 0.000e+00,\n",
       "       0.000e+00, 1.000e+00, 0.000e+00, 0.000e+00, 1.000e+00, 0.000e+00,\n",
       "       0.000e+00, 0.000e+00, 0.000e+00, 0.000e+00, 0.000e+00, 0.000e+00,\n",
       "       0.000e+00, 0.000e+00, 0.000e+00, 0.000e+00, 0.000e+00, 0.000e+00,\n",
       "       0.000e+00, 0.000e+00, 0.000e+00, 0.000e+00, 4.000e+00, 0.000e+00,\n",
       "       0.000e+00, 0.000e+00, 0.000e+00, 0.000e+00, 0.000e+00, 0.000e+00,\n",
       "       0.000e+00, 0.000e+00, 0.000e+00, 0.000e+00, 0.000e+00, 0.000e+00,\n",
       "       0.000e+00, 0.000e+00, 0.000e+00, 0.000e+00, 1.000e+00, 0.000e+00,\n",
       "       1.376e+03, 4.000e+00, 0.000e+00, 0.000e+00, 0.000e+00, 0.000e+00,\n",
       "       1.000e+00, 0.000e+00, 1.000e+00, 0.000e+00])"
      ]
     },
     "execution_count": 61,
     "metadata": {},
     "output_type": "execute_result"
    }
   ],
   "source": [
    "X_train = dv.transform(train_dict)\n",
    "X_train[0]"
   ]
  },
  {
   "cell_type": "markdown",
   "id": "8d06a70a",
   "metadata": {},
   "source": [
    "We vectorized rows into array, to see the column names we can use get_feature_names() funtion."
   ]
  },
  {
   "cell_type": "code",
   "execution_count": 62,
   "id": "b627ad58",
   "metadata": {},
   "outputs": [
    {
     "data": {
      "text/plain": [
       "['do_not_email=No',\n",
       " 'do_not_email=Yes',\n",
       " 'last_activity=Approached upfront',\n",
       " 'last_activity=Converted to Lead',\n",
       " 'last_activity=Email Bounced',\n",
       " 'last_activity=Email Link Clicked',\n",
       " 'last_activity=Email Marked Spam',\n",
       " 'last_activity=Email Opened',\n",
       " 'last_activity=Email Received',\n",
       " 'last_activity=Form Submitted on Website',\n",
       " 'last_activity=Had a Phone Conversation',\n",
       " 'last_activity=Olark Chat Conversation',\n",
       " 'last_activity=Other',\n",
       " 'last_activity=Page Visited on Website',\n",
       " 'last_activity=Resubscribed to emails',\n",
       " 'last_activity=SMS Sent',\n",
       " 'last_activity=Unreachable',\n",
       " 'last_activity=Unsubscribed',\n",
       " 'last_activity=View in browser link Clicked',\n",
       " 'last_notable_activity=Email Bounced',\n",
       " 'last_notable_activity=Email Link Clicked',\n",
       " 'last_notable_activity=Email Marked Spam',\n",
       " 'last_notable_activity=Email Opened',\n",
       " 'last_notable_activity=Email Received',\n",
       " 'last_notable_activity=Form Submitted on Website',\n",
       " 'last_notable_activity=Had a Phone Conversation',\n",
       " 'last_notable_activity=Modified',\n",
       " 'last_notable_activity=Olark Chat Conversation',\n",
       " 'last_notable_activity=Page Visited on Website',\n",
       " 'last_notable_activity=Resubscribed to emails',\n",
       " 'last_notable_activity=SMS Sent',\n",
       " 'last_notable_activity=Unreachable',\n",
       " 'last_notable_activity=Unsubscribed',\n",
       " 'last_notable_activity=View in browser link Clicked',\n",
       " 'lead_origin=API',\n",
       " 'lead_origin=Landing Page Submission',\n",
       " 'lead_origin=Lead Add Form',\n",
       " 'lead_origin=Lead Import',\n",
       " 'lead_origin=Quick Add Form',\n",
       " 'lead_profile=Dual Specialization Student',\n",
       " 'lead_profile=Lateral Student',\n",
       " 'lead_profile=Other Leads',\n",
       " 'lead_profile=Potential Lead',\n",
       " 'lead_profile=Select',\n",
       " 'lead_profile=Student of SomeSchool',\n",
       " 'lead_source=Click2call',\n",
       " 'lead_source=Direct Traffic',\n",
       " 'lead_source=Facebook',\n",
       " 'lead_source=Google',\n",
       " 'lead_source=Live Chat',\n",
       " 'lead_source=NC_EDM',\n",
       " 'lead_source=Olark Chat',\n",
       " 'lead_source=Organic Search',\n",
       " 'lead_source=Pay per Click Ads',\n",
       " 'lead_source=Press_Release',\n",
       " 'lead_source=Reference',\n",
       " 'lead_source=Referral Sites',\n",
       " 'lead_source=Social Media',\n",
       " 'lead_source=WeLearn',\n",
       " 'lead_source=Welingak Website',\n",
       " 'lead_source=bing',\n",
       " 'lead_source=blog',\n",
       " 'lead_source=welearnblog_Home',\n",
       " 'lead_source=youtubechannel',\n",
       " 'page_views_per_visit',\n",
       " 'specialization=Banking, Investment And Insurance',\n",
       " 'specialization=Business Administration',\n",
       " 'specialization=E-Business',\n",
       " 'specialization=E-COMMERCE',\n",
       " 'specialization=Finance Management',\n",
       " 'specialization=Healthcare Management',\n",
       " 'specialization=Hospitality Management',\n",
       " 'specialization=Human Resource Management',\n",
       " 'specialization=IT Projects Management',\n",
       " 'specialization=International Business',\n",
       " 'specialization=Marketing Management',\n",
       " 'specialization=Media and Advertising',\n",
       " 'specialization=Operations Management',\n",
       " 'specialization=Retail Management',\n",
       " 'specialization=Rural and Agribusiness',\n",
       " 'specialization=Select',\n",
       " 'specialization=Services Excellence',\n",
       " 'specialization=Supply Chain Management',\n",
       " 'specialization=Travel and Tourism',\n",
       " 'total_time_spent_on_website',\n",
       " 'totalvisits',\n",
       " 'what_is_your_current_occupation=Businessman',\n",
       " 'what_is_your_current_occupation=Housewife',\n",
       " 'what_is_your_current_occupation=Other',\n",
       " 'what_is_your_current_occupation=Student',\n",
       " 'what_is_your_current_occupation=Unemployed',\n",
       " 'what_is_your_current_occupation=Working Professional',\n",
       " 'what_matters_most_to_you_in_choosing_a_course=Better Career Prospects',\n",
       " 'what_matters_most_to_you_in_choosing_a_course=Other']"
      ]
     },
     "execution_count": 62,
     "metadata": {},
     "output_type": "execute_result"
    }
   ],
   "source": [
    "dv.get_feature_names()"
   ]
  },
  {
   "cell_type": "markdown",
   "id": "21819849",
   "metadata": {},
   "source": [
    "#### Logistic regression"
   ]
  },
  {
   "cell_type": "markdown",
   "id": "b6546373",
   "metadata": {},
   "source": [
    "To predict leads will be converted or not we will use logistic regression model"
   ]
  },
  {
   "cell_type": "code",
   "execution_count": 63,
   "id": "8a0a7b49",
   "metadata": {},
   "outputs": [],
   "source": [
    "val_dict = val_X[cat+numerical].to_dict(orient='rows')\n",
    "X_val = dv.transform(val_dict)"
   ]
  },
  {
   "cell_type": "code",
   "execution_count": 64,
   "id": "68f6e023",
   "metadata": {},
   "outputs": [
    {
     "data": {
      "text/plain": [
       "array([1., 0., 0., 0., 0., 0., 0., 0., 0., 0., 0., 1., 0., 0., 0., 0., 0.,\n",
       "       0., 0., 0., 0., 0., 0., 0., 0., 0., 1., 0., 0., 0., 0., 0., 0., 0.,\n",
       "       1., 0., 0., 0., 0., 0., 0., 0., 0., 1., 0., 0., 0., 0., 0., 0., 0.,\n",
       "       1., 0., 0., 0., 0., 0., 0., 0., 0., 0., 0., 0., 0., 0., 0., 0., 0.,\n",
       "       0., 0., 0., 0., 0., 0., 0., 0., 0., 0., 0., 0., 1., 0., 0., 0., 0.,\n",
       "       0., 0., 0., 1., 0., 0., 0., 0., 1.])"
      ]
     },
     "execution_count": 64,
     "metadata": {},
     "output_type": "execute_result"
    }
   ],
   "source": [
    "X_val[0]"
   ]
  },
  {
   "cell_type": "code",
   "execution_count": 65,
   "id": "741da816",
   "metadata": {},
   "outputs": [
    {
     "data": {
      "text/plain": [
       "LogisticRegression(random_state=1, solver='liblinear')"
      ]
     },
     "execution_count": 65,
     "metadata": {},
     "output_type": "execute_result"
    }
   ],
   "source": [
    "from sklearn.linear_model import LogisticRegression\n",
    "\n",
    "model = LogisticRegression(solver='liblinear', random_state=1)\n",
    "model.fit(X_train, train_y)"
   ]
  },
  {
   "cell_type": "code",
   "execution_count": 66,
   "id": "9bb1e2f9",
   "metadata": {},
   "outputs": [],
   "source": [
    "preds = model.predict_proba(X_val)[:,1]"
   ]
  },
  {
   "cell_type": "code",
   "execution_count": 67,
   "id": "60d4ea04",
   "metadata": {},
   "outputs": [
    {
     "data": {
      "text/plain": [
       "array([0.03078757, 0.48039952, 0.81636696, 0.03646214, 0.94943329])"
      ]
     },
     "execution_count": 67,
     "metadata": {},
     "output_type": "execute_result"
    }
   ],
   "source": [
    "preds[:5]"
   ]
  },
  {
   "cell_type": "code",
   "execution_count": 68,
   "id": "151ab80e",
   "metadata": {},
   "outputs": [],
   "source": [
    "pred = (preds>0.5).astype(int).reshape(-1,1)"
   ]
  },
  {
   "cell_type": "code",
   "execution_count": 69,
   "id": "2d2433e3",
   "metadata": {},
   "outputs": [
    {
     "data": {
      "text/plain": [
       "array([[0],\n",
       "       [0],\n",
       "       [1],\n",
       "       [0],\n",
       "       [1]])"
      ]
     },
     "execution_count": 69,
     "metadata": {},
     "output_type": "execute_result"
    }
   ],
   "source": [
    "pred[:5]"
   ]
  },
  {
   "cell_type": "code",
   "execution_count": 70,
   "id": "c739f60b",
   "metadata": {},
   "outputs": [
    {
     "data": {
      "text/plain": [
       "0.8242055442866801"
      ]
     },
     "execution_count": 70,
     "metadata": {},
     "output_type": "execute_result"
    }
   ],
   "source": [
    "(pred==val_y).mean()"
   ]
  },
  {
   "cell_type": "markdown",
   "id": "2a07010c",
   "metadata": {},
   "source": [
    "We see that 82% of prediction is right."
   ]
  },
  {
   "cell_type": "code",
   "execution_count": 71,
   "id": "50e8fd99",
   "metadata": {},
   "outputs": [],
   "source": [
    "from sklearn.metrics import accuracy_score"
   ]
  },
  {
   "cell_type": "code",
   "execution_count": 72,
   "id": "ecd6fc59",
   "metadata": {},
   "outputs": [
    {
     "name": "stdout",
     "output_type": "stream",
     "text": [
      "0.0 0.371\n",
      "0.1 0.671\n",
      "0.2 0.784\n",
      "0.3 0.822\n",
      "0.4 0.838\n",
      "0.5 0.824\n",
      "0.6 0.812\n",
      "0.7 0.794\n",
      "0.8 0.771\n",
      "0.9 0.728\n",
      "1.0 0.629\n"
     ]
    }
   ],
   "source": [
    "thresholds = np.linspace(0,1,11)\n",
    "\n",
    "for i in thresholds:\n",
    "    churn = preds>=i\n",
    "    acc = accuracy_score(val_y, churn)\n",
    "    print(f'{round(i,1)} {round(acc,3)}')"
   ]
  },
  {
   "cell_type": "code",
   "execution_count": 73,
   "id": "3c894be7",
   "metadata": {},
   "outputs": [],
   "source": [
    "thresholds = np.linspace(0,1,21)\n",
    "accs = []\n",
    "\n",
    "for i in thresholds:\n",
    "    churn = preds>=i\n",
    "    acc = accuracy_score(val_y, churn)\n",
    "    accs.append(acc)"
   ]
  },
  {
   "cell_type": "code",
   "execution_count": 74,
   "id": "ee00fdf5",
   "metadata": {},
   "outputs": [
    {
     "data": {
      "image/png": "[encoded data removed]",
      "text/plain": [
       "<Figure size 432x288 with 1 Axes>"
      ]
     },
     "metadata": {
      "needs_background": "light"
     },
     "output_type": "display_data"
    }
   ],
   "source": [
    "plt.plot(thresholds, accs)\n",
    "plt.xlabel('Thresholds')\n",
    "plt.ylabel('Accuracy')\n",
    "plt.title('Threshold vs Accuracy')\n",
    "plt.show()"
   ]
  },
  {
   "cell_type": "markdown",
   "id": "85b2967c",
   "metadata": {},
   "source": [
    "#### Confusion Table"
   ]
  },
  {
   "cell_type": "code",
   "execution_count": 75,
   "id": "dc30950a",
   "metadata": {},
   "outputs": [],
   "source": [
    "t = 0.4\n",
    "\n",
    "predict_convert = (preds>=t).reshape(-1,1)\n",
    "predict_no_convert = (preds<t).reshape(-1,1)\n",
    "\n",
    "actual_convert = (val_y==1)\n",
    "actual_no_convert = (val_y==0)\n",
    "\n",
    "true_positive = (predict_convert & actual_convert).sum()\n",
    "true_negative = (predict_no_convert & actual_no_convert).sum()\n",
    "\n",
    "false_positive = (predict_convert & actual_no_convert).sum()\n",
    "false_negative = (predict_no_convert & actual_convert).sum()"
   ]
  },
  {
   "cell_type": "code",
   "execution_count": 76,
   "id": "13c538b5",
   "metadata": {},
   "outputs": [
    {
     "data": {
      "text/plain": [
       "array([[805, 126],\n",
       "       [114, 434]])"
      ]
     },
     "execution_count": 76,
     "metadata": {},
     "output_type": "execute_result"
    }
   ],
   "source": [
    "confussion_table = np.array([[true_negative, false_positive],[false_negative,true_positive]])\n",
    "confussion_table"
   ]
  },
  {
   "cell_type": "code",
   "execution_count": 77,
   "id": "9fb17e08",
   "metadata": {},
   "outputs": [
    {
     "data": {
      "text/plain": [
       "array([[0.54428668, 0.0851927 ],\n",
       "       [0.07707911, 0.29344151]])"
      ]
     },
     "execution_count": 77,
     "metadata": {},
     "output_type": "execute_result"
    }
   ],
   "source": [
    "confussion_table/confussion_table.sum()"
   ]
  },
  {
   "cell_type": "markdown",
   "id": "eb0b0083",
   "metadata": {},
   "source": [
    "#### Precision and recall"
   ]
  },
  {
   "cell_type": "code",
   "execution_count": 78,
   "id": "80912bf6",
   "metadata": {},
   "outputs": [
    {
     "name": "stdout",
     "output_type": "stream",
     "text": [
      "Percent of correct predictions among leads predicted as converted is 78.0%\n"
     ]
    }
   ],
   "source": [
    "P = true_positive/(true_positive+false_positive)\n",
    "print(f'Percent of correct predictions among leads predicted as converted is {round(P,2)*100}%')"
   ]
  },
  {
   "cell_type": "code",
   "execution_count": 79,
   "id": "17546d80",
   "metadata": {},
   "outputs": [
    {
     "name": "stdout",
     "output_type": "stream",
     "text": [
      "Percent of correct predictions among actual converteds is 79.0%\n"
     ]
    }
   ],
   "source": [
    "R = true_positive/(true_positive+false_negative)\n",
    "print(f'Percent of correct predictions among actual converteds is {round(R,2)*100}%')"
   ]
  },
  {
   "cell_type": "markdown",
   "id": "169704f7",
   "metadata": {},
   "source": [
    "#### True positive rate and false positive rate"
   ]
  },
  {
   "cell_type": "code",
   "execution_count": 80,
   "id": "23786a38",
   "metadata": {},
   "outputs": [
    {
     "name": "stdout",
     "output_type": "stream",
     "text": [
      "The fraction of true positives among all positive examples: 0.791970802919708\n",
      "The fraction of false positives among all negative examples: 0.13533834586466165\n"
     ]
    }
   ],
   "source": [
    "tpr = true_positive/(true_positive+false_negative)\n",
    "fpr = false_positive/(true_negative+false_positive)\n",
    "print(f'The fraction of true positives among all positive examples: {tpr}\\nThe fraction of false positives among all negative examples: {fpr}')"
   ]
  },
  {
   "cell_type": "markdown",
   "id": "d4c3773c",
   "metadata": {},
   "source": [
    "The fraction of true positives among all converted leads: the larger TPR is, the better, The fraction of false positives among all non-converted leads: the smaller the FPR is, the better."
   ]
  },
  {
   "cell_type": "code",
   "execution_count": 81,
   "id": "2fab9605",
   "metadata": {},
   "outputs": [],
   "source": [
    "scores = []\n",
    "\n",
    "thresholds = np.linspace(0,1,101)\n",
    "\n",
    "for t in thresholds:\n",
    "    tp = ((preds>=t).reshape(-1,1)&(val_y==1)).sum()\n",
    "    fp = ((preds>=t).reshape(-1,1)&(val_y==0)).sum()\n",
    "    fn = ((preds<t).reshape(-1,1)&(val_y==1)).sum()\n",
    "    tn = ((preds<t).reshape(-1,1)&(val_y==0)).sum()\n",
    "    scores.append((t,tp,fp,fn,tn))"
   ]
  },
  {
   "cell_type": "code",
   "execution_count": 82,
   "id": "97fffcb4",
   "metadata": {},
   "outputs": [
    {
     "data": {
      "text/html": [
       "<div>\n",
       "<style scoped>\n",
       "    .dataframe tbody tr th:only-of-type {\n",
       "        vertical-align: middle;\n",
       "    }\n",
       "\n",
       "    .dataframe tbody tr th {\n",
       "        vertical-align: top;\n",
       "    }\n",
       "\n",
       "    .dataframe thead th {\n",
       "        text-align: right;\n",
       "    }\n",
       "</style>\n",
       "<table border=\"1\" class=\"dataframe\">\n",
       "  <thead>\n",
       "    <tr style=\"text-align: right;\">\n",
       "      <th></th>\n",
       "      <th>thresholds</th>\n",
       "      <th>tp</th>\n",
       "      <th>fp</th>\n",
       "      <th>fn</th>\n",
       "      <th>tn</th>\n",
       "    </tr>\n",
       "  </thead>\n",
       "  <tbody>\n",
       "    <tr>\n",
       "      <th>0</th>\n",
       "      <td>0.0</td>\n",
       "      <td>548</td>\n",
       "      <td>931</td>\n",
       "      <td>0</td>\n",
       "      <td>0</td>\n",
       "    </tr>\n",
       "    <tr>\n",
       "      <th>10</th>\n",
       "      <td>0.1</td>\n",
       "      <td>532</td>\n",
       "      <td>471</td>\n",
       "      <td>16</td>\n",
       "      <td>460</td>\n",
       "    </tr>\n",
       "    <tr>\n",
       "      <th>20</th>\n",
       "      <td>0.2</td>\n",
       "      <td>505</td>\n",
       "      <td>276</td>\n",
       "      <td>43</td>\n",
       "      <td>655</td>\n",
       "    </tr>\n",
       "    <tr>\n",
       "      <th>30</th>\n",
       "      <td>0.3</td>\n",
       "      <td>466</td>\n",
       "      <td>182</td>\n",
       "      <td>82</td>\n",
       "      <td>749</td>\n",
       "    </tr>\n",
       "    <tr>\n",
       "      <th>40</th>\n",
       "      <td>0.4</td>\n",
       "      <td>434</td>\n",
       "      <td>126</td>\n",
       "      <td>114</td>\n",
       "      <td>805</td>\n",
       "    </tr>\n",
       "    <tr>\n",
       "      <th>50</th>\n",
       "      <td>0.5</td>\n",
       "      <td>387</td>\n",
       "      <td>99</td>\n",
       "      <td>161</td>\n",
       "      <td>832</td>\n",
       "    </tr>\n",
       "    <tr>\n",
       "      <th>60</th>\n",
       "      <td>0.6</td>\n",
       "      <td>345</td>\n",
       "      <td>75</td>\n",
       "      <td>203</td>\n",
       "      <td>856</td>\n",
       "    </tr>\n",
       "    <tr>\n",
       "      <th>70</th>\n",
       "      <td>0.7</td>\n",
       "      <td>296</td>\n",
       "      <td>53</td>\n",
       "      <td>252</td>\n",
       "      <td>878</td>\n",
       "    </tr>\n",
       "    <tr>\n",
       "      <th>80</th>\n",
       "      <td>0.8</td>\n",
       "      <td>241</td>\n",
       "      <td>31</td>\n",
       "      <td>307</td>\n",
       "      <td>900</td>\n",
       "    </tr>\n",
       "    <tr>\n",
       "      <th>90</th>\n",
       "      <td>0.9</td>\n",
       "      <td>160</td>\n",
       "      <td>14</td>\n",
       "      <td>388</td>\n",
       "      <td>917</td>\n",
       "    </tr>\n",
       "    <tr>\n",
       "      <th>100</th>\n",
       "      <td>1.0</td>\n",
       "      <td>0</td>\n",
       "      <td>0</td>\n",
       "      <td>548</td>\n",
       "      <td>931</td>\n",
       "    </tr>\n",
       "  </tbody>\n",
       "</table>\n",
       "</div>"
      ],
      "text/plain": [
       "     thresholds   tp   fp   fn   tn\n",
       "0           0.0  548  931    0    0\n",
       "10          0.1  532  471   16  460\n",
       "20          0.2  505  276   43  655\n",
       "30          0.3  466  182   82  749\n",
       "40          0.4  434  126  114  805\n",
       "50          0.5  387   99  161  832\n",
       "60          0.6  345   75  203  856\n",
       "70          0.7  296   53  252  878\n",
       "80          0.8  241   31  307  900\n",
       "90          0.9  160   14  388  917\n",
       "100         1.0    0    0  548  931"
      ]
     },
     "execution_count": 82,
     "metadata": {},
     "output_type": "execute_result"
    }
   ],
   "source": [
    "df_scores = pd.DataFrame(scores)\n",
    "df_scores.columns = ['thresholds','tp','fp','fn','tn']\n",
    "df_scores[::10]"
   ]
  },
  {
   "cell_type": "code",
   "execution_count": 83,
   "id": "6f978cb2",
   "metadata": {},
   "outputs": [
    {
     "data": {
      "text/html": [
       "<div>\n",
       "<style scoped>\n",
       "    .dataframe tbody tr th:only-of-type {\n",
       "        vertical-align: middle;\n",
       "    }\n",
       "\n",
       "    .dataframe tbody tr th {\n",
       "        vertical-align: top;\n",
       "    }\n",
       "\n",
       "    .dataframe thead th {\n",
       "        text-align: right;\n",
       "    }\n",
       "</style>\n",
       "<table border=\"1\" class=\"dataframe\">\n",
       "  <thead>\n",
       "    <tr style=\"text-align: right;\">\n",
       "      <th></th>\n",
       "      <th>thresholds</th>\n",
       "      <th>tp</th>\n",
       "      <th>fp</th>\n",
       "      <th>fn</th>\n",
       "      <th>tn</th>\n",
       "      <th>tpr</th>\n",
       "      <th>fpr</th>\n",
       "    </tr>\n",
       "  </thead>\n",
       "  <tbody>\n",
       "    <tr>\n",
       "      <th>0</th>\n",
       "      <td>0.0</td>\n",
       "      <td>548</td>\n",
       "      <td>931</td>\n",
       "      <td>0</td>\n",
       "      <td>0</td>\n",
       "      <td>1.000000</td>\n",
       "      <td>1.000000</td>\n",
       "    </tr>\n",
       "    <tr>\n",
       "      <th>10</th>\n",
       "      <td>0.1</td>\n",
       "      <td>532</td>\n",
       "      <td>471</td>\n",
       "      <td>16</td>\n",
       "      <td>460</td>\n",
       "      <td>0.970803</td>\n",
       "      <td>0.505908</td>\n",
       "    </tr>\n",
       "    <tr>\n",
       "      <th>20</th>\n",
       "      <td>0.2</td>\n",
       "      <td>505</td>\n",
       "      <td>276</td>\n",
       "      <td>43</td>\n",
       "      <td>655</td>\n",
       "      <td>0.921533</td>\n",
       "      <td>0.296455</td>\n",
       "    </tr>\n",
       "    <tr>\n",
       "      <th>30</th>\n",
       "      <td>0.3</td>\n",
       "      <td>466</td>\n",
       "      <td>182</td>\n",
       "      <td>82</td>\n",
       "      <td>749</td>\n",
       "      <td>0.850365</td>\n",
       "      <td>0.195489</td>\n",
       "    </tr>\n",
       "    <tr>\n",
       "      <th>40</th>\n",
       "      <td>0.4</td>\n",
       "      <td>434</td>\n",
       "      <td>126</td>\n",
       "      <td>114</td>\n",
       "      <td>805</td>\n",
       "      <td>0.791971</td>\n",
       "      <td>0.135338</td>\n",
       "    </tr>\n",
       "    <tr>\n",
       "      <th>50</th>\n",
       "      <td>0.5</td>\n",
       "      <td>387</td>\n",
       "      <td>99</td>\n",
       "      <td>161</td>\n",
       "      <td>832</td>\n",
       "      <td>0.706204</td>\n",
       "      <td>0.106337</td>\n",
       "    </tr>\n",
       "    <tr>\n",
       "      <th>60</th>\n",
       "      <td>0.6</td>\n",
       "      <td>345</td>\n",
       "      <td>75</td>\n",
       "      <td>203</td>\n",
       "      <td>856</td>\n",
       "      <td>0.629562</td>\n",
       "      <td>0.080559</td>\n",
       "    </tr>\n",
       "    <tr>\n",
       "      <th>70</th>\n",
       "      <td>0.7</td>\n",
       "      <td>296</td>\n",
       "      <td>53</td>\n",
       "      <td>252</td>\n",
       "      <td>878</td>\n",
       "      <td>0.540146</td>\n",
       "      <td>0.056928</td>\n",
       "    </tr>\n",
       "    <tr>\n",
       "      <th>80</th>\n",
       "      <td>0.8</td>\n",
       "      <td>241</td>\n",
       "      <td>31</td>\n",
       "      <td>307</td>\n",
       "      <td>900</td>\n",
       "      <td>0.439781</td>\n",
       "      <td>0.033298</td>\n",
       "    </tr>\n",
       "    <tr>\n",
       "      <th>90</th>\n",
       "      <td>0.9</td>\n",
       "      <td>160</td>\n",
       "      <td>14</td>\n",
       "      <td>388</td>\n",
       "      <td>917</td>\n",
       "      <td>0.291971</td>\n",
       "      <td>0.015038</td>\n",
       "    </tr>\n",
       "    <tr>\n",
       "      <th>100</th>\n",
       "      <td>1.0</td>\n",
       "      <td>0</td>\n",
       "      <td>0</td>\n",
       "      <td>548</td>\n",
       "      <td>931</td>\n",
       "      <td>0.000000</td>\n",
       "      <td>0.000000</td>\n",
       "    </tr>\n",
       "  </tbody>\n",
       "</table>\n",
       "</div>"
      ],
      "text/plain": [
       "     thresholds   tp   fp   fn   tn       tpr       fpr\n",
       "0           0.0  548  931    0    0  1.000000  1.000000\n",
       "10          0.1  532  471   16  460  0.970803  0.505908\n",
       "20          0.2  505  276   43  655  0.921533  0.296455\n",
       "30          0.3  466  182   82  749  0.850365  0.195489\n",
       "40          0.4  434  126  114  805  0.791971  0.135338\n",
       "50          0.5  387   99  161  832  0.706204  0.106337\n",
       "60          0.6  345   75  203  856  0.629562  0.080559\n",
       "70          0.7  296   53  252  878  0.540146  0.056928\n",
       "80          0.8  241   31  307  900  0.439781  0.033298\n",
       "90          0.9  160   14  388  917  0.291971  0.015038\n",
       "100         1.0    0    0  548  931  0.000000  0.000000"
      ]
     },
     "execution_count": 83,
     "metadata": {},
     "output_type": "execute_result"
    }
   ],
   "source": [
    "df_scores['tpr'] = df_scores.tp / (df_scores.tp+df_scores.fn)\n",
    "df_scores['fpr'] = df_scores.fp / (df_scores.fp+df_scores.tn)\n",
    "df_scores[::10]"
   ]
  },
  {
   "cell_type": "code",
   "execution_count": 84,
   "id": "44e54417",
   "metadata": {},
   "outputs": [
    {
     "data": {
      "image/png": "[encoded data removed]",
      "text/plain": [
       "<Figure size 432x288 with 1 Axes>"
      ]
     },
     "metadata": {
      "needs_background": "light"
     },
     "output_type": "display_data"
    }
   ],
   "source": [
    "plt.plot(df_scores.thresholds, df_scores.tpr, label='TPR')\n",
    "plt.plot(df_scores.thresholds, df_scores.fpr, label='FPR')\n",
    "plt.xlabel('Thresholds')\n",
    "plt.title('TPR and FPR')\n",
    "plt.legend()\n",
    "plt.show()"
   ]
  },
  {
   "cell_type": "markdown",
   "id": "096052c9",
   "metadata": {},
   "source": [
    "The TPR and FPR for our model evaluated at different thresholds."
   ]
  },
  {
   "cell_type": "markdown",
   "id": "6fca7f81",
   "metadata": {},
   "source": [
    "#### Random baseline model"
   ]
  },
  {
   "cell_type": "code",
   "execution_count": 85,
   "id": "e5b82c96",
   "metadata": {},
   "outputs": [],
   "source": [
    "np.random.seed(1)\n",
    "y_rand = np.random.uniform(0,1, size=len(val_y))\n",
    "y_rand = y_rand.reshape(-1,1)"
   ]
  },
  {
   "cell_type": "code",
   "execution_count": 86,
   "id": "2e1b6de4",
   "metadata": {},
   "outputs": [],
   "source": [
    "def tpr_fpr_dataframe(y_val, y_pred):\n",
    "    scores = []\n",
    "    thresholds = np.linspace(0,1,101)\n",
    "    \n",
    "    for t in thresholds:\n",
    "        tp = ((y_pred>=t)&(y_val==1)).sum()\n",
    "        fp = ((y_pred>=t)&(y_val==0)).sum()\n",
    "        fn = ((y_pred<t)&(y_val==1)).sum()\n",
    "        tn = ((y_pred<t)&(y_val==0)).sum()\n",
    "        scores.append((t,tp,fp,fn,tn))\n",
    "        \n",
    "        df_scores = pd.DataFrame(scores)\n",
    "    df_scores.columns = ['thresholds','tp','fp','fn','tn']\n",
    "    \n",
    "    df_scores['tpr'] = df_scores.tp / (df_scores.tp+df_scores.fn)\n",
    "    df_scores['fpr'] = df_scores.fp / (df_scores.fp+df_scores.tn)\n",
    "    \n",
    "    return df_scores"
   ]
  },
  {
   "cell_type": "code",
   "execution_count": 87,
   "id": "af959c35",
   "metadata": {},
   "outputs": [],
   "source": [
    "df_rand = tpr_fpr_dataframe(val_y, y_rand)"
   ]
  },
  {
   "cell_type": "code",
   "execution_count": 88,
   "id": "aad995e5",
   "metadata": {},
   "outputs": [
    {
     "data": {
      "text/html": [
       "<div>\n",
       "<style scoped>\n",
       "    .dataframe tbody tr th:only-of-type {\n",
       "        vertical-align: middle;\n",
       "    }\n",
       "\n",
       "    .dataframe tbody tr th {\n",
       "        vertical-align: top;\n",
       "    }\n",
       "\n",
       "    .dataframe thead th {\n",
       "        text-align: right;\n",
       "    }\n",
       "</style>\n",
       "<table border=\"1\" class=\"dataframe\">\n",
       "  <thead>\n",
       "    <tr style=\"text-align: right;\">\n",
       "      <th></th>\n",
       "      <th>thresholds</th>\n",
       "      <th>tp</th>\n",
       "      <th>fp</th>\n",
       "      <th>fn</th>\n",
       "      <th>tn</th>\n",
       "      <th>tpr</th>\n",
       "      <th>fpr</th>\n",
       "    </tr>\n",
       "  </thead>\n",
       "  <tbody>\n",
       "    <tr>\n",
       "      <th>0</th>\n",
       "      <td>0.0</td>\n",
       "      <td>548</td>\n",
       "      <td>931</td>\n",
       "      <td>0</td>\n",
       "      <td>0</td>\n",
       "      <td>1.000000</td>\n",
       "      <td>1.000000</td>\n",
       "    </tr>\n",
       "    <tr>\n",
       "      <th>10</th>\n",
       "      <td>0.1</td>\n",
       "      <td>492</td>\n",
       "      <td>838</td>\n",
       "      <td>56</td>\n",
       "      <td>93</td>\n",
       "      <td>0.897810</td>\n",
       "      <td>0.900107</td>\n",
       "    </tr>\n",
       "    <tr>\n",
       "      <th>20</th>\n",
       "      <td>0.2</td>\n",
       "      <td>435</td>\n",
       "      <td>746</td>\n",
       "      <td>113</td>\n",
       "      <td>185</td>\n",
       "      <td>0.793796</td>\n",
       "      <td>0.801289</td>\n",
       "    </tr>\n",
       "    <tr>\n",
       "      <th>30</th>\n",
       "      <td>0.3</td>\n",
       "      <td>381</td>\n",
       "      <td>660</td>\n",
       "      <td>167</td>\n",
       "      <td>271</td>\n",
       "      <td>0.695255</td>\n",
       "      <td>0.708915</td>\n",
       "    </tr>\n",
       "    <tr>\n",
       "      <th>40</th>\n",
       "      <td>0.4</td>\n",
       "      <td>332</td>\n",
       "      <td>565</td>\n",
       "      <td>216</td>\n",
       "      <td>366</td>\n",
       "      <td>0.605839</td>\n",
       "      <td>0.606874</td>\n",
       "    </tr>\n",
       "    <tr>\n",
       "      <th>50</th>\n",
       "      <td>0.5</td>\n",
       "      <td>281</td>\n",
       "      <td>469</td>\n",
       "      <td>267</td>\n",
       "      <td>462</td>\n",
       "      <td>0.512774</td>\n",
       "      <td>0.503759</td>\n",
       "    </tr>\n",
       "    <tr>\n",
       "      <th>60</th>\n",
       "      <td>0.6</td>\n",
       "      <td>215</td>\n",
       "      <td>380</td>\n",
       "      <td>333</td>\n",
       "      <td>551</td>\n",
       "      <td>0.392336</td>\n",
       "      <td>0.408163</td>\n",
       "    </tr>\n",
       "    <tr>\n",
       "      <th>70</th>\n",
       "      <td>0.7</td>\n",
       "      <td>169</td>\n",
       "      <td>273</td>\n",
       "      <td>379</td>\n",
       "      <td>658</td>\n",
       "      <td>0.308394</td>\n",
       "      <td>0.293233</td>\n",
       "    </tr>\n",
       "    <tr>\n",
       "      <th>80</th>\n",
       "      <td>0.8</td>\n",
       "      <td>110</td>\n",
       "      <td>191</td>\n",
       "      <td>438</td>\n",
       "      <td>740</td>\n",
       "      <td>0.200730</td>\n",
       "      <td>0.205156</td>\n",
       "    </tr>\n",
       "    <tr>\n",
       "      <th>90</th>\n",
       "      <td>0.9</td>\n",
       "      <td>56</td>\n",
       "      <td>93</td>\n",
       "      <td>492</td>\n",
       "      <td>838</td>\n",
       "      <td>0.102190</td>\n",
       "      <td>0.099893</td>\n",
       "    </tr>\n",
       "    <tr>\n",
       "      <th>100</th>\n",
       "      <td>1.0</td>\n",
       "      <td>0</td>\n",
       "      <td>0</td>\n",
       "      <td>548</td>\n",
       "      <td>931</td>\n",
       "      <td>0.000000</td>\n",
       "      <td>0.000000</td>\n",
       "    </tr>\n",
       "  </tbody>\n",
       "</table>\n",
       "</div>"
      ],
      "text/plain": [
       "     thresholds   tp   fp   fn   tn       tpr       fpr\n",
       "0           0.0  548  931    0    0  1.000000  1.000000\n",
       "10          0.1  492  838   56   93  0.897810  0.900107\n",
       "20          0.2  435  746  113  185  0.793796  0.801289\n",
       "30          0.3  381  660  167  271  0.695255  0.708915\n",
       "40          0.4  332  565  216  366  0.605839  0.606874\n",
       "50          0.5  281  469  267  462  0.512774  0.503759\n",
       "60          0.6  215  380  333  551  0.392336  0.408163\n",
       "70          0.7  169  273  379  658  0.308394  0.293233\n",
       "80          0.8  110  191  438  740  0.200730  0.205156\n",
       "90          0.9   56   93  492  838  0.102190  0.099893\n",
       "100         1.0    0    0  548  931  0.000000  0.000000"
      ]
     },
     "execution_count": 88,
     "metadata": {},
     "output_type": "execute_result"
    }
   ],
   "source": [
    "df_rand[::10]"
   ]
  },
  {
   "cell_type": "code",
   "execution_count": 89,
   "id": "afaac184",
   "metadata": {},
   "outputs": [
    {
     "data": {
      "image/png": "[encoded data removed]",
      "text/plain": [
       "<Figure size 432x288 with 1 Axes>"
      ]
     },
     "metadata": {
      "needs_background": "light"
     },
     "output_type": "display_data"
    }
   ],
   "source": [
    "plt.plot(df_rand.thresholds, df_rand.tpr, label='TPR')\n",
    "plt.plot(df_rand.thresholds, df_rand.fpr, label='FPR')\n",
    "plt.xlabel('Thresholds')\n",
    "plt.title('TPR and FPR for the random model')\n",
    "plt.legend()\n",
    "plt.show()"
   ]
  },
  {
   "cell_type": "markdown",
   "id": "c283527f",
   "metadata": {},
   "source": [
    "#### The ideal model"
   ]
  },
  {
   "cell_type": "code",
   "execution_count": 90,
   "id": "a6220dca",
   "metadata": {},
   "outputs": [
    {
     "data": {
      "text/html": [
       "<div>\n",
       "<style scoped>\n",
       "    .dataframe tbody tr th:only-of-type {\n",
       "        vertical-align: middle;\n",
       "    }\n",
       "\n",
       "    .dataframe tbody tr th {\n",
       "        vertical-align: top;\n",
       "    }\n",
       "\n",
       "    .dataframe thead th {\n",
       "        text-align: right;\n",
       "    }\n",
       "</style>\n",
       "<table border=\"1\" class=\"dataframe\">\n",
       "  <thead>\n",
       "    <tr style=\"text-align: right;\">\n",
       "      <th></th>\n",
       "      <th>thresholds</th>\n",
       "      <th>tp</th>\n",
       "      <th>fp</th>\n",
       "      <th>fn</th>\n",
       "      <th>tn</th>\n",
       "      <th>tpr</th>\n",
       "      <th>fpr</th>\n",
       "    </tr>\n",
       "  </thead>\n",
       "  <tbody>\n",
       "    <tr>\n",
       "      <th>0</th>\n",
       "      <td>0.0</td>\n",
       "      <td>548</td>\n",
       "      <td>931</td>\n",
       "      <td>0</td>\n",
       "      <td>0</td>\n",
       "      <td>1.000000</td>\n",
       "      <td>1.000000</td>\n",
       "    </tr>\n",
       "    <tr>\n",
       "      <th>10</th>\n",
       "      <td>0.1</td>\n",
       "      <td>548</td>\n",
       "      <td>783</td>\n",
       "      <td>0</td>\n",
       "      <td>148</td>\n",
       "      <td>1.000000</td>\n",
       "      <td>0.841031</td>\n",
       "    </tr>\n",
       "    <tr>\n",
       "      <th>20</th>\n",
       "      <td>0.2</td>\n",
       "      <td>548</td>\n",
       "      <td>635</td>\n",
       "      <td>0</td>\n",
       "      <td>296</td>\n",
       "      <td>1.000000</td>\n",
       "      <td>0.682062</td>\n",
       "    </tr>\n",
       "    <tr>\n",
       "      <th>30</th>\n",
       "      <td>0.3</td>\n",
       "      <td>548</td>\n",
       "      <td>487</td>\n",
       "      <td>0</td>\n",
       "      <td>444</td>\n",
       "      <td>1.000000</td>\n",
       "      <td>0.523093</td>\n",
       "    </tr>\n",
       "    <tr>\n",
       "      <th>40</th>\n",
       "      <td>0.4</td>\n",
       "      <td>548</td>\n",
       "      <td>339</td>\n",
       "      <td>0</td>\n",
       "      <td>592</td>\n",
       "      <td>1.000000</td>\n",
       "      <td>0.364125</td>\n",
       "    </tr>\n",
       "    <tr>\n",
       "      <th>50</th>\n",
       "      <td>0.5</td>\n",
       "      <td>548</td>\n",
       "      <td>192</td>\n",
       "      <td>0</td>\n",
       "      <td>739</td>\n",
       "      <td>1.000000</td>\n",
       "      <td>0.206230</td>\n",
       "    </tr>\n",
       "    <tr>\n",
       "      <th>60</th>\n",
       "      <td>0.6</td>\n",
       "      <td>548</td>\n",
       "      <td>44</td>\n",
       "      <td>0</td>\n",
       "      <td>887</td>\n",
       "      <td>1.000000</td>\n",
       "      <td>0.047261</td>\n",
       "    </tr>\n",
       "    <tr>\n",
       "      <th>70</th>\n",
       "      <td>0.7</td>\n",
       "      <td>444</td>\n",
       "      <td>0</td>\n",
       "      <td>104</td>\n",
       "      <td>931</td>\n",
       "      <td>0.810219</td>\n",
       "      <td>0.000000</td>\n",
       "    </tr>\n",
       "    <tr>\n",
       "      <th>80</th>\n",
       "      <td>0.8</td>\n",
       "      <td>296</td>\n",
       "      <td>0</td>\n",
       "      <td>252</td>\n",
       "      <td>931</td>\n",
       "      <td>0.540146</td>\n",
       "      <td>0.000000</td>\n",
       "    </tr>\n",
       "    <tr>\n",
       "      <th>90</th>\n",
       "      <td>0.9</td>\n",
       "      <td>148</td>\n",
       "      <td>0</td>\n",
       "      <td>400</td>\n",
       "      <td>931</td>\n",
       "      <td>0.270073</td>\n",
       "      <td>0.000000</td>\n",
       "    </tr>\n",
       "    <tr>\n",
       "      <th>100</th>\n",
       "      <td>1.0</td>\n",
       "      <td>1</td>\n",
       "      <td>0</td>\n",
       "      <td>547</td>\n",
       "      <td>931</td>\n",
       "      <td>0.001825</td>\n",
       "      <td>0.000000</td>\n",
       "    </tr>\n",
       "  </tbody>\n",
       "</table>\n",
       "</div>"
      ],
      "text/plain": [
       "     thresholds   tp   fp   fn   tn       tpr       fpr\n",
       "0           0.0  548  931    0    0  1.000000  1.000000\n",
       "10          0.1  548  783    0  148  1.000000  0.841031\n",
       "20          0.2  548  635    0  296  1.000000  0.682062\n",
       "30          0.3  548  487    0  444  1.000000  0.523093\n",
       "40          0.4  548  339    0  592  1.000000  0.364125\n",
       "50          0.5  548  192    0  739  1.000000  0.206230\n",
       "60          0.6  548   44    0  887  1.000000  0.047261\n",
       "70          0.7  444    0  104  931  0.810219  0.000000\n",
       "80          0.8  296    0  252  931  0.540146  0.000000\n",
       "90          0.9  148    0  400  931  0.270073  0.000000\n",
       "100         1.0    1    0  547  931  0.001825  0.000000"
      ]
     },
     "execution_count": 90,
     "metadata": {},
     "output_type": "execute_result"
    }
   ],
   "source": [
    "num_neg = (val_y==0).sum()\n",
    "num_pos = (val_y==1).sum()\n",
    "\n",
    "y_ideal = np.repeat([0,1], [num_neg, num_pos])\n",
    "y_pred_ideal = np.linspace(0,1, num_neg+num_pos)\n",
    "\n",
    "df_ideal = tpr_fpr_dataframe(y_ideal, y_pred_ideal)\n",
    "df_ideal[::10]"
   ]
  },
  {
   "cell_type": "code",
   "execution_count": 91,
   "id": "484c3f11",
   "metadata": {},
   "outputs": [
    {
     "data": {
      "image/png": "[encoded data removed]",
      "text/plain": [
       "<Figure size 432x288 with 1 Axes>"
      ]
     },
     "metadata": {
      "needs_background": "light"
     },
     "output_type": "display_data"
    }
   ],
   "source": [
    "plt.plot(df_ideal.thresholds, df_ideal.tpr, label='TPR')\n",
    "plt.plot(df_ideal.thresholds, df_ideal.fpr, label='FPR')\n",
    "plt.xlabel('Thresholds')\n",
    "plt.title('TPR and FPR for the ideal model')\n",
    "plt.legend()\n",
    "plt.show()"
   ]
  },
  {
   "cell_type": "markdown",
   "id": "80b363e5",
   "metadata": {},
   "source": [
    "#### ROC Curve"
   ]
  },
  {
   "cell_type": "code",
   "execution_count": 92,
   "id": "a8b8dd7c",
   "metadata": {},
   "outputs": [
    {
     "data": {
      "image/png": "[encoded data removed]",
      "text/plain": [
       "<Figure size 360x360 with 1 Axes>"
      ]
     },
     "metadata": {
      "needs_background": "light"
     },
     "output_type": "display_data"
    }
   ],
   "source": [
    "plt.figure(figsize=(5,5))\n",
    "\n",
    "plt.plot(df_scores.fpr, df_scores.tpr, label=\"Model\")\n",
    "plt.plot(df_rand.fpr, df_rand.tpr,'b--', label=\"Random\")\n",
    "plt.plot(df_ideal.fpr, df_ideal.tpr,'y--',label=\"Ideal\")\n",
    "plt.legend()\n",
    "\n",
    "plt.xlabel('False Positive Rate')\n",
    "plt.ylabel('True Positive Rate')\n",
    "plt.title('ROC curve')\n",
    "\n",
    "plt.show()"
   ]
  },
  {
   "cell_type": "markdown",
   "id": "1f5c0c68",
   "metadata": {},
   "source": [
    "The ROC curve shows the relationship between the FPR and TPR of a model."
   ]
  },
  {
   "cell_type": "code",
   "execution_count": 93,
   "id": "9611c122",
   "metadata": {},
   "outputs": [],
   "source": [
    "from sklearn.metrics import roc_curve"
   ]
  },
  {
   "cell_type": "code",
   "execution_count": 94,
   "id": "f045a2a9",
   "metadata": {},
   "outputs": [],
   "source": [
    "fpr, tpr, thresholds = roc_curve(val_y, preds.reshape(-1,1))"
   ]
  },
  {
   "cell_type": "code",
   "execution_count": 95,
   "id": "36ec7a1e",
   "metadata": {},
   "outputs": [
    {
     "data": {
      "image/png": "[encoded data removed]",
      "text/plain": [
       "<Figure size 360x360 with 1 Axes>"
      ]
     },
     "metadata": {
      "needs_background": "light"
     },
     "output_type": "display_data"
    }
   ],
   "source": [
    "plt.figure(figsize=(5,5))\n",
    "plt.plot(fpr,tpr)\n",
    "plt.plot([0,1],[0,1], 'b--')\n",
    "plt.show()"
   ]
  },
  {
   "cell_type": "markdown",
   "id": "8b2c7195",
   "metadata": {},
   "source": [
    "The baseline makes it easier to see how far the ROC curve of our model is from that of a random model. The top-left corner(0,1) is  the \"ideal spot\": the closer our models get to it, the better. "
   ]
  },
  {
   "cell_type": "markdown",
   "id": "cf25cad5",
   "metadata": {},
   "source": [
    "#### Area under the ROC curve (AUC)"
   ]
  },
  {
   "cell_type": "code",
   "execution_count": 96,
   "id": "ab6a128b",
   "metadata": {},
   "outputs": [],
   "source": [
    "from sklearn.metrics import auc"
   ]
  },
  {
   "cell_type": "code",
   "execution_count": 97,
   "id": "17f506cb",
   "metadata": {},
   "outputs": [
    {
     "data": {
      "text/plain": [
       "0.9018871474828887"
      ]
     },
     "execution_count": 97,
     "metadata": {},
     "output_type": "execute_result"
    }
   ],
   "source": [
    "auc(fpr,tpr)"
   ]
  },
  {
   "cell_type": "code",
   "execution_count": 98,
   "id": "b119659c",
   "metadata": {},
   "outputs": [],
   "source": [
    "from sklearn.metrics import roc_auc_score"
   ]
  },
  {
   "cell_type": "code",
   "execution_count": 99,
   "id": "3ea5d18d",
   "metadata": {},
   "outputs": [
    {
     "data": {
      "text/plain": [
       "1.0"
      ]
     },
     "execution_count": 99,
     "metadata": {},
     "output_type": "execute_result"
    }
   ],
   "source": [
    "roc_auc_score(y_ideal, y_pred_ideal)"
   ]
  },
  {
   "cell_type": "code",
   "execution_count": 100,
   "id": "f4203802",
   "metadata": {},
   "outputs": [
    {
     "data": {
      "text/plain": [
       "0.4981007001340682"
      ]
     },
     "execution_count": 100,
     "metadata": {},
     "output_type": "execute_result"
    }
   ],
   "source": [
    "roc_auc_score(val_y, y_rand)"
   ]
  },
  {
   "cell_type": "markdown",
   "id": "b7f97867",
   "metadata": {},
   "source": [
    "We want ROC curve to be close to the ideal spot as possible and as far ffrom the random baseline as possible."
   ]
  },
  {
   "cell_type": "markdown",
   "id": "28f925d9",
   "metadata": {},
   "source": [
    "An AUC of 0.9 is indicative of a reasonably good model."
   ]
  },
  {
   "cell_type": "markdown",
   "id": "4b7b1920",
   "metadata": {},
   "source": [
    "#### K-fold cross validation"
   ]
  },
  {
   "cell_type": "code",
   "execution_count": 101,
   "id": "b9844a15",
   "metadata": {},
   "outputs": [],
   "source": [
    "def train(df,y):\n",
    "    cate = df[cat+numerical].to_dict(orient='rows')\n",
    "    \n",
    "    dv = DictVectorizer(sparse=False)\n",
    "    dv.fit(cate)\n",
    "    \n",
    "    X = dv.transform(cate)\n",
    "    \n",
    "    model = LogisticRegression(solver='liblinear')\n",
    "    model.fit(X,y)\n",
    "    \n",
    "    return dv, model"
   ]
  },
  {
   "cell_type": "code",
   "execution_count": 102,
   "id": "a0ee89c4",
   "metadata": {},
   "outputs": [],
   "source": [
    "def predict(df, dv, model):\n",
    "    cate = df[cat+numerical].to_dict(orient='rows')\n",
    "    \n",
    "    X = dv.transform(cate)\n",
    "    y_pred = model.predict_proba(X)[:,1]\n",
    "    \n",
    "    return y_pred"
   ]
  },
  {
   "cell_type": "code",
   "execution_count": 103,
   "id": "f7aa193d",
   "metadata": {},
   "outputs": [],
   "source": [
    "from sklearn.model_selection import KFold\n",
    "\n",
    "kfold = KFold(n_splits=10, shuffle=True, random_state=1)\n",
    "\n",
    "aucs = []\n",
    "\n",
    "for train_idx, val_idx in kfold.split(train_full):\n",
    "    df_train = train_full.iloc[train_idx]\n",
    "    df_val = train_full.iloc[val_idx]\n",
    "    \n",
    "    y_train = df_train['converted'].values.reshape(-1,1)\n",
    "    y_val = df_val['converted'].values.reshape(-1,1)\n",
    "    \n",
    "    dv, model = train(df_train, y_train)\n",
    "    y_pred = predict(df_val, dv, model)\n",
    "    \n",
    "    auc = roc_auc_score(y_val, y_pred)\n",
    "    aucs.append(round(auc,3))"
   ]
  },
  {
   "cell_type": "code",
   "execution_count": 104,
   "id": "3d4753ec",
   "metadata": {},
   "outputs": [
    {
     "name": "stdout",
     "output_type": "stream",
     "text": [
      "[0.89, 0.911, 0.901, 0.911, 0.901, 0.905, 0.895, 0.909, 0.905, 0.914]\n",
      "auc = 0.9042 +- 0.007208328516376046\n"
     ]
    }
   ],
   "source": [
    "print(aucs)\n",
    "print(f'auc = {np.mean(aucs)} +- {np.std(aucs)}')"
   ]
  },
  {
   "cell_type": "markdown",
   "id": "36bd1099",
   "metadata": {},
   "source": [
    "#### Finding best parametrs"
   ]
  },
  {
   "cell_type": "code",
   "execution_count": 105,
   "id": "66082d8e",
   "metadata": {},
   "outputs": [],
   "source": [
    "def train(df, y, C):\n",
    "    cate = df[cat+numerical].to_dict(orient='rows')\n",
    "    \n",
    "    dv = DictVectorizer()\n",
    "    dv.fit(cate)\n",
    "    \n",
    "    X = dv.transform(cate)\n",
    "    \n",
    "    model = LogisticRegression()\n",
    "    model.fit(X,y)\n",
    "    \n",
    "    return dv, model"
   ]
  },
  {
   "cell_type": "code",
   "execution_count": 106,
   "id": "3b11d418",
   "metadata": {},
   "outputs": [
    {
     "name": "stdout",
     "output_type": "stream",
     "text": [
      "C=0.001 auc = 0.8964000000000001 +- 0.008765842800324459\n",
      "C=0.01 auc = 0.8964000000000001 +- 0.008765842800324459\n",
      "C=0.1 auc = 0.8964000000000001 +- 0.008765842800324459\n",
      "C=0.5 auc = 0.8964000000000001 +- 0.008765842800324459\n",
      "C=1 auc = 0.8964000000000001 +- 0.008765842800324459\n",
      "C=10 auc = 0.8964000000000001 +- 0.008765842800324459\n"
     ]
    }
   ],
   "source": [
    "nfolds = 10\n",
    "kfold = KFold(n_splits=nfolds, shuffle=True, random_state=1)\n",
    "\n",
    "for C in [0.001, 0.01, 0.1, 0.5, 1, 10]:\n",
    "    aucs = []\n",
    "    \n",
    "    for train_idx, val_idx in kfold.split(train_full):\n",
    "        df_train = train_full.iloc[train_idx].reset_index(drop=True)\n",
    "        df_val = train_full.iloc[val_idx].reset_index(drop=True)\n",
    "\n",
    "        y_train = df_train['converted'].values.reshape(-1,1)\n",
    "        y_val = df_val['converted'].values.reshape(-1,1)\n",
    "\n",
    "        dv, model = train(df_train, y_train, C=C)\n",
    "        y_pred = predict(df_val, dv, model)\n",
    "\n",
    "        auc = roc_auc_score(y_val, y_pred)\n",
    "        aucs.append(round(auc,3))\n",
    "    \n",
    "    print(f'C={C} auc = {np.mean(aucs)} +- {np.std(aucs)}')"
   ]
  },
  {
   "cell_type": "markdown",
   "id": "80848d19",
   "metadata": {},
   "source": [
    "#### On test data"
   ]
  },
  {
   "cell_type": "code",
   "execution_count": 107,
   "id": "2200d070",
   "metadata": {},
   "outputs": [],
   "source": [
    "test_dict = test_X[cat+numerical].to_dict(orient='rows')"
   ]
  },
  {
   "cell_type": "code",
   "execution_count": 108,
   "id": "74a5efdf",
   "metadata": {},
   "outputs": [
    {
     "data": {
      "text/plain": [
       "{'what_is_your_current_occupation': 'Unemployed',\n",
       " 'last_activity': 'Email Link Clicked',\n",
       " 'lead_profile': 'Potential Lead',\n",
       " 'last_notable_activity': 'Modified',\n",
       " 'lead_source': 'Reference',\n",
       " 'what_matters_most_to_you_in_choosing_a_course': 'Better Career Prospects',\n",
       " 'lead_origin': 'Lead Add Form',\n",
       " 'specialization': 'Services Excellence',\n",
       " 'do_not_email': 'No',\n",
       " 'totalvisits': 0.0,\n",
       " 'total_time_spent_on_website': 0,\n",
       " 'page_views_per_visit': 0.0}"
      ]
     },
     "execution_count": 108,
     "metadata": {},
     "output_type": "execute_result"
    }
   ],
   "source": [
    "test_dict[0]"
   ]
  },
  {
   "cell_type": "code",
   "execution_count": 109,
   "id": "376bbbbb",
   "metadata": {},
   "outputs": [
    {
     "data": {
      "text/plain": [
       "<1x95 sparse matrix of type '<class 'numpy.float64'>'\n",
       "\twith 12 stored elements in Compressed Sparse Row format>"
      ]
     },
     "execution_count": 109,
     "metadata": {},
     "output_type": "execute_result"
    }
   ],
   "source": [
    "X_test = dv.transform(test_dict)\n",
    "X_test[0]"
   ]
  },
  {
   "cell_type": "code",
   "execution_count": 110,
   "id": "f54ef7e0",
   "metadata": {},
   "outputs": [
    {
     "data": {
      "text/plain": [
       "['do_not_email=No',\n",
       " 'do_not_email=Yes',\n",
       " 'last_activity=Approached upfront',\n",
       " 'last_activity=Converted to Lead',\n",
       " 'last_activity=Email Bounced',\n",
       " 'last_activity=Email Link Clicked',\n",
       " 'last_activity=Email Marked Spam',\n",
       " 'last_activity=Email Opened',\n",
       " 'last_activity=Email Received',\n",
       " 'last_activity=Form Submitted on Website',\n",
       " 'last_activity=Had a Phone Conversation',\n",
       " 'last_activity=Olark Chat Conversation',\n",
       " 'last_activity=Other',\n",
       " 'last_activity=Page Visited on Website',\n",
       " 'last_activity=Resubscribed to emails',\n",
       " 'last_activity=SMS Sent',\n",
       " 'last_activity=Unreachable',\n",
       " 'last_activity=Unsubscribed',\n",
       " 'last_activity=View in browser link Clicked',\n",
       " 'last_notable_activity=Approached upfront',\n",
       " 'last_notable_activity=Email Bounced',\n",
       " 'last_notable_activity=Email Link Clicked',\n",
       " 'last_notable_activity=Email Marked Spam',\n",
       " 'last_notable_activity=Email Opened',\n",
       " 'last_notable_activity=Email Received',\n",
       " 'last_notable_activity=Form Submitted on Website',\n",
       " 'last_notable_activity=Had a Phone Conversation',\n",
       " 'last_notable_activity=Modified',\n",
       " 'last_notable_activity=Olark Chat Conversation',\n",
       " 'last_notable_activity=Page Visited on Website',\n",
       " 'last_notable_activity=Resubscribed to emails',\n",
       " 'last_notable_activity=SMS Sent',\n",
       " 'last_notable_activity=Unreachable',\n",
       " 'last_notable_activity=Unsubscribed',\n",
       " 'last_notable_activity=View in browser link Clicked',\n",
       " 'lead_origin=API',\n",
       " 'lead_origin=Landing Page Submission',\n",
       " 'lead_origin=Lead Add Form',\n",
       " 'lead_origin=Lead Import',\n",
       " 'lead_origin=Quick Add Form',\n",
       " 'lead_profile=Dual Specialization Student',\n",
       " 'lead_profile=Lateral Student',\n",
       " 'lead_profile=Other Leads',\n",
       " 'lead_profile=Potential Lead',\n",
       " 'lead_profile=Select',\n",
       " 'lead_profile=Student of SomeSchool',\n",
       " 'lead_source=Click2call',\n",
       " 'lead_source=Direct Traffic',\n",
       " 'lead_source=Facebook',\n",
       " 'lead_source=Google',\n",
       " 'lead_source=Live Chat',\n",
       " 'lead_source=NC_EDM',\n",
       " 'lead_source=Olark Chat',\n",
       " 'lead_source=Organic Search',\n",
       " 'lead_source=Press_Release',\n",
       " 'lead_source=Reference',\n",
       " 'lead_source=Referral Sites',\n",
       " 'lead_source=Social Media',\n",
       " 'lead_source=WeLearn',\n",
       " 'lead_source=Welingak Website',\n",
       " 'lead_source=bing',\n",
       " 'lead_source=blog',\n",
       " 'lead_source=welearnblog_Home',\n",
       " 'lead_source=youtubechannel',\n",
       " 'page_views_per_visit',\n",
       " 'specialization=Banking, Investment And Insurance',\n",
       " 'specialization=Business Administration',\n",
       " 'specialization=E-Business',\n",
       " 'specialization=E-COMMERCE',\n",
       " 'specialization=Finance Management',\n",
       " 'specialization=Healthcare Management',\n",
       " 'specialization=Hospitality Management',\n",
       " 'specialization=Human Resource Management',\n",
       " 'specialization=IT Projects Management',\n",
       " 'specialization=International Business',\n",
       " 'specialization=Marketing Management',\n",
       " 'specialization=Media and Advertising',\n",
       " 'specialization=Operations Management',\n",
       " 'specialization=Retail Management',\n",
       " 'specialization=Rural and Agribusiness',\n",
       " 'specialization=Select',\n",
       " 'specialization=Services Excellence',\n",
       " 'specialization=Supply Chain Management',\n",
       " 'specialization=Travel and Tourism',\n",
       " 'total_time_spent_on_website',\n",
       " 'totalvisits',\n",
       " 'what_is_your_current_occupation=Businessman',\n",
       " 'what_is_your_current_occupation=Housewife',\n",
       " 'what_is_your_current_occupation=Other',\n",
       " 'what_is_your_current_occupation=Student',\n",
       " 'what_is_your_current_occupation=Unemployed',\n",
       " 'what_is_your_current_occupation=Working Professional',\n",
       " 'what_matters_most_to_you_in_choosing_a_course=Better Career Prospects',\n",
       " 'what_matters_most_to_you_in_choosing_a_course=Flexibility & Convenience',\n",
       " 'what_matters_most_to_you_in_choosing_a_course=Other']"
      ]
     },
     "execution_count": 110,
     "metadata": {},
     "output_type": "execute_result"
    }
   ],
   "source": [
    "dv.get_feature_names()"
   ]
  },
  {
   "cell_type": "code",
   "execution_count": 111,
   "id": "bd66dcc7",
   "metadata": {},
   "outputs": [],
   "source": [
    "preds_test = model.predict_proba(X_test)"
   ]
  },
  {
   "cell_type": "code",
   "execution_count": 112,
   "id": "c7e46ae9",
   "metadata": {},
   "outputs": [],
   "source": [
    "preds_test = preds_test[:,1]"
   ]
  },
  {
   "cell_type": "code",
   "execution_count": 113,
   "id": "f07e7e24",
   "metadata": {},
   "outputs": [
    {
     "data": {
      "text/plain": [
       "array([0.88725232, 0.91077504, 0.50947247, 0.13281372, 0.80203183])"
      ]
     },
     "execution_count": 113,
     "metadata": {},
     "output_type": "execute_result"
    }
   ],
   "source": [
    "preds_test[:5]"
   ]
  },
  {
   "cell_type": "code",
   "execution_count": 114,
   "id": "28631426",
   "metadata": {},
   "outputs": [],
   "source": [
    "pred_test =  (preds_test>0.5).astype(int).reshape(-1,1)"
   ]
  },
  {
   "cell_type": "code",
   "execution_count": 115,
   "id": "5d212b59",
   "metadata": {},
   "outputs": [
    {
     "data": {
      "text/plain": [
       "array([[1],\n",
       "       [1],\n",
       "       [1],\n",
       "       [0],\n",
       "       [1]])"
      ]
     },
     "execution_count": 115,
     "metadata": {},
     "output_type": "execute_result"
    }
   ],
   "source": [
    "pred_test[:5]"
   ]
  },
  {
   "cell_type": "code",
   "execution_count": 116,
   "id": "ec63d42e",
   "metadata": {},
   "outputs": [
    {
     "data": {
      "text/plain": [
       "0.8387445887445888"
      ]
     },
     "execution_count": 116,
     "metadata": {},
     "output_type": "execute_result"
    }
   ],
   "source": [
    "(pred_test==test_y).mean()"
   ]
  },
  {
   "cell_type": "markdown",
   "id": "2a8e2927",
   "metadata": {},
   "source": [
    "Here, there is also 84% accuray of our model."
   ]
  },
  {
   "cell_type": "code",
   "execution_count": 117,
   "id": "a60fc848",
   "metadata": {},
   "outputs": [],
   "source": [
    "t = 0.4\n",
    "\n",
    "predict_convert_t = (preds_test>=t).reshape(-1,1)\n",
    "predict_no_convert_t = (preds_test<t).reshape(-1,1)\n",
    "\n",
    "actual_convert_t = (test_y==1)\n",
    "actual_no_convert_t = (test_y==0)\n",
    "\n",
    "true_positive_t = (predict_convert_t & actual_convert_t).sum()\n",
    "true_negative_t = (predict_no_convert_t & actual_no_convert_t).sum()\n",
    "\n",
    "false_positive_t = (predict_convert_t & actual_no_convert_t).sum()\n",
    "false_negative_t = (predict_no_convert_t & actual_convert_t).sum()"
   ]
  },
  {
   "cell_type": "code",
   "execution_count": 118,
   "id": "3718bdbb",
   "metadata": {},
   "outputs": [
    {
     "name": "stdout",
     "output_type": "stream",
     "text": [
      "Confussion Table:\n",
      "[[949 170]\n",
      " [137 592]]\n"
     ]
    }
   ],
   "source": [
    "confussion_table_t = np.array([[true_negative_t, false_positive_t],[false_negative_t,true_positive_t]])\n",
    "print(f'Confussion Table:\\n{confussion_table_t}')"
   ]
  },
  {
   "cell_type": "code",
   "execution_count": 119,
   "id": "7d455d0c",
   "metadata": {},
   "outputs": [
    {
     "data": {
      "text/plain": [
       "array([[0.51352814, 0.09199134],\n",
       "       [0.0741342 , 0.32034632]])"
      ]
     },
     "execution_count": 119,
     "metadata": {},
     "output_type": "execute_result"
    }
   ],
   "source": [
    "confussion_table_t/confussion_table_t.sum()"
   ]
  },
  {
   "cell_type": "code",
   "execution_count": 120,
   "id": "721d4d7f",
   "metadata": {},
   "outputs": [
    {
     "name": "stdout",
     "output_type": "stream",
     "text": [
      "Precision: 0.7769028871391076\n",
      "Recall: 0.8120713305898491\n"
     ]
    }
   ],
   "source": [
    "P_t = true_positive_t/(true_positive_t+false_positive_t)\n",
    "R_t = true_positive_t/(true_positive_t+false_negative_t)\n",
    "print(f'Precision: {P_t}\\nRecall: {R_t}')"
   ]
  },
  {
   "cell_type": "code",
   "execution_count": 121,
   "id": "4ec1620f",
   "metadata": {},
   "outputs": [
    {
     "data": {
      "text/html": [
       "<div>\n",
       "<style scoped>\n",
       "    .dataframe tbody tr th:only-of-type {\n",
       "        vertical-align: middle;\n",
       "    }\n",
       "\n",
       "    .dataframe tbody tr th {\n",
       "        vertical-align: top;\n",
       "    }\n",
       "\n",
       "    .dataframe thead th {\n",
       "        text-align: right;\n",
       "    }\n",
       "</style>\n",
       "<table border=\"1\" class=\"dataframe\">\n",
       "  <thead>\n",
       "    <tr style=\"text-align: right;\">\n",
       "      <th></th>\n",
       "      <th>thresholds</th>\n",
       "      <th>tp</th>\n",
       "      <th>fp</th>\n",
       "      <th>fn</th>\n",
       "      <th>tn</th>\n",
       "      <th>tpr</th>\n",
       "      <th>fpr</th>\n",
       "    </tr>\n",
       "  </thead>\n",
       "  <tbody>\n",
       "    <tr>\n",
       "      <th>0</th>\n",
       "      <td>0.0</td>\n",
       "      <td>729</td>\n",
       "      <td>1119</td>\n",
       "      <td>0</td>\n",
       "      <td>0</td>\n",
       "      <td>1.000000</td>\n",
       "      <td>1.000000</td>\n",
       "    </tr>\n",
       "    <tr>\n",
       "      <th>10</th>\n",
       "      <td>0.1</td>\n",
       "      <td>716</td>\n",
       "      <td>630</td>\n",
       "      <td>13</td>\n",
       "      <td>489</td>\n",
       "      <td>0.982167</td>\n",
       "      <td>0.563003</td>\n",
       "    </tr>\n",
       "    <tr>\n",
       "      <th>20</th>\n",
       "      <td>0.2</td>\n",
       "      <td>688</td>\n",
       "      <td>347</td>\n",
       "      <td>41</td>\n",
       "      <td>772</td>\n",
       "      <td>0.943759</td>\n",
       "      <td>0.310098</td>\n",
       "    </tr>\n",
       "    <tr>\n",
       "      <th>30</th>\n",
       "      <td>0.3</td>\n",
       "      <td>640</td>\n",
       "      <td>248</td>\n",
       "      <td>89</td>\n",
       "      <td>871</td>\n",
       "      <td>0.877915</td>\n",
       "      <td>0.221626</td>\n",
       "    </tr>\n",
       "    <tr>\n",
       "      <th>40</th>\n",
       "      <td>0.4</td>\n",
       "      <td>592</td>\n",
       "      <td>170</td>\n",
       "      <td>137</td>\n",
       "      <td>949</td>\n",
       "      <td>0.812071</td>\n",
       "      <td>0.151921</td>\n",
       "    </tr>\n",
       "    <tr>\n",
       "      <th>50</th>\n",
       "      <td>0.5</td>\n",
       "      <td>547</td>\n",
       "      <td>116</td>\n",
       "      <td>182</td>\n",
       "      <td>1003</td>\n",
       "      <td>0.750343</td>\n",
       "      <td>0.103664</td>\n",
       "    </tr>\n",
       "    <tr>\n",
       "      <th>60</th>\n",
       "      <td>0.6</td>\n",
       "      <td>488</td>\n",
       "      <td>70</td>\n",
       "      <td>241</td>\n",
       "      <td>1049</td>\n",
       "      <td>0.669410</td>\n",
       "      <td>0.062556</td>\n",
       "    </tr>\n",
       "    <tr>\n",
       "      <th>70</th>\n",
       "      <td>0.7</td>\n",
       "      <td>433</td>\n",
       "      <td>51</td>\n",
       "      <td>296</td>\n",
       "      <td>1068</td>\n",
       "      <td>0.593964</td>\n",
       "      <td>0.045576</td>\n",
       "    </tr>\n",
       "    <tr>\n",
       "      <th>80</th>\n",
       "      <td>0.8</td>\n",
       "      <td>331</td>\n",
       "      <td>21</td>\n",
       "      <td>398</td>\n",
       "      <td>1098</td>\n",
       "      <td>0.454047</td>\n",
       "      <td>0.018767</td>\n",
       "    </tr>\n",
       "    <tr>\n",
       "      <th>90</th>\n",
       "      <td>0.9</td>\n",
       "      <td>226</td>\n",
       "      <td>5</td>\n",
       "      <td>503</td>\n",
       "      <td>1114</td>\n",
       "      <td>0.310014</td>\n",
       "      <td>0.004468</td>\n",
       "    </tr>\n",
       "    <tr>\n",
       "      <th>100</th>\n",
       "      <td>1.0</td>\n",
       "      <td>0</td>\n",
       "      <td>0</td>\n",
       "      <td>729</td>\n",
       "      <td>1119</td>\n",
       "      <td>0.000000</td>\n",
       "      <td>0.000000</td>\n",
       "    </tr>\n",
       "  </tbody>\n",
       "</table>\n",
       "</div>"
      ],
      "text/plain": [
       "     thresholds   tp    fp   fn    tn       tpr       fpr\n",
       "0           0.0  729  1119    0     0  1.000000  1.000000\n",
       "10          0.1  716   630   13   489  0.982167  0.563003\n",
       "20          0.2  688   347   41   772  0.943759  0.310098\n",
       "30          0.3  640   248   89   871  0.877915  0.221626\n",
       "40          0.4  592   170  137   949  0.812071  0.151921\n",
       "50          0.5  547   116  182  1003  0.750343  0.103664\n",
       "60          0.6  488    70  241  1049  0.669410  0.062556\n",
       "70          0.7  433    51  296  1068  0.593964  0.045576\n",
       "80          0.8  331    21  398  1098  0.454047  0.018767\n",
       "90          0.9  226     5  503  1114  0.310014  0.004468\n",
       "100         1.0    0     0  729  1119  0.000000  0.000000"
      ]
     },
     "execution_count": 121,
     "metadata": {},
     "output_type": "execute_result"
    }
   ],
   "source": [
    "df_scores_t = tpr_fpr_dataframe(test_y, preds_test.reshape(-1,1))\n",
    "df_scores_t[::10]"
   ]
  },
  {
   "cell_type": "code",
   "execution_count": 122,
   "id": "c0d580ef",
   "metadata": {},
   "outputs": [],
   "source": [
    "fpr_t, tpr_t, thresholds_t = roc_curve(test_y, preds_test.reshape(-1,1))"
   ]
  },
  {
   "cell_type": "code",
   "execution_count": 126,
   "id": "2a34f0f8",
   "metadata": {},
   "outputs": [
    {
     "name": "stdout",
     "output_type": "stream",
     "text": [
      "auc = 0.9145897461357695\n"
     ]
    }
   ],
   "source": [
    "y_train = train_full['converted'].values.reshape(-1,1)\n",
    "\n",
    "dv, model = train(train_full, y_train, C=0.001)\n",
    "y_pred = predict(test_X, dv, model)\n",
    "\n",
    "auc = roc_auc_score(test_y, y_pred.reshape(-1,1))\n",
    "\n",
    "print(f'auc = {auc}')"
   ]
  },
  {
   "cell_type": "code",
   "execution_count": 127,
   "id": "9e879eb2",
   "metadata": {},
   "outputs": [],
   "source": [
    "def predict_single(costumer, dv, model):\n",
    "    X = dv.transform([costumer])\n",
    "    y_pred = model.predict_proba(X)[:,1]\n",
    "    return y_pred[0]"
   ]
  },
  {
   "cell_type": "code",
   "execution_count": 140,
   "id": "243ffa67",
   "metadata": {},
   "outputs": [
    {
     "data": {
      "text/plain": [
       "{'what_is_your_current_occupation': 'Unemployed',\n",
       " 'last_activity': 'Email Link Clicked',\n",
       " 'lead_profile': 'Potential Lead',\n",
       " 'last_notable_activity': 'Modified',\n",
       " 'lead_source': 'Reference',\n",
       " 'what_matters_most_to_you_in_choosing_a_course': 'Better Career Prospects',\n",
       " 'lead_origin': 'Lead Add Form',\n",
       " 'specialization': 'Services Excellence',\n",
       " 'do_not_email': 'No',\n",
       " 'totalvisits': 0.0,\n",
       " 'total_time_spent_on_website': 0,\n",
       " 'page_views_per_visit': 0.0}"
      ]
     },
     "execution_count": 140,
     "metadata": {},
     "output_type": "execute_result"
    }
   ],
   "source": [
    "costumer = dict(test_X[cat+numerical].iloc[0,:])\n",
    "costumer"
   ]
  },
  {
   "cell_type": "code",
   "execution_count": 141,
   "id": "6d00fc1a",
   "metadata": {},
   "outputs": [
    {
     "data": {
      "text/plain": [
       "0.8959453906284116"
      ]
     },
     "execution_count": 141,
     "metadata": {},
     "output_type": "execute_result"
    }
   ],
   "source": [
    "predict_single(costumer, dv, model)"
   ]
  },
  {
   "cell_type": "code",
   "execution_count": 145,
   "id": "59fda9de",
   "metadata": {},
   "outputs": [],
   "source": [
    "import pickle\n",
    "\n",
    "with open('converting-model.bin', 'wb') as f_out:\n",
    "    pickle.dump((dv, model),f_out)"
   ]
  },
  {
   "cell_type": "code",
   "execution_count": 146,
   "id": "45faa1fd",
   "metadata": {},
   "outputs": [],
   "source": [
    "with open('converting-model.bin', 'rb') as f_in:\n",
    "    dv, model = pickle.load(f_in)"
   ]
  },
  {
   "cell_type": "code",
   "execution_count": 147,
   "id": "ab51992c",
   "metadata": {},
   "outputs": [],
   "source": [
    "prediction = predict_single(costumer, dv, model)"
   ]
  },
  {
   "cell_type": "code",
   "execution_count": 148,
   "id": "3f064dac",
   "metadata": {},
   "outputs": [
    {
     "data": {
      "text/plain": [
       "0.8959453906284116"
      ]
     },
     "execution_count": 148,
     "metadata": {},
     "output_type": "execute_result"
    }
   ],
   "source": [
    "prediction"
   ]
  },
  {
   "cell_type": "code",
   "execution_count": null,
   "id": "bdcb2a05",
   "metadata": {},
   "outputs": [],
   "source": []
  }
 ],
 "metadata": {
  "kernelspec": {
   "display_name": "Python 3 (ipykernel)",
   "language": "python",
   "name": "python3"
  },
  "language_info": {
   "codemirror_mode": {
    "name": "ipython",
    "version": 3
   },
   "file_extension": ".py",
   "mimetype": "text/x-python",
   "name": "python",
   "nbconvert_exporter": "python",
   "pygments_lexer": "ipython3",
   "version": "3.8.1"
  }
 },
 "nbformat": 4,
 "nbformat_minor": 5
}
